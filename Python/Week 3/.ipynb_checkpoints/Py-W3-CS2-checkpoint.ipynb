{
 "cells": [
  {
   "cell_type": "markdown",
   "id": "a638e7cc",
   "metadata": {},
   "source": [
    "## Python Case Study 2 - Week 3\n",
    "### Shahin Mammadov"
   ]
  },
  {
   "cell_type": "markdown",
   "id": "d63d7c79",
   "metadata": {},
   "source": [
    "1. Create Car Class that has 3 class attributes: year, mpg and speed.\n",
    "2. Create 2 methods for the Car class:\n",
    " Accelerate and break where the speed of the car changes when this methods are called.\n"
   ]
  },
  {
   "cell_type": "code",
   "execution_count": 29,
   "id": "7e9de44f",
   "metadata": {},
   "outputs": [
    {
     "data": {
      "text/plain": [
       "2005"
      ]
     },
     "execution_count": 29,
     "metadata": {},
     "output_type": "execute_result"
    }
   ],
   "source": [
    "class Car:\n",
    "    year = 2005\n",
    "    mpg = 28\n",
    "    speed = 50\n",
    "    \n",
    "    def accelerate(Car):\n",
    "        Car.speed = 100\n",
    "        \n",
    "    def breaking(Car):\n",
    "        Car.speed = 0\n",
    "        \n",
    "mercedes = Car()\n",
    "mercedes.year"
   ]
  },
  {
   "cell_type": "markdown",
   "id": "32d1d5e9",
   "metadata": {},
   "source": [
    "3. Change all class attributes to instance attributes."
   ]
  },
  {
   "cell_type": "code",
   "execution_count": 30,
   "id": "908474b7",
   "metadata": {},
   "outputs": [
    {
     "data": {
      "text/plain": [
       "2012"
      ]
     },
     "execution_count": 30,
     "metadata": {},
     "output_type": "execute_result"
    }
   ],
   "source": [
    "class Car:\n",
    "    def __init__(self, year, mpg, speed):\n",
    "        self.year = year\n",
    "        self.mpg = mpg\n",
    "        self.speed = speed\n",
    "    \n",
    "    def accelerate(self):\n",
    "        self.speed = 100\n",
    "        \n",
    "    def breaking(self):\n",
    "        self.speed = 0\n",
    "        \n",
    "bmw = Car(2012, 28, 45)\n",
    "bmw.year"
   ]
  },
  {
   "cell_type": "markdown",
   "id": "287a7dee",
   "metadata": {},
   "source": [
    "4. Create a class vehicle and create inheritance between car and vehicle"
   ]
  },
  {
   "cell_type": "code",
   "execution_count": 31,
   "id": "4a72346a",
   "metadata": {},
   "outputs": [],
   "source": [
    "class Vehicle(Car):\n",
    "    def __init__(self, year, mpg, speed, colour):\n",
    "        super().__init__(year, mpg, speed)\n",
    "        self.colour = colour"
   ]
  },
  {
   "cell_type": "code",
   "execution_count": 32,
   "id": "9616df96",
   "metadata": {},
   "outputs": [
    {
     "name": "stdout",
     "output_type": "stream",
     "text": [
      "77\n",
      "red\n"
     ]
    }
   ],
   "source": [
    "hyundai = Vehicle(2006, 30, 77, 'red')\n",
    "print(hyundai.speed)\n",
    "print(hyundai.colour)"
   ]
  },
  {
   "cell_type": "markdown",
   "id": "08e28e5f",
   "metadata": {},
   "source": [
    "5. Create a new class bus which has the same methods as car and inherits from Vehicle."
   ]
  },
  {
   "cell_type": "code",
   "execution_count": 33,
   "id": "7f352832",
   "metadata": {},
   "outputs": [],
   "source": [
    "class Bus(Vehicle):\n",
    "    def __init__(self, year, mpg, speed, colour, seats):\n",
    "        super().__init__(year, mpg, speed, colour)\n",
    "        self.seats = seats\n",
    "    def accelerate(Car):\n",
    "        Car.speed = 100\n",
    "        \n",
    "    def breaking(Car):\n",
    "        Car.speed = 0"
   ]
  },
  {
   "cell_type": "code",
   "execution_count": 34,
   "id": "a524219d",
   "metadata": {},
   "outputs": [],
   "source": [
    "buss = Bus(2001, 15, 45, 'white', 45)"
   ]
  },
  {
   "cell_type": "code",
   "execution_count": 28,
   "id": "2b190c2a",
   "metadata": {},
   "outputs": [
    {
     "data": {
      "text/plain": [
       "100"
      ]
     },
     "execution_count": 28,
     "metadata": {},
     "output_type": "execute_result"
    }
   ],
   "source": [
    "buss.accelerate()\n",
    "buss.speed"
   ]
  },
  {
   "cell_type": "markdown",
   "id": "7f5bce20",
   "metadata": {},
   "source": [
    "6. Change some of the instance attributes to the private attributes."
   ]
  },
  {
   "cell_type": "code",
   "execution_count": 47,
   "id": "3f4cd6af",
   "metadata": {},
   "outputs": [],
   "source": [
    "class Bus(Vehicle):\n",
    "    def __init__(self, year, mpg, speed, colour, seats):\n",
    "        super().__init__(year, mpg, speed, colour)\n",
    "        self.__seats = seats\n",
    "    def describe(self):\n",
    "        print(\"Year: \" + str(self.year))\n",
    "        print(\"MPG: \" + str(self.mpg))\n",
    "        print(\"Speed: \" + str(self.speed))\n",
    "        print(\"Colour: \" + self.colour)\n",
    "        print(\"Seats: \" + str(self.__seats))\n",
    "        "
   ]
  },
  {
   "cell_type": "code",
   "execution_count": 50,
   "id": "2145effd",
   "metadata": {},
   "outputs": [
    {
     "ename": "AttributeError",
     "evalue": "'Bus' object has no attribute '__seats'",
     "output_type": "error",
     "traceback": [
      "\u001b[1;31m---------------------------------------------------------------------------\u001b[0m",
      "\u001b[1;31mAttributeError\u001b[0m                            Traceback (most recent call last)",
      "\u001b[1;32mC:\\Users\\SHAHIN~1\\AppData\\Local\\Temp/ipykernel_15324/1879537915.py\u001b[0m in \u001b[0;36m<module>\u001b[1;34m\u001b[0m\n\u001b[0;32m      1\u001b[0m \u001b[0mtest\u001b[0m \u001b[1;33m=\u001b[0m \u001b[0mBus\u001b[0m\u001b[1;33m(\u001b[0m\u001b[1;36m2001\u001b[0m\u001b[1;33m,\u001b[0m \u001b[1;36m15\u001b[0m\u001b[1;33m,\u001b[0m \u001b[1;36m45\u001b[0m\u001b[1;33m,\u001b[0m \u001b[1;34m'white'\u001b[0m\u001b[1;33m,\u001b[0m \u001b[1;36m45\u001b[0m\u001b[1;33m)\u001b[0m\u001b[1;33m\u001b[0m\u001b[1;33m\u001b[0m\u001b[0m\n\u001b[0;32m      2\u001b[0m \u001b[1;33m\u001b[0m\u001b[0m\n\u001b[1;32m----> 3\u001b[1;33m \u001b[0mtest\u001b[0m\u001b[1;33m.\u001b[0m\u001b[0m__seats\u001b[0m\u001b[1;33m\u001b[0m\u001b[1;33m\u001b[0m\u001b[0m\n\u001b[0m",
      "\u001b[1;31mAttributeError\u001b[0m: 'Bus' object has no attribute '__seats'"
     ]
    }
   ],
   "source": [
    "test = Bus(2001, 15, 45, 'white', 45)\n",
    "\n",
    "test.__seats"
   ]
  },
  {
   "cell_type": "code",
   "execution_count": 51,
   "id": "48dd5f28",
   "metadata": {},
   "outputs": [
    {
     "ename": "AttributeError",
     "evalue": "'Bus' object has no attribute 'seats'",
     "output_type": "error",
     "traceback": [
      "\u001b[1;31m---------------------------------------------------------------------------\u001b[0m",
      "\u001b[1;31mAttributeError\u001b[0m                            Traceback (most recent call last)",
      "\u001b[1;32mC:\\Users\\SHAHIN~1\\AppData\\Local\\Temp/ipykernel_15324/223380450.py\u001b[0m in \u001b[0;36m<module>\u001b[1;34m\u001b[0m\n\u001b[1;32m----> 1\u001b[1;33m \u001b[0mtest\u001b[0m\u001b[1;33m.\u001b[0m\u001b[0mseats\u001b[0m\u001b[1;33m\u001b[0m\u001b[1;33m\u001b[0m\u001b[0m\n\u001b[0m",
      "\u001b[1;31mAttributeError\u001b[0m: 'Bus' object has no attribute 'seats'"
     ]
    }
   ],
   "source": [
    "test.seats"
   ]
  },
  {
   "cell_type": "code",
   "execution_count": 52,
   "id": "401ae97f",
   "metadata": {},
   "outputs": [
    {
     "name": "stdout",
     "output_type": "stream",
     "text": [
      "Year: 2001\n",
      "MPG: 15\n",
      "Speed: 45\n",
      "Colour: white\n",
      "Seats: 45\n"
     ]
    }
   ],
   "source": [
    "test.describe()"
   ]
  }
 ],
 "metadata": {
  "kernelspec": {
   "display_name": "Python 3 (ipykernel)",
   "language": "python",
   "name": "python3"
  },
  "language_info": {
   "codemirror_mode": {
    "name": "ipython",
    "version": 3
   },
   "file_extension": ".py",
   "mimetype": "text/x-python",
   "name": "python",
   "nbconvert_exporter": "python",
   "pygments_lexer": "ipython3",
   "version": "3.9.7"
  }
 },
 "nbformat": 4,
 "nbformat_minor": 5
}
