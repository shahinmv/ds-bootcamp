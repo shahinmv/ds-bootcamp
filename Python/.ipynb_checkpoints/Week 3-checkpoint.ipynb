{
 "cells": [
  {
   "cell_type": "markdown",
   "id": "d0a335b2",
   "metadata": {},
   "source": [
    "## Python Homework 1 - Week 2 \n",
    "### Shahin Mammadov"
   ]
  },
  {
   "cell_type": "markdown",
   "id": "ffffee7b",
   "metadata": {},
   "source": [
    "1. Create a Vehicle class with maxspeed and color instance attributes.\n",
    "2. Create new method which prints maxspeed and the color for the given vehicle."
   ]
  },
  {
   "cell_type": "code",
   "execution_count": 7,
   "id": "5d683505",
   "metadata": {},
   "outputs": [
    {
     "name": "stdout",
     "output_type": "stream",
     "text": [
      "Max speed: 150\n",
      "Color: red\n"
     ]
    }
   ],
   "source": [
    "class Vehicle():\n",
    "    def __init__(self, maxspeed, color):\n",
    "        self.maxspeed = maxspeed\n",
    "        self.color = color\n",
    "    def print_info(self):\n",
    "        print(\"Max speed: \" + str(self.maxspeed))\n",
    "        print(\"Color: \" + self.color)\n",
    "        \n",
    "mercedes = Vehicle(150, 'red')\n",
    "mercedes.print_info()"
   ]
  },
  {
   "cell_type": "markdown",
   "id": "6be6d172",
   "metadata": {},
   "source": [
    "3. Create child class Car that will inherit all of the variables and methods of the\n",
    "Vehicle class."
   ]
  },
  {
   "cell_type": "code",
   "execution_count": 9,
   "id": "5136047f",
   "metadata": {},
   "outputs": [
    {
     "name": "stdout",
     "output_type": "stream",
     "text": [
      "Max speed: 160\n",
      "Color: white\n"
     ]
    }
   ],
   "source": [
    "class Car(Vehicle):\n",
    "    pass\n",
    "\n",
    "bmw = Car(160, 'white')\n",
    "bmw.print_info()"
   ]
  },
  {
   "cell_type": "markdown",
   "id": "b064b9f1",
   "metadata": {},
   "source": [
    "4. Define property that should have the same value for every class instance.\n",
    "Example : Every Vehicle should be white."
   ]
  },
  {
   "cell_type": "code",
   "execution_count": 10,
   "id": "f8888573",
   "metadata": {},
   "outputs": [
    {
     "name": "stdout",
     "output_type": "stream",
     "text": [
      "Max speed: 150\n",
      "Color: white\n",
      "Max speed: 100\n",
      "Color: white\n"
     ]
    }
   ],
   "source": [
    "class Vehicle_2():\n",
    "    color = 'white'\n",
    "    \n",
    "    def __init__(self, maxspeed):\n",
    "        self.maxspeed = maxspeed\n",
    "    def print_info(self):\n",
    "        print(\"Max speed: \" + str(self.maxspeed))\n",
    "        print(\"Color: \" + self.color)\n",
    "        \n",
    "car1 = Vehicle_2(150)\n",
    "car2 = Vehicle_2(100)\n",
    "\n",
    "car1.print_info()\n",
    "car2.print_info()"
   ]
  },
  {
   "cell_type": "markdown",
   "id": "53d81274",
   "metadata": {},
   "source": [
    "5. Create a Train child class that inherits from the Vehicle class. The default fare of\n",
    "any vehicle is seating capacity * 35. If Vehicle is Train instance, we need to add\n",
    "an extra 10% on full fare as a maintenance charge."
   ]
  },
  {
   "cell_type": "code",
   "execution_count": 14,
   "id": "04a8f674",
   "metadata": {},
   "outputs": [
    {
     "data": {
      "text/plain": [
       "1925.0"
      ]
     },
     "execution_count": 14,
     "metadata": {},
     "output_type": "execute_result"
    }
   ],
   "source": [
    "class Vehicle_3():\n",
    "    def __init__(self, capacity):\n",
    "        self.capacity = capacity\n",
    "        \n",
    "    def fare(self):\n",
    "        return self.capacity * 35\n",
    "    \n",
    "class Train(Vehicle_3):\n",
    "    def fare(self):\n",
    "        return super().fare() * 1.1\n",
    "    \n",
    "train = Train(50)\n",
    "round(train.fare(), 2)"
   ]
  },
  {
   "cell_type": "markdown",
   "id": "d193b56e",
   "metadata": {},
   "source": [
    "6. Determine which class a given car and train object belongs to ."
   ]
  },
  {
   "cell_type": "code",
   "execution_count": 16,
   "id": "0e18c7f1",
   "metadata": {},
   "outputs": [
    {
     "name": "stdout",
     "output_type": "stream",
     "text": [
      "<class '__main__.Train'>\n",
      "<class '__main__.Vehicle'>\n"
     ]
    }
   ],
   "source": [
    "print(type(train))\n",
    "print(type(mercedes))"
   ]
  }
 ],
 "metadata": {
  "kernelspec": {
   "display_name": "Python 3 (ipykernel)",
   "language": "python",
   "name": "python3"
  },
  "language_info": {
   "codemirror_mode": {
    "name": "ipython",
    "version": 3
   },
   "file_extension": ".py",
   "mimetype": "text/x-python",
   "name": "python",
   "nbconvert_exporter": "python",
   "pygments_lexer": "ipython3",
   "version": "3.9.7"
  }
 },
 "nbformat": 4,
 "nbformat_minor": 5
}
