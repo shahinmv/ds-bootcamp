{
 "cells": [
  {
   "cell_type": "markdown",
   "id": "d0ed68ae",
   "metadata": {},
   "source": [
    "## Python CS 1 - Week 2 \n",
    "### Shahin Mammadov"
   ]
  },
  {
   "cell_type": "code",
   "execution_count": 1,
   "id": "7eb5c37d",
   "metadata": {},
   "outputs": [],
   "source": [
    "import numpy as np"
   ]
  },
  {
   "cell_type": "markdown",
   "id": "f81d8c22",
   "metadata": {},
   "source": [
    "1) Create an array of 20 linearly spaced points between 0 and 1."
   ]
  },
  {
   "cell_type": "code",
   "execution_count": 2,
   "id": "5447c9c3",
   "metadata": {},
   "outputs": [
    {
     "data": {
      "text/plain": [
       "array([0.        , 0.05263158, 0.10526316, 0.15789474, 0.21052632,\n",
       "       0.26315789, 0.31578947, 0.36842105, 0.42105263, 0.47368421,\n",
       "       0.52631579, 0.57894737, 0.63157895, 0.68421053, 0.73684211,\n",
       "       0.78947368, 0.84210526, 0.89473684, 0.94736842, 1.        ])"
      ]
     },
     "execution_count": 2,
     "metadata": {},
     "output_type": "execute_result"
    }
   ],
   "source": [
    "np.linspace(0,1,20)"
   ]
  },
  {
   "cell_type": "markdown",
   "id": "db8bb6a2",
   "metadata": {},
   "source": [
    "2) Create a 5x5 matrix from 1 to 25 and sum the columns' numbers."
   ]
  },
  {
   "cell_type": "code",
   "execution_count": 8,
   "id": "faf54a2c",
   "metadata": {},
   "outputs": [
    {
     "data": {
      "text/plain": [
       "array([55, 60, 65, 70, 75])"
      ]
     },
     "execution_count": 8,
     "metadata": {},
     "output_type": "execute_result"
    }
   ],
   "source": [
    "np.arange(1, 26).reshape(5, 5).sum(axis=0)"
   ]
  },
  {
   "cell_type": "markdown",
   "id": "597b545b",
   "metadata": {},
   "source": [
    "3) Create the following matrix."
   ]
  },
  {
   "cell_type": "code",
   "execution_count": 13,
   "id": "60b57f44",
   "metadata": {},
   "outputs": [
    {
     "data": {
      "text/plain": [
       "array([[0.01, 0.02, 0.03, 0.04, 0.05, 0.06, 0.07, 0.08, 0.09, 0.1 ],\n",
       "       [0.11, 0.12, 0.13, 0.14, 0.15, 0.16, 0.17, 0.18, 0.19, 0.2 ],\n",
       "       [0.21, 0.22, 0.23, 0.24, 0.25, 0.26, 0.27, 0.28, 0.29, 0.3 ],\n",
       "       [0.31, 0.32, 0.33, 0.34, 0.35, 0.36, 0.37, 0.38, 0.39, 0.4 ],\n",
       "       [0.41, 0.42, 0.43, 0.44, 0.45, 0.46, 0.47, 0.48, 0.49, 0.5 ],\n",
       "       [0.51, 0.52, 0.53, 0.54, 0.55, 0.56, 0.57, 0.58, 0.59, 0.6 ],\n",
       "       [0.61, 0.62, 0.63, 0.64, 0.65, 0.66, 0.67, 0.68, 0.69, 0.7 ],\n",
       "       [0.71, 0.72, 0.73, 0.74, 0.75, 0.76, 0.77, 0.78, 0.79, 0.8 ],\n",
       "       [0.81, 0.82, 0.83, 0.84, 0.85, 0.86, 0.87, 0.88, 0.89, 0.9 ],\n",
       "       [0.91, 0.92, 0.93, 0.94, 0.95, 0.96, 0.97, 0.98, 0.99, 1.  ]])"
      ]
     },
     "execution_count": 13,
     "metadata": {},
     "output_type": "execute_result"
    }
   ],
   "source": [
    "np.arange(0.01, 1.01, 0.01).reshape(10, 10)"
   ]
  },
  {
   "cell_type": "code",
   "execution_count": 15,
   "id": "0078dd11",
   "metadata": {},
   "outputs": [
    {
     "data": {
      "text/plain": [
       "array([(b'Behram', b'Abbasov', 26, 85.),\n",
       "       (b'Yusif', b'Abdullayev', 22, 92.),\n",
       "       (b'Maryam', b'Mecidova', 19, 88.),\n",
       "       (b'Vagif', b'Hesenzade', 24, 79.)],\n",
       "      dtype=[('name', 'S20'), ('surname', 'S20'), ('age', 'i1'), ('mark', '<f4')])"
      ]
     },
     "execution_count": 15,
     "metadata": {},
     "output_type": "execute_result"
    }
   ],
   "source": [
    "np.array([('Behram', 'Abbasov', 26, 85),\n",
    "           ('Yusif', 'Abdullayev', 22, 92),\n",
    "           ('Maryam', 'Mecidova', 19, 88),\n",
    "           ('Vagif', 'Hesenzade', 24, 79)],\n",
    "           dtype=[('name', 'S20'), ('surname', 'S20'), ('age', 'i1'), ('mark', 'f4')])"
   ]
  },
  {
   "cell_type": "markdown",
   "id": "e0d67700",
   "metadata": {},
   "source": [
    "5) Create the following array."
   ]
  },
  {
   "cell_type": "code",
   "execution_count": 31,
   "id": "cf4f595c",
   "metadata": {},
   "outputs": [
    {
     "data": {
      "text/plain": [
       "array([[99, 99, 99, 99, 99, 99, 99, 99, 99, 99],\n",
       "       [99,  1,  0,  0,  0,  0,  0,  0,  0, 99],\n",
       "       [99,  0,  1,  1,  1,  1,  1,  1,  0, 99],\n",
       "       [99,  0,  1,  0,  0,  0,  0,  1,  0, 99],\n",
       "       [99,  0,  1,  0,  1,  1,  0,  1,  0, 99],\n",
       "       [99,  0,  1,  0,  1,  1,  0,  1,  0, 99],\n",
       "       [99,  0,  1,  0,  0,  0,  0,  1,  0, 99],\n",
       "       [99,  0,  1,  1,  1,  1,  1,  1,  0, 99],\n",
       "       [99,  0,  0,  0,  0,  0,  0,  0,  1, 99],\n",
       "       [99, 99, 99, 99, 99, 99, 99, 99, 99, 99]])"
      ]
     },
     "execution_count": 31,
     "metadata": {},
     "output_type": "execute_result"
    }
   ],
   "source": [
    "temp = np.full((10, 10), 99)\n",
    "temp[1:9, 1:9] = 0\n",
    "np.fill_diagonal(temp[1:9, 1:9], 1)\n",
    "temp[2:8, 2:8] = 1\n",
    "temp[3:7, 3:7] = 0\n",
    "temp[4:6, 4:6] = 1\n",
    "temp"
   ]
  }
 ],
 "metadata": {
  "kernelspec": {
   "display_name": "Python 3 (ipykernel)",
   "language": "python",
   "name": "python3"
  },
  "language_info": {
   "codemirror_mode": {
    "name": "ipython",
    "version": 3
   },
   "file_extension": ".py",
   "mimetype": "text/x-python",
   "name": "python",
   "nbconvert_exporter": "python",
   "pygments_lexer": "ipython3",
   "version": "3.9.7"
  }
 },
 "nbformat": 4,
 "nbformat_minor": 5
}
