{
 "cells": [
  {
   "cell_type": "markdown",
   "id": "1863749c",
   "metadata": {},
   "source": [
    "## Python Homework 1 - Week 2 \n",
    "### Shahin Mammadov"
   ]
  },
  {
   "cell_type": "code",
   "execution_count": 31,
   "id": "19f83d82",
   "metadata": {},
   "outputs": [],
   "source": [
    "import re"
   ]
  },
  {
   "cell_type": "markdown",
   "id": "b8fb4fd5",
   "metadata": {},
   "source": [
    "1. Which matches a word containing vowels in it (a,ı,o,u,e,ə,i,ö,ü)."
   ]
  },
  {
   "cell_type": "code",
   "execution_count": 70,
   "id": "e7aae9ea",
   "metadata": {},
   "outputs": [
    {
     "data": {
      "text/plain": [
       "<re.Match object; span=(0, 1), match='ə'>"
      ]
     },
     "execution_count": 70,
     "metadata": {},
     "output_type": "execute_result"
    }
   ],
   "source": [
    "test_string = \"əlifba\"\n",
    "\n",
    "result = re.search(\"[aıoueəiöü]\", test_string)\n",
    "\n",
    "result"
   ]
  },
  {
   "cell_type": "markdown",
   "id": "9a1a616d",
   "metadata": {},
   "source": [
    "2. Which matches a word containing vowels not at the start or end of the word (a,ı,o,u,e,ə,i,ö,ü)."
   ]
  },
  {
   "cell_type": "code",
   "execution_count": 66,
   "id": "39613df3",
   "metadata": {},
   "outputs": [],
   "source": [
    "result = re.search(\"\\B[aıoueəiöü]\\B\", test_string)\n",
    "\n",
    "result"
   ]
  },
  {
   "cell_type": "markdown",
   "id": "c916dd6a",
   "metadata": {},
   "source": [
    "3. Checks for a number at the end of a given string"
   ]
  },
  {
   "cell_type": "code",
   "execution_count": 71,
   "id": "a5c91dfe",
   "metadata": {},
   "outputs": [
    {
     "data": {
      "text/plain": [
       "<re.Match object; span=(0, 7), match='Salam12'>"
      ]
     },
     "execution_count": 71,
     "metadata": {},
     "output_type": "execute_result"
    }
   ],
   "source": [
    "test_string = \"Salam12\"\n",
    "\n",
    "result = re.search(\".*[0-9]$\", test_string)\n",
    "result"
   ]
  },
  {
   "cell_type": "markdown",
   "id": "3268ddfa",
   "metadata": {},
   "source": [
    "4. Which matches a word at the end of string, with optional question mark and exclamation point."
   ]
  },
  {
   "cell_type": "code",
   "execution_count": 164,
   "id": "357fc0eb",
   "metadata": {},
   "outputs": [
    {
     "name": "stdout",
     "output_type": "stream",
     "text": [
      "<re.Match object; span=(35, 42), match='string!'>\n"
     ]
    }
   ],
   "source": [
    "test_string = \"Which matches a word at the end of string!\"\n",
    "\n",
    "\n",
    "result = re.search(\"\\w+[?!]?$\", test_string)\n",
    "\n",
    "print(result)"
   ]
  },
  {
   "cell_type": "markdown",
   "id": "84b010d1",
   "metadata": {},
   "source": [
    "5. Replaces whitespaces with a tab and vice versa."
   ]
  },
  {
   "cell_type": "code",
   "execution_count": 183,
   "id": "76718212",
   "metadata": {},
   "outputs": [
    {
     "name": "stdout",
     "output_type": "stream",
     "text": [
      "Salam\tnecesen?\t\n",
      "Salam necesen? \n"
     ]
    }
   ],
   "source": [
    "test_string = \"Salam necesen? \"\n",
    "\n",
    "rem_whitespace = re.sub(\"\\s+\", r\"\\t\", test_string)\n",
    "\n",
    "rem_tab = re.sub(\"\\t\", \" \", rem_whitespace)\n",
    "\n",
    "print(rem_whitespace)\n",
    "print(rem_tab)"
   ]
  },
  {
   "cell_type": "markdown",
   "id": "19aef7b4",
   "metadata": {},
   "source": [
    "6. Finds all words starting with 'ə' or 'ü' in a given string."
   ]
  },
  {
   "cell_type": "code",
   "execution_count": 201,
   "id": "334e979c",
   "metadata": {},
   "outputs": [
    {
     "data": {
      "text/plain": [
       "['ülkər', 'ədalət']"
      ]
     },
     "execution_count": 201,
     "metadata": {},
     "output_type": "execute_result"
    }
   ],
   "source": [
    "test_string = \"alifba ülkər alim dovğa ədalət\"\n",
    "\n",
    "result = re.findall(r\"\\b[əü]\\w+\", test_string)\n",
    "\n",
    "result"
   ]
  },
  {
   "cell_type": "markdown",
   "id": "4b83ccb8",
   "metadata": {},
   "source": [
    "7. Removes all whitespaces from a string."
   ]
  },
  {
   "cell_type": "code",
   "execution_count": 202,
   "id": "a8114264",
   "metadata": {},
   "outputs": [
    {
     "data": {
      "text/plain": [
       "'alifbaülkəralimdovğaədalət'"
      ]
     },
     "execution_count": 202,
     "metadata": {},
     "output_type": "execute_result"
    }
   ],
   "source": [
    "result = re.sub(\"\\s+\", \"\", test_string)\n",
    "\n",
    "result"
   ]
  },
  {
   "cell_type": "markdown",
   "id": "00798c80",
   "metadata": {},
   "source": [
    "8. Finds all words which have more than 4 characters in a string."
   ]
  },
  {
   "cell_type": "code",
   "execution_count": 204,
   "id": "340c695f",
   "metadata": {},
   "outputs": [
    {
     "data": {
      "text/plain": [
       "['alifba', 'ülkər', 'dovğa', 'ədalət']"
      ]
     },
     "execution_count": 204,
     "metadata": {},
     "output_type": "execute_result"
    }
   ],
   "source": [
    "result = re.findall(r\"\\b\\w{5,}\\b\", test_string)\n",
    "\n",
    "result"
   ]
  },
  {
   "cell_type": "markdown",
   "id": "3cacfc87",
   "metadata": {},
   "source": [
    "9. Inserts spaces between words starting with capital letters."
   ]
  },
  {
   "cell_type": "code",
   "execution_count": 207,
   "id": "aef2b019",
   "metadata": {},
   "outputs": [
    {
     "data": {
      "text/plain": [
       "'Python Programming Language'"
      ]
     },
     "execution_count": 207,
     "metadata": {},
     "output_type": "execute_result"
    }
   ],
   "source": [
    "test_string = \"PythonProgrammingLanguage\"\n",
    "\n",
    "result = re.sub(r\"(\\w)([A-Z])\", r\"\\1 \\2\", test_string)\n",
    "\n",
    "result"
   ]
  }
 ],
 "metadata": {
  "kernelspec": {
   "display_name": "Python 3 (ipykernel)",
   "language": "python",
   "name": "python3"
  },
  "language_info": {
   "codemirror_mode": {
    "name": "ipython",
    "version": 3
   },
   "file_extension": ".py",
   "mimetype": "text/x-python",
   "name": "python",
   "nbconvert_exporter": "python",
   "pygments_lexer": "ipython3",
   "version": "3.9.7"
  }
 },
 "nbformat": 4,
 "nbformat_minor": 5
}
