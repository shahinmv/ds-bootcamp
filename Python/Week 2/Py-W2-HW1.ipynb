{
 "cells": [
  {
   "cell_type": "markdown",
   "id": "c990d3b7",
   "metadata": {},
   "source": [
    "## Python Homework 1 - Week 2 \n",
    "### Shahin Mammadov"
   ]
  },
  {
   "cell_type": "code",
   "execution_count": 14,
   "id": "9f11356f",
   "metadata": {},
   "outputs": [],
   "source": [
    "import re"
   ]
  },
  {
   "cell_type": "markdown",
   "id": "20f3eeee",
   "metadata": {},
   "source": [
    "1. Which matches a word containing vowels in it (a,ı,o,u,e,ə,i,ö,ü)."
   ]
  },
  {
   "cell_type": "code",
   "execution_count": 19,
   "id": "d68583a0",
   "metadata": {},
   "outputs": [
    {
     "data": {
      "text/plain": [
       "<re.Match object; span=(0, 1), match='ə'>"
      ]
     },
     "execution_count": 19,
     "metadata": {},
     "output_type": "execute_result"
    }
   ],
   "source": [
    "test_string = \"əlifba\"\n",
    "\n",
    "result = re.search(\"[aıoueəiöü]\", test_string)\n",
    "\n",
    "result"
   ]
  },
  {
   "cell_type": "markdown",
   "id": "33502039",
   "metadata": {},
   "source": [
    "2. Which matches a word containing vowels not at the start or end of the word (a,ı,o,u,e,ə,i,ö,ü)."
   ]
  },
  {
   "cell_type": "code",
   "execution_count": 66,
   "id": "29b52777",
   "metadata": {},
   "outputs": [],
   "source": [
    "result = re.search(\"\\B[aıoueəiöü]\\B\", test_string)\n",
    "\n",
    "result"
   ]
  },
  {
   "cell_type": "markdown",
   "id": "cdfa73e7",
   "metadata": {},
   "source": [
    "3. Checks for a number at the end of a given string"
   ]
  },
  {
   "cell_type": "code",
   "execution_count": 71,
   "id": "5ab8552c",
   "metadata": {},
   "outputs": [
    {
     "data": {
      "text/plain": [
       "<re.Match object; span=(0, 7), match='Salam12'>"
      ]
     },
     "execution_count": 71,
     "metadata": {},
     "output_type": "execute_result"
    }
   ],
   "source": [
    "test_string = \"Salam12\"\n",
    "\n",
    "result = re.search(\".*[0-9]$\", test_string)\n",
    "result"
   ]
  },
  {
   "cell_type": "markdown",
   "id": "38955fba",
   "metadata": {},
   "source": [
    "4. Which matches a word at the end of string, with optional question mark and exclamation point."
   ]
  },
  {
   "cell_type": "code",
   "execution_count": 164,
   "id": "26e743ca",
   "metadata": {},
   "outputs": [
    {
     "name": "stdout",
     "output_type": "stream",
     "text": [
      "<re.Match object; span=(35, 42), match='string!'>\n"
     ]
    }
   ],
   "source": [
    "test_string = \"Which matches a word at the end of string!\"\n",
    "\n",
    "\n",
    "result = re.search(\"\\w+[?!]?$\", test_string)\n",
    "\n",
    "print(result)"
   ]
  },
  {
   "cell_type": "markdown",
   "id": "ba200912",
   "metadata": {},
   "source": [
    "5. Replaces whitespaces with a tab and vice versa."
   ]
  },
  {
   "cell_type": "code",
   "execution_count": 183,
   "id": "71662523",
   "metadata": {},
   "outputs": [
    {
     "name": "stdout",
     "output_type": "stream",
     "text": [
      "Salam\tnecesen?\t\n",
      "Salam necesen? \n"
     ]
    }
   ],
   "source": [
    "test_string = \"Salam necesen? \"\n",
    "\n",
    "rem_whitespace = re.sub(\"\\s+\", r\"\\t\", test_string)\n",
    "\n",
    "rem_tab = re.sub(\"\\t\", \" \", rem_whitespace)\n",
    "\n",
    "print(rem_whitespace)\n",
    "print(rem_tab)"
   ]
  },
  {
   "cell_type": "markdown",
   "id": "0ff3a4cd",
   "metadata": {},
   "source": [
    "6. Finds all words starting with 'ə' or 'ü' in a given string."
   ]
  },
  {
   "cell_type": "code",
   "execution_count": 201,
   "id": "9546a8e4",
   "metadata": {},
   "outputs": [
    {
     "data": {
      "text/plain": [
       "['ülkər', 'ədalət']"
      ]
     },
     "execution_count": 201,
     "metadata": {},
     "output_type": "execute_result"
    }
   ],
   "source": [
    "test_string = \"alifba ülkər alim dovğa ədalət\"\n",
    "\n",
    "result = re.findall(r\"\\b[əü]\\w+\", test_string)\n",
    "\n",
    "result"
   ]
  },
  {
   "cell_type": "markdown",
   "id": "b0578832",
   "metadata": {},
   "source": [
    "7. Removes all whitespaces from a string."
   ]
  },
  {
   "cell_type": "code",
   "execution_count": 202,
   "id": "dc348947",
   "metadata": {},
   "outputs": [
    {
     "data": {
      "text/plain": [
       "'alifbaülkəralimdovğaədalət'"
      ]
     },
     "execution_count": 202,
     "metadata": {},
     "output_type": "execute_result"
    }
   ],
   "source": [
    "result = re.sub(\"\\s+\", \"\", test_string)\n",
    "\n",
    "result"
   ]
  },
  {
   "cell_type": "markdown",
   "id": "1a2dc2d3",
   "metadata": {},
   "source": [
    "8. Finds all words which have more than 4 characters in a string."
   ]
  },
  {
   "cell_type": "code",
   "execution_count": 204,
   "id": "531deae5",
   "metadata": {},
   "outputs": [
    {
     "data": {
      "text/plain": [
       "['alifba', 'ülkər', 'dovğa', 'ədalət']"
      ]
     },
     "execution_count": 204,
     "metadata": {},
     "output_type": "execute_result"
    }
   ],
   "source": [
    "result = re.findall(r\"\\b\\w{5,}\\b\", test_string)\n",
    "\n",
    "result"
   ]
  },
  {
   "cell_type": "markdown",
   "id": "0524005b",
   "metadata": {},
   "source": [
    "9. Inserts spaces between words starting with capital letters."
   ]
  },
  {
   "cell_type": "code",
   "execution_count": 207,
   "id": "e1c15a27",
   "metadata": {},
   "outputs": [
    {
     "data": {
      "text/plain": [
       "'Python Programming Language'"
      ]
     },
     "execution_count": 207,
     "metadata": {},
     "output_type": "execute_result"
    }
   ],
   "source": [
    "test_string = \"PythonProgrammingLanguage\"\n",
    "\n",
    "result = re.sub(r\"(\\w)([A-Z])\", r\"\\1 \\2\", test_string)\n",
    "\n",
    "result"
   ]
  }
 ],
 "metadata": {
  "kernelspec": {
   "display_name": "Python 3 (ipykernel)",
   "language": "python",
   "name": "python3"
  },
  "language_info": {
   "codemirror_mode": {
    "name": "ipython",
    "version": 3
   },
   "file_extension": ".py",
   "mimetype": "text/x-python",
   "name": "python",
   "nbconvert_exporter": "python",
   "pygments_lexer": "ipython3",
   "version": "3.9.7"
  }
 },
 "nbformat": 4,
 "nbformat_minor": 5
}
