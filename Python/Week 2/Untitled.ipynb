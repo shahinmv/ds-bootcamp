{
 "cells": [
  {
   "cell_type": "markdown",
   "id": "b4178d50",
   "metadata": {},
   "source": [
    "## Python CS 1 - Week 2 \n",
    "### Shahin Mammadov"
   ]
  },
  {
   "cell_type": "code",
   "execution_count": 1,
   "id": "44993c88",
   "metadata": {},
   "outputs": [],
   "source": [
    "import re"
   ]
  },
  {
   "cell_type": "markdown",
   "id": "ed73be60",
   "metadata": {},
   "source": [
    "1. Create a regex that can select names and ages from the given list and create a new\n",
    "dictionary with name as a key and age as a value:"
   ]
  },
  {
   "cell_type": "code",
   "execution_count": 13,
   "id": "aa9a1d65",
   "metadata": {},
   "outputs": [
    {
     "data": {
      "text/plain": [
       "{'Janice': '22', 'Theon': '33', 'Gabriel': '44', 'Joey': '21'}"
      ]
     },
     "execution_count": 13,
     "metadata": {},
     "output_type": "execute_result"
    }
   ],
   "source": [
    "nameage = \"\\\n",
    "Janice is 22 and Theon is 33 \\\n",
    "Gabriel is 44 and Joey is 21\\\n",
    "\"\n",
    "\n",
    "names = re.findall(r\"[A-Z]\\w+\", nameage)\n",
    "ages = re.findall(r\"[0-9]{1,2}\", nameage)\n",
    "\n",
    "data = {}\n",
    "\n",
    "for x in range(len(names)):\n",
    "    data.update({names[x]: ages[x]})\n",
    "\n",
    "data\n"
   ]
  },
  {
   "cell_type": "code",
   "execution_count": 23,
   "id": "8b2eef96",
   "metadata": {},
   "outputs": [
    {
     "data": {
      "text/plain": [
       "{'Janice': '22', 'Theon': '33', 'Gabriel': '44', 'Joey': '21'}"
      ]
     },
     "execution_count": 23,
     "metadata": {},
     "output_type": "execute_result"
    }
   ],
   "source": [
    "nameage = \"\\\n",
    "Janice is 22 and Theon is 33 \\\n",
    "Gabriel is 44 and Joey is 21\\\n",
    "\"\n",
    "\n",
    "temp = re.findall(r\"([A-Z]\\w+) is ([0-9]{1,2})\", nameage)\n",
    "\n",
    "data = {}\n",
    "\n",
    "for x in range(len(temp)):\n",
    "    data.update({temp[x]})\n",
    "    \n",
    "data\n"
   ]
  },
  {
   "cell_type": "markdown",
   "id": "b57143df",
   "metadata": {},
   "source": [
    "2. Create a regex for email verification. All E-mail addresses should include:\n",
    "\n",
    "a) 3 to 10 lowercase or uppercase letters, numbers\n",
    "b) An @ symbol\n",
    "c) 2 to 10 lowercase and uppercase letters, numbers\n",
    "d) .\n",
    "e) 2 to 4 lowercase and uppercase letters"
   ]
  },
  {
   "cell_type": "code",
   "execution_count": 65,
   "id": "949e5290",
   "metadata": {},
   "outputs": [
    {
     "data": {
      "text/plain": [
       "['shahinmv@gmail.com', 'ramiljfr@mail.ru']"
      ]
     },
     "execution_count": 65,
     "metadata": {},
     "output_type": "execute_result"
    }
   ],
   "source": [
    "email = \"shahinmv@gmail.com ramiljfr@mail.ru\"\n",
    "\n",
    "re.findall(r\"\\b[A-Za-z0-9]{3,10}@[A-Za-z0-9]{2,10}\\.[A-Za-z]{2,4}\\b\", email)"
   ]
  },
  {
   "cell_type": "markdown",
   "id": "b8ec9911",
   "metadata": {},
   "source": [
    "3. Create a regex for number verification. The order of number’s structure should be as\n",
    "following:\n",
    "1. (\n",
    "2. 3 numbers\n",
    "3. )\n",
    "4. Space\n",
    "5. numbers\n",
    "6. -\n",
    "7. numbers"
   ]
  },
  {
   "cell_type": "code",
   "execution_count": 69,
   "id": "c55f0776",
   "metadata": {},
   "outputs": [
    {
     "data": {
      "text/plain": [
       "['(111) 222-3333']"
      ]
     },
     "execution_count": 69,
     "metadata": {},
     "output_type": "execute_result"
    }
   ],
   "source": [
    "num = \"(111) 222-3333\"\n",
    "\n",
    "re.findall(r\"\\(\\d{3}\\) \\d+-\\d+\", num)"
   ]
  },
  {
   "cell_type": "code",
   "execution_count": null,
   "id": "34ff682e",
   "metadata": {},
   "outputs": [],
   "source": []
  }
 ],
 "metadata": {
  "kernelspec": {
   "display_name": "Python 3 (ipykernel)",
   "language": "python",
   "name": "python3"
  },
  "language_info": {
   "codemirror_mode": {
    "name": "ipython",
    "version": 3
   },
   "file_extension": ".py",
   "mimetype": "text/x-python",
   "name": "python",
   "nbconvert_exporter": "python",
   "pygments_lexer": "ipython3",
   "version": "3.9.7"
  }
 },
 "nbformat": 4,
 "nbformat_minor": 5
}
