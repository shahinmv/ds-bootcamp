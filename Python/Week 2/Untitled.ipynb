{
 "cells": [
  {
   "cell_type": "markdown",
   "id": "3100376a",
   "metadata": {},
   "source": [
    "## Python Homework 1 - Week 2 \n",
    "### Shahin Mammadov"
   ]
  },
  {
   "cell_type": "code",
   "execution_count": 31,
   "id": "1bb5b7cb",
   "metadata": {},
   "outputs": [],
   "source": [
    "import re"
   ]
  },
  {
   "cell_type": "markdown",
   "id": "a3cea391",
   "metadata": {},
   "source": [
    "1. Which matches a word containing vowels in it (a,ı,o,u,e,ə,i,ö,ü)."
   ]
  },
  {
   "cell_type": "code",
   "execution_count": 70,
   "id": "d0ea5e76",
   "metadata": {},
   "outputs": [
    {
     "data": {
      "text/plain": [
       "<re.Match object; span=(0, 1), match='ə'>"
      ]
     },
     "execution_count": 70,
     "metadata": {},
     "output_type": "execute_result"
    }
   ],
   "source": [
    "test_string = \"əlifba\"\n",
    "\n",
    "result = re.search(\"[aıoueəiöü]\", test_string)\n",
    "\n",
    "result"
   ]
  },
  {
   "cell_type": "markdown",
   "id": "739ae8e2",
   "metadata": {},
   "source": [
    "2. Which matches a word containing vowels not at the start or end of the word (a,ı,o,u,e,ə,i,ö,ü)."
   ]
  },
  {
   "cell_type": "code",
   "execution_count": 66,
   "id": "afe30abd",
   "metadata": {},
   "outputs": [],
   "source": [
    "result = re.search(\"\\B[aıoueəiöü]\\B\", test_string)\n",
    "\n",
    "result"
   ]
  },
  {
   "cell_type": "markdown",
   "id": "e0e64adb",
   "metadata": {},
   "source": [
    "3. Checks for a number at the end of a given string"
   ]
  },
  {
   "cell_type": "code",
   "execution_count": 71,
   "id": "99b7792b",
   "metadata": {},
   "outputs": [
    {
     "data": {
      "text/plain": [
       "<re.Match object; span=(0, 7), match='Salam12'>"
      ]
     },
     "execution_count": 71,
     "metadata": {},
     "output_type": "execute_result"
    }
   ],
   "source": [
    "test_string = \"Salam12\"\n",
    "\n",
    "result = re.search(\".*[0-9]$\", test_string)\n",
    "result"
   ]
  },
  {
   "cell_type": "markdown",
   "id": "2238e834",
   "metadata": {},
   "source": [
    "4. Which matches a word at the end of string, with optional question mark and exclamation point."
   ]
  },
  {
   "cell_type": "code",
   "execution_count": 164,
   "id": "5baf3855",
   "metadata": {},
   "outputs": [
    {
     "name": "stdout",
     "output_type": "stream",
     "text": [
      "<re.Match object; span=(35, 42), match='string!'>\n"
     ]
    }
   ],
   "source": [
    "test_string = \"Which matches a word at the end of string!\"\n",
    "\n",
    "\n",
    "result = re.search(\"\\w+[?!]?$\", test_string)\n",
    "\n",
    "print(result)"
   ]
  },
  {
   "cell_type": "markdown",
   "id": "2ffdf6fc",
   "metadata": {},
   "source": [
    "5. Replaces whitespaces with a tab and vice versa."
   ]
  },
  {
   "cell_type": "code",
   "execution_count": 183,
   "id": "456e50b3",
   "metadata": {},
   "outputs": [
    {
     "name": "stdout",
     "output_type": "stream",
     "text": [
      "Salam\tnecesen?\t\n",
      "Salam necesen? \n"
     ]
    }
   ],
   "source": [
    "test_string = \"Salam necesen? \"\n",
    "\n",
    "rem_whitespace = re.sub(\"\\s+\", r\"\\t\", test_string)\n",
    "\n",
    "rem_tab = re.sub(\"\\t\", \" \", rem_whitespace)\n",
    "\n",
    "print(rem_whitespace)\n",
    "print(rem_tab)"
   ]
  },
  {
   "cell_type": "markdown",
   "id": "0c4e0b60",
   "metadata": {},
   "source": [
    "6. Finds all words starting with 'ə' or 'ü' in a given string."
   ]
  },
  {
   "cell_type": "code",
   "execution_count": 201,
   "id": "a0a03568",
   "metadata": {},
   "outputs": [
    {
     "data": {
      "text/plain": [
       "['ülkər', 'ədalət']"
      ]
     },
     "execution_count": 201,
     "metadata": {},
     "output_type": "execute_result"
    }
   ],
   "source": [
    "test_string = \"alifba ülkər alim dovğa ədalət\"\n",
    "\n",
    "result = re.findall(r\"\\b[əü]\\w+\", test_string)\n",
    "\n",
    "result"
   ]
  },
  {
   "cell_type": "markdown",
   "id": "f1469fcc",
   "metadata": {},
   "source": [
    "7. Removes all whitespaces from a string."
   ]
  },
  {
   "cell_type": "code",
   "execution_count": 202,
   "id": "2ad3d68c",
   "metadata": {},
   "outputs": [
    {
     "data": {
      "text/plain": [
       "'alifbaülkəralimdovğaədalət'"
      ]
     },
     "execution_count": 202,
     "metadata": {},
     "output_type": "execute_result"
    }
   ],
   "source": [
    "result = re.sub(\"\\s+\", \"\", test_string)\n",
    "\n",
    "result"
   ]
  },
  {
   "cell_type": "markdown",
   "id": "2f816ca3",
   "metadata": {},
   "source": [
    "8. Finds all words which have more than 4 characters in a string."
   ]
  },
  {
   "cell_type": "code",
   "execution_count": 204,
   "id": "79bbcb7a",
   "metadata": {},
   "outputs": [
    {
     "data": {
      "text/plain": [
       "['alifba', 'ülkər', 'dovğa', 'ədalət']"
      ]
     },
     "execution_count": 204,
     "metadata": {},
     "output_type": "execute_result"
    }
   ],
   "source": [
    "result = re.findall(r\"\\b\\w{5,}\\b\", test_string)\n",
    "\n",
    "result"
   ]
  },
  {
   "cell_type": "markdown",
   "id": "f1c89c8a",
   "metadata": {},
   "source": [
    "9. Inserts spaces between words starting with capital letters."
   ]
  },
  {
   "cell_type": "code",
   "execution_count": 207,
   "id": "fe33e87a",
   "metadata": {},
   "outputs": [
    {
     "data": {
      "text/plain": [
       "'Python Programming Language'"
      ]
     },
     "execution_count": 207,
     "metadata": {},
     "output_type": "execute_result"
    }
   ],
   "source": [
    "test_string = \"PythonProgrammingLanguage\"\n",
    "\n",
    "result = re.sub(r\"(\\w)([A-Z])\", r\"\\1 \\2\", test_string)\n",
    "\n",
    "result"
   ]
  }
 ],
 "metadata": {
  "kernelspec": {
   "display_name": "Python 3 (ipykernel)",
   "language": "python",
   "name": "python3"
  },
  "language_info": {
   "codemirror_mode": {
    "name": "ipython",
    "version": 3
   },
   "file_extension": ".py",
   "mimetype": "text/x-python",
   "name": "python",
   "nbconvert_exporter": "python",
   "pygments_lexer": "ipython3",
   "version": "3.9.7"
  }
 },
 "nbformat": 4,
 "nbformat_minor": 5
}
