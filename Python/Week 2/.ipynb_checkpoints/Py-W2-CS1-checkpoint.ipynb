{
 "cells": [
  {
   "cell_type": "markdown",
   "id": "0ccb5d30",
   "metadata": {},
   "source": [
    "## Python CS 1 - Week 2 \n",
    "### Shahin Mammadov"
   ]
  },
  {
   "cell_type": "code",
   "execution_count": 1,
   "id": "3c7c2059",
   "metadata": {},
   "outputs": [],
   "source": [
    "import re"
   ]
  },
  {
   "cell_type": "markdown",
   "id": "3e716101",
   "metadata": {},
   "source": [
    "1. Create a regex that can select names and ages from the given list and create a new\n",
    "dictionary with name as a key and age as a value:"
   ]
  },
  {
   "cell_type": "code",
   "execution_count": 13,
   "id": "6210f0b2",
   "metadata": {},
   "outputs": [
    {
     "data": {
      "text/plain": [
       "{'Janice': '22', 'Theon': '33', 'Gabriel': '44', 'Joey': '21'}"
      ]
     },
     "execution_count": 13,
     "metadata": {},
     "output_type": "execute_result"
    }
   ],
   "source": [
    "nameage = \"\\\n",
    "Janice is 22 and Theon is 33 \\\n",
    "Gabriel is 44 and Joey is 21\\\n",
    "\"\n",
    "\n",
    "names = re.findall(r\"[A-Z]\\w+\", nameage)\n",
    "ages = re.findall(r\"[0-9]{1,2}\", nameage)\n",
    "\n",
    "data = {}\n",
    "\n",
    "for x in range(len(names)):\n",
    "    data.update({names[x]: ages[x]})\n",
    "\n",
    "data\n"
   ]
  },
  {
   "cell_type": "code",
   "execution_count": 23,
   "id": "528b0f46",
   "metadata": {},
   "outputs": [
    {
     "data": {
      "text/plain": [
       "{'Janice': '22', 'Theon': '33', 'Gabriel': '44', 'Joey': '21'}"
      ]
     },
     "execution_count": 23,
     "metadata": {},
     "output_type": "execute_result"
    }
   ],
   "source": [
    "nameage = \"\\\n",
    "Janice is 22 and Theon is 33 \\\n",
    "Gabriel is 44 and Joey is 21\\\n",
    "\"\n",
    "\n",
    "temp = re.findall(r\"([A-Z]\\w+) is ([0-9]{1,2})\", nameage)\n",
    "\n",
    "data = {}\n",
    "\n",
    "for x in range(len(temp)):\n",
    "    data.update({temp[x]})\n",
    "    \n",
    "data\n"
   ]
  },
  {
   "cell_type": "markdown",
   "id": "7e8ca40a",
   "metadata": {},
   "source": [
    "2. Create a regex for email verification. All E-mail addresses should include:\n",
    "\n",
    "a) 3 to 10 lowercase or uppercase letters, numbers\n",
    "b) An @ symbol\n",
    "c) 2 to 10 lowercase and uppercase letters, numbers\n",
    "d) .\n",
    "e) 2 to 4 lowercase and uppercase letters"
   ]
  },
  {
   "cell_type": "code",
   "execution_count": 40,
   "id": "ca74ceb4",
   "metadata": {},
   "outputs": [
    {
     "data": {
      "text/plain": [
       "['shahinmv9@gmail.com']"
      ]
     },
     "execution_count": 40,
     "metadata": {},
     "output_type": "execute_result"
    }
   ],
   "source": [
    "email = \"shahinmv9@gmail.com\"\n",
    "\n",
    "re.findall(r\"[A-Za-z0-9]{3,10}@[A-Za-z0-9]{2,10}.[A-Za-z]{2,4}\", email)"
   ]
  },
  {
   "cell_type": "markdown",
   "id": "0fe78f2c",
   "metadata": {},
   "source": [
    "3. Create a regex for number verification. The order of number’s structure should be as\n",
    "following:\n",
    "1. (\n",
    "2. 3 numbers\n",
    "3. )\n",
    "4. Space\n",
    "5. numbers\n",
    "6. -\n",
    "7. numbers"
   ]
  },
  {
   "cell_type": "code",
   "execution_count": 50,
   "id": "7d91f7de",
   "metadata": {},
   "outputs": [
    {
     "data": {
      "text/plain": [
       "['(111) 222-3333']"
      ]
     },
     "execution_count": 50,
     "metadata": {},
     "output_type": "execute_result"
    }
   ],
   "source": [
    "num = \"(111) 222-3333\"\n",
    "\n",
    "re.findall(r\"\\([0-9]{3}\\) [0-9]+-[0-9]+\", num)"
   ]
  },
  {
   "cell_type": "code",
   "execution_count": null,
   "id": "6d5a683e",
   "metadata": {},
   "outputs": [],
   "source": []
  }
 ],
 "metadata": {
  "kernelspec": {
   "display_name": "Python 3 (ipykernel)",
   "language": "python",
   "name": "python3"
  },
  "language_info": {
   "codemirror_mode": {
    "name": "ipython",
    "version": 3
   },
   "file_extension": ".py",
   "mimetype": "text/x-python",
   "name": "python",
   "nbconvert_exporter": "python",
   "pygments_lexer": "ipython3",
   "version": "3.9.7"
  }
 },
 "nbformat": 4,
 "nbformat_minor": 5
}
