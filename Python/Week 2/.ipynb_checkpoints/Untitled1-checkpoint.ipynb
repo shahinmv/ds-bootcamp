{
 "cells": [
  {
   "cell_type": "markdown",
   "id": "7dfe8558",
   "metadata": {},
   "source": [
    "## Python Homework 2 - Week 2 \n",
    "### Shahin Mammadov"
   ]
  },
  {
   "cell_type": "code",
   "execution_count": 1,
   "id": "17d75a53",
   "metadata": {},
   "outputs": [],
   "source": [
    "import numpy as np"
   ]
  },
  {
   "cell_type": "markdown",
   "id": "a41d6f34",
   "metadata": {},
   "source": [
    "1. Create a vector with values ranging from 15 to 55 and print all values except the first and last."
   ]
  },
  {
   "cell_type": "code",
   "execution_count": 4,
   "id": "0a7a87b4",
   "metadata": {},
   "outputs": [
    {
     "data": {
      "text/plain": [
       "array([16, 17, 18, 19, 20, 21, 22, 23, 24, 25, 26, 27, 28, 29, 30, 31, 32,\n",
       "       33, 34, 35, 36, 37, 38, 39, 40, 41, 42, 43, 44, 45, 46, 47, 48, 49,\n",
       "       50, 51, 52, 53, 54])"
      ]
     },
     "execution_count": 4,
     "metadata": {},
     "output_type": "execute_result"
    }
   ],
   "source": [
    "vec = np.arange(15, 56)\n",
    "vec[1:-1]"
   ]
  },
  {
   "cell_type": "markdown",
   "id": "b86acfe0",
   "metadata": {},
   "source": [
    "2. Create a 3X4 array using np.full()."
   ]
  },
  {
   "cell_type": "code",
   "execution_count": 5,
   "id": "fd17e2fb",
   "metadata": {},
   "outputs": [
    {
     "data": {
      "text/plain": [
       "array([[1, 1, 1, 1],\n",
       "       [1, 1, 1, 1],\n",
       "       [1, 1, 1, 1]])"
      ]
     },
     "execution_count": 5,
     "metadata": {},
     "output_type": "execute_result"
    }
   ],
   "source": [
    "vec = np.full((3, 4), 1)\n",
    "vec"
   ]
  },
  {
   "cell_type": "markdown",
   "id": "3c77469f",
   "metadata": {},
   "source": [
    "3. Create a 3x3 matrix filled with values from 10 to 18. Use np.arange() and np.reshape()."
   ]
  },
  {
   "cell_type": "code",
   "execution_count": 10,
   "id": "e0891454",
   "metadata": {},
   "outputs": [
    {
     "data": {
      "text/plain": [
       "array([[10, 11, 12],\n",
       "       [13, 14, 15],\n",
       "       [16, 17, 18]])"
      ]
     },
     "execution_count": 10,
     "metadata": {},
     "output_type": "execute_result"
    }
   ],
   "source": [
    "vec = np.arange(10, 19)\n",
    "vec = vec.reshape((3,3))\n",
    "vec"
   ]
  },
  {
   "cell_type": "markdown",
   "id": "8944b8b1",
   "metadata": {},
   "source": [
    "4. Create a 5x5 zero matrix with elements on the main diagonal equal to 1, 2, 3, 4, 5 using np.diag()."
   ]
  },
  {
   "cell_type": "code",
   "execution_count": 13,
   "id": "0a2fa714",
   "metadata": {},
   "outputs": [
    {
     "data": {
      "text/plain": [
       "array([[1, 0, 0, 0, 0],\n",
       "       [0, 2, 0, 0, 0],\n",
       "       [0, 0, 3, 0, 0],\n",
       "       [0, 0, 0, 4, 0],\n",
       "       [0, 0, 0, 0, 5]])"
      ]
     },
     "execution_count": 13,
     "metadata": {},
     "output_type": "execute_result"
    }
   ],
   "source": [
    "vec = np.diag([1, 2, 3, 4, 5])\n",
    "vec"
   ]
  },
  {
   "cell_type": "markdown",
   "id": "6183fc8b",
   "metadata": {},
   "source": [
    "5. Create a null vector of size 10 using np.zeros() and update sixth value to 11."
   ]
  },
  {
   "cell_type": "code",
   "execution_count": 15,
   "id": "2e70b264",
   "metadata": {},
   "outputs": [
    {
     "data": {
      "text/plain": [
       "array([ 0.,  0.,  0.,  0.,  0., 11.,  0.,  0.,  0.,  0.])"
      ]
     },
     "execution_count": 15,
     "metadata": {},
     "output_type": "execute_result"
    }
   ],
   "source": [
    "vec = np.zeros(10)\n",
    "vec[5] = 11\n",
    "vec"
   ]
  },
  {
   "cell_type": "markdown",
   "id": "6aebc616",
   "metadata": {},
   "source": [
    "6. Convert an array to a float type using np.asfarray()."
   ]
  },
  {
   "cell_type": "code",
   "execution_count": 19,
   "id": "1c83cb48",
   "metadata": {},
   "outputs": [
    {
     "data": {
      "text/plain": [
       "array([1., 2., 3., 4.])"
      ]
     },
     "execution_count": 19,
     "metadata": {},
     "output_type": "execute_result"
    }
   ],
   "source": [
    "temp = np.asfarray([1,2,3,4])\n",
    "type(temp[0])"
   ]
  },
  {
   "cell_type": "markdown",
   "id": "a0440eb0",
   "metadata": {},
   "source": [
    "7. Swap columns in a given array. Such as:"
   ]
  },
  {
   "cell_type": "code",
   "execution_count": 22,
   "id": "e19bd441",
   "metadata": {},
   "outputs": [
    {
     "data": {
      "text/plain": [
       "array([[ 3,  2,  1,  0],\n",
       "       [ 7,  6,  5,  4],\n",
       "       [11, 10,  9,  8]])"
      ]
     },
     "execution_count": 22,
     "metadata": {},
     "output_type": "execute_result"
    }
   ],
   "source": [
    "vec = np.arange(0, 12)\n",
    "vec = vec.reshape(3, 4)\n",
    "flipped = np.fliplr(vec)\n",
    "\n",
    "flipped"
   ]
  },
  {
   "cell_type": "markdown",
   "id": "86c73601",
   "metadata": {},
   "source": [
    "8. Capitalize the first letter, lowercase, uppercase, swapcase, title-case of all the elements of a given array. Use np.char.capitalize(), np.char.lower(), np.char.upper(), np.char.swapcase(), np.char.title()."
   ]
  },
  {
   "cell_type": "code",
   "execution_count": 28,
   "id": "5538bcd8",
   "metadata": {},
   "outputs": [
    {
     "name": "stdout",
     "output_type": "stream",
     "text": [
      "['Shahin' 'Emil' 'Ramil' 'Cavid']\n",
      "['shahin' 'emil' 'ramil' 'cavid']\n",
      "['SHAHIN' 'EMIL' 'RAMIL' 'CAVID']\n",
      "['shahin' 'emil' 'ramil' 'cavid']\n",
      "['Shahin' 'Emil' 'Ramil' 'Cavid']\n"
     ]
    }
   ],
   "source": [
    "vec = np.array([\"Shahin\", \"emil\", \"Ramil\", \"cavid\"])\n",
    "vec = np.char.capitalize(vec)\n",
    "print(vec)\n",
    "vec = np.char.lower(vec)\n",
    "print(vec)\n",
    "vec = np.char.upper(vec)\n",
    "print(vec)\n",
    "vec = np.char.swapcase(vec)\n",
    "print(vec)\n",
    "vec = np.char.title(vec)\n",
    "print(vec)"
   ]
  },
  {
   "cell_type": "markdown",
   "id": "13d1e98b",
   "metadata": {},
   "source": [
    "9. Get the dates of yesterday, today and tomorrow using np.datetime64() and np.timedelta64()."
   ]
  },
  {
   "cell_type": "code",
   "execution_count": 30,
   "id": "2a93e9fa",
   "metadata": {},
   "outputs": [
    {
     "name": "stdout",
     "output_type": "stream",
     "text": [
      "2022-08-15\n",
      "2022-08-16\n",
      "2022-08-17\n"
     ]
    }
   ],
   "source": [
    "yesterday = np.datetime64('today', 'D') - np.timedelta64(1, 'D')\n",
    "print(yesterday)\n",
    "\n",
    "today = np.datetime64('today', 'D')\n",
    "print(today)\n",
    "\n",
    "tomorrow  = np.datetime64('today', 'D') + np.timedelta64(1, 'D')\n",
    "print(tomorrow)"
   ]
  },
  {
   "cell_type": "markdown",
   "id": "c878e3e1",
   "metadata": {},
   "source": [
    "10.Append values to the end of an array using np.append()."
   ]
  },
  {
   "cell_type": "code",
   "execution_count": 35,
   "id": "c7c73664",
   "metadata": {},
   "outputs": [
    {
     "data": {
      "text/plain": [
       "array([10, 20, 30, 40, 50, 60, 70, 80, 90])"
      ]
     },
     "execution_count": 35,
     "metadata": {},
     "output_type": "execute_result"
    }
   ],
   "source": [
    "vec = np.array([10, 20, 30])\n",
    "vec = np.append(vec, np.array([40, 50, 60, 70, 80, 90]))\n",
    "vec"
   ]
  },
  {
   "cell_type": "markdown",
   "id": "9175dcd0",
   "metadata": {},
   "source": [
    "Disclaimer: You have been given the ‘cars.xlsx’ excel dataset. This dataset contains\n",
    "new released car models between 1999 and 2008. Please run the code given below to\n",
    "use it:\n"
   ]
  },
  {
   "cell_type": "code",
   "execution_count": 44,
   "id": "46c99b48",
   "metadata": {},
   "outputs": [],
   "source": [
    "import pandas as pd\n",
    "cars = pd.read_excel('cars.xlsx')"
   ]
  },
  {
   "cell_type": "code",
   "execution_count": 45,
   "id": "efbf3409",
   "metadata": {},
   "outputs": [
    {
     "data": {
      "text/html": [
       "<div>\n",
       "<style scoped>\n",
       "    .dataframe tbody tr th:only-of-type {\n",
       "        vertical-align: middle;\n",
       "    }\n",
       "\n",
       "    .dataframe tbody tr th {\n",
       "        vertical-align: top;\n",
       "    }\n",
       "\n",
       "    .dataframe thead th {\n",
       "        text-align: right;\n",
       "    }\n",
       "</style>\n",
       "<table border=\"1\" class=\"dataframe\">\n",
       "  <thead>\n",
       "    <tr style=\"text-align: right;\">\n",
       "      <th></th>\n",
       "      <th>manufacturer</th>\n",
       "      <th>model</th>\n",
       "      <th>displ</th>\n",
       "      <th>year</th>\n",
       "      <th>cyl</th>\n",
       "      <th>trans</th>\n",
       "      <th>drv</th>\n",
       "      <th>cty</th>\n",
       "      <th>hwy</th>\n",
       "      <th>fl</th>\n",
       "      <th>class</th>\n",
       "    </tr>\n",
       "  </thead>\n",
       "  <tbody>\n",
       "    <tr>\n",
       "      <th>0</th>\n",
       "      <td>audi</td>\n",
       "      <td>a4</td>\n",
       "      <td>1.8</td>\n",
       "      <td>1999</td>\n",
       "      <td>4</td>\n",
       "      <td>auto(l5)</td>\n",
       "      <td>f</td>\n",
       "      <td>18.0</td>\n",
       "      <td>29.0</td>\n",
       "      <td>p</td>\n",
       "      <td>compact</td>\n",
       "    </tr>\n",
       "    <tr>\n",
       "      <th>1</th>\n",
       "      <td>audi</td>\n",
       "      <td>a4</td>\n",
       "      <td>1.8</td>\n",
       "      <td>1999</td>\n",
       "      <td>4</td>\n",
       "      <td>manual(m5)</td>\n",
       "      <td>f</td>\n",
       "      <td>21.0</td>\n",
       "      <td>29.0</td>\n",
       "      <td>p</td>\n",
       "      <td>compact</td>\n",
       "    </tr>\n",
       "    <tr>\n",
       "      <th>2</th>\n",
       "      <td>audi</td>\n",
       "      <td>a4</td>\n",
       "      <td>2.0</td>\n",
       "      <td>2008</td>\n",
       "      <td>4</td>\n",
       "      <td>manual(m6)</td>\n",
       "      <td>f</td>\n",
       "      <td>20.0</td>\n",
       "      <td>31.0</td>\n",
       "      <td>p</td>\n",
       "      <td>compact</td>\n",
       "    </tr>\n",
       "    <tr>\n",
       "      <th>3</th>\n",
       "      <td>audi</td>\n",
       "      <td>a4</td>\n",
       "      <td>2.0</td>\n",
       "      <td>2008</td>\n",
       "      <td>4</td>\n",
       "      <td>auto(av)</td>\n",
       "      <td>f</td>\n",
       "      <td>21.0</td>\n",
       "      <td>30.0</td>\n",
       "      <td>p</td>\n",
       "      <td>compact</td>\n",
       "    </tr>\n",
       "    <tr>\n",
       "      <th>4</th>\n",
       "      <td>audi</td>\n",
       "      <td>a4</td>\n",
       "      <td>2.8</td>\n",
       "      <td>1999</td>\n",
       "      <td>6</td>\n",
       "      <td>auto(l5)</td>\n",
       "      <td>f</td>\n",
       "      <td>16.0</td>\n",
       "      <td>26.0</td>\n",
       "      <td>p</td>\n",
       "      <td>compact</td>\n",
       "    </tr>\n",
       "    <tr>\n",
       "      <th>...</th>\n",
       "      <td>...</td>\n",
       "      <td>...</td>\n",
       "      <td>...</td>\n",
       "      <td>...</td>\n",
       "      <td>...</td>\n",
       "      <td>...</td>\n",
       "      <td>...</td>\n",
       "      <td>...</td>\n",
       "      <td>...</td>\n",
       "      <td>...</td>\n",
       "      <td>...</td>\n",
       "    </tr>\n",
       "    <tr>\n",
       "      <th>229</th>\n",
       "      <td>volkswagen</td>\n",
       "      <td>passat</td>\n",
       "      <td>2.0</td>\n",
       "      <td>2008</td>\n",
       "      <td>4</td>\n",
       "      <td>auto(s6)</td>\n",
       "      <td>f</td>\n",
       "      <td>19.0</td>\n",
       "      <td>28.0</td>\n",
       "      <td>p</td>\n",
       "      <td>midsize</td>\n",
       "    </tr>\n",
       "    <tr>\n",
       "      <th>230</th>\n",
       "      <td>volkswagen</td>\n",
       "      <td>passat</td>\n",
       "      <td>2.0</td>\n",
       "      <td>2008</td>\n",
       "      <td>4</td>\n",
       "      <td>manual(m6)</td>\n",
       "      <td>f</td>\n",
       "      <td>21.0</td>\n",
       "      <td>29.0</td>\n",
       "      <td>p</td>\n",
       "      <td>midsize</td>\n",
       "    </tr>\n",
       "    <tr>\n",
       "      <th>231</th>\n",
       "      <td>volkswagen</td>\n",
       "      <td>passat</td>\n",
       "      <td>2.8</td>\n",
       "      <td>1999</td>\n",
       "      <td>6</td>\n",
       "      <td>auto(l5)</td>\n",
       "      <td>f</td>\n",
       "      <td>16.0</td>\n",
       "      <td>26.0</td>\n",
       "      <td>p</td>\n",
       "      <td>midsize</td>\n",
       "    </tr>\n",
       "    <tr>\n",
       "      <th>232</th>\n",
       "      <td>volkswagen</td>\n",
       "      <td>passat</td>\n",
       "      <td>2.8</td>\n",
       "      <td>1999</td>\n",
       "      <td>6</td>\n",
       "      <td>manual(m5)</td>\n",
       "      <td>f</td>\n",
       "      <td>18.0</td>\n",
       "      <td>26.0</td>\n",
       "      <td>p</td>\n",
       "      <td>midsize</td>\n",
       "    </tr>\n",
       "    <tr>\n",
       "      <th>233</th>\n",
       "      <td>volkswagen</td>\n",
       "      <td>passat</td>\n",
       "      <td>3.6</td>\n",
       "      <td>2008</td>\n",
       "      <td>6</td>\n",
       "      <td>auto(s6)</td>\n",
       "      <td>f</td>\n",
       "      <td>17.0</td>\n",
       "      <td>26.0</td>\n",
       "      <td>p</td>\n",
       "      <td>midsize</td>\n",
       "    </tr>\n",
       "  </tbody>\n",
       "</table>\n",
       "<p>234 rows × 11 columns</p>\n",
       "</div>"
      ],
      "text/plain": [
       "    manufacturer   model  displ  year  cyl       trans drv   cty   hwy fl  \\\n",
       "0           audi      a4    1.8  1999    4    auto(l5)   f  18.0  29.0  p   \n",
       "1           audi      a4    1.8  1999    4  manual(m5)   f  21.0  29.0  p   \n",
       "2           audi      a4    2.0  2008    4  manual(m6)   f  20.0  31.0  p   \n",
       "3           audi      a4    2.0  2008    4    auto(av)   f  21.0  30.0  p   \n",
       "4           audi      a4    2.8  1999    6    auto(l5)   f  16.0  26.0  p   \n",
       "..           ...     ...    ...   ...  ...         ...  ..   ...   ... ..   \n",
       "229   volkswagen  passat    2.0  2008    4    auto(s6)   f  19.0  28.0  p   \n",
       "230   volkswagen  passat    2.0  2008    4  manual(m6)   f  21.0  29.0  p   \n",
       "231   volkswagen  passat    2.8  1999    6    auto(l5)   f  16.0  26.0  p   \n",
       "232   volkswagen  passat    2.8  1999    6  manual(m5)   f  18.0  26.0  p   \n",
       "233   volkswagen  passat    3.6  2008    6    auto(s6)   f  17.0  26.0  p   \n",
       "\n",
       "       class  \n",
       "0    compact  \n",
       "1    compact  \n",
       "2    compact  \n",
       "3    compact  \n",
       "4    compact  \n",
       "..       ...  \n",
       "229  midsize  \n",
       "230  midsize  \n",
       "231  midsize  \n",
       "232  midsize  \n",
       "233  midsize  \n",
       "\n",
       "[234 rows x 11 columns]"
      ]
     },
     "execution_count": 45,
     "metadata": {},
     "output_type": "execute_result"
    }
   ],
   "source": [
    "cars"
   ]
  },
  {
   "cell_type": "markdown",
   "id": "195789da",
   "metadata": {},
   "source": [
    "1. Show relationship between highway and city miles per gallon. \\\n",
    "    a. Use scatter in matplotlib."
   ]
  },
  {
   "cell_type": "code",
   "execution_count": 47,
   "id": "f556452b",
   "metadata": {},
   "outputs": [
    {
     "data": {
      "text/plain": [
       "[29.0,\n",
       " 29.0,\n",
       " 31.0,\n",
       " 30.0,\n",
       " 26.0,\n",
       " 26.0,\n",
       " 27.0,\n",
       " 26.0,\n",
       " 25.0,\n",
       " 28.0,\n",
       " 27.0,\n",
       " 25.0,\n",
       " 25.0,\n",
       " nan,\n",
       " nan,\n",
       " 24.0,\n",
       " 25.0,\n",
       " 23.0,\n",
       " 20.0,\n",
       " 15.0,\n",
       " 20.0,\n",
       " 17.0,\n",
       " 17.0,\n",
       " 26.0,\n",
       " 23.0,\n",
       " 26.0,\n",
       " 25.0,\n",
       " 24.0,\n",
       " 19.0,\n",
       " 14.0,\n",
       " 15.0,\n",
       " 17.0,\n",
       " 27.0,\n",
       " 30.0,\n",
       " 26.0,\n",
       " 29.0,\n",
       " 26.0,\n",
       " 24.0,\n",
       " 24.0,\n",
       " 22.0,\n",
       " 22.0,\n",
       " 24.0,\n",
       " 24.0,\n",
       " 17.0,\n",
       " 22.0,\n",
       " 21.0,\n",
       " 23.0,\n",
       " nan,\n",
       " 19.0,\n",
       " 18.0,\n",
       " 17.0,\n",
       " 17.0,\n",
       " 19.0,\n",
       " 19.0,\n",
       " 12.0,\n",
       " 17.0,\n",
       " 15.0,\n",
       " 17.0,\n",
       " 17.0,\n",
       " 12.0,\n",
       " 17.0,\n",
       " 16.0,\n",
       " 18.0,\n",
       " 15.0,\n",
       " 16.0,\n",
       " 12.0,\n",
       " 17.0,\n",
       " 17.0,\n",
       " 16.0,\n",
       " 12.0,\n",
       " 15.0,\n",
       " 16.0,\n",
       " 17.0,\n",
       " 15.0,\n",
       " 17.0,\n",
       " 17.0,\n",
       " 18.0,\n",
       " 17.0,\n",
       " 19.0,\n",
       " 17.0,\n",
       " 19.0,\n",
       " 19.0,\n",
       " 17.0,\n",
       " nan,\n",
       " nan,\n",
       " nan,\n",
       " 16.0,\n",
       " 17.0,\n",
       " 15.0,\n",
       " 17.0,\n",
       " 26.0,\n",
       " 25.0,\n",
       " 26.0,\n",
       " 24.0,\n",
       " 21.0,\n",
       " 22.0,\n",
       " 23.0,\n",
       " 22.0,\n",
       " 20.0,\n",
       " 33.0,\n",
       " 32.0,\n",
       " 32.0,\n",
       " 29.0,\n",
       " 32.0,\n",
       " 34.0,\n",
       " 36.0,\n",
       " 36.0,\n",
       " 29.0,\n",
       " 26.0,\n",
       " 27.0,\n",
       " 30.0,\n",
       " 31.0,\n",
       " 26.0,\n",
       " 26.0,\n",
       " 28.0,\n",
       " 26.0,\n",
       " 29.0,\n",
       " 28.0,\n",
       " 27.0,\n",
       " 24.0,\n",
       " 24.0,\n",
       " 24.0,\n",
       " 22.0,\n",
       " 19.0,\n",
       " 20.0,\n",
       " 17.0,\n",
       " 12.0,\n",
       " 19.0,\n",
       " 18.0,\n",
       " 14.0,\n",
       " 15.0,\n",
       " 18.0,\n",
       " 18.0,\n",
       " 15.0,\n",
       " 17.0,\n",
       " 16.0,\n",
       " 18.0,\n",
       " 17.0,\n",
       " 19.0,\n",
       " 19.0,\n",
       " 17.0,\n",
       " 29.0,\n",
       " 27.0,\n",
       " 31.0,\n",
       " 32.0,\n",
       " 27.0,\n",
       " 26.0,\n",
       " 26.0,\n",
       " 25.0,\n",
       " 25.0,\n",
       " 17.0,\n",
       " 17.0,\n",
       " 20.0,\n",
       " 18.0,\n",
       " 26.0,\n",
       " 26.0,\n",
       " 27.0,\n",
       " 28.0,\n",
       " 25.0,\n",
       " 25.0,\n",
       " 24.0,\n",
       " 27.0,\n",
       " 25.0,\n",
       " 26.0,\n",
       " 23.0,\n",
       " 26.0,\n",
       " 26.0,\n",
       " 26.0,\n",
       " 26.0,\n",
       " 25.0,\n",
       " 27.0,\n",
       " 25.0,\n",
       " 27.0,\n",
       " 20.0,\n",
       " 20.0,\n",
       " 19.0,\n",
       " 17.0,\n",
       " 20.0,\n",
       " 17.0,\n",
       " 29.0,\n",
       " 27.0,\n",
       " 31.0,\n",
       " 31.0,\n",
       " 26.0,\n",
       " 26.0,\n",
       " 28.0,\n",
       " 27.0,\n",
       " 29.0,\n",
       " 31.0,\n",
       " 31.0,\n",
       " 26.0,\n",
       " 26.0,\n",
       " 27.0,\n",
       " 30.0,\n",
       " 33.0,\n",
       " 35.0,\n",
       " 37.0,\n",
       " 35.0,\n",
       " 15.0,\n",
       " 18.0,\n",
       " 20.0,\n",
       " 20.0,\n",
       " 22.0,\n",
       " 17.0,\n",
       " 19.0,\n",
       " 18.0,\n",
       " 20.0,\n",
       " 29.0,\n",
       " 26.0,\n",
       " 29.0,\n",
       " 29.0,\n",
       " 24.0,\n",
       " 44.0,\n",
       " 29.0,\n",
       " 26.0,\n",
       " 29.0,\n",
       " 29.0,\n",
       " 29.0,\n",
       " 29.0,\n",
       " 23.0,\n",
       " 24.0,\n",
       " 44.0,\n",
       " 41.0,\n",
       " 29.0,\n",
       " 26.0,\n",
       " 28.0,\n",
       " 29.0,\n",
       " 29.0,\n",
       " 29.0,\n",
       " 28.0,\n",
       " 29.0,\n",
       " 26.0,\n",
       " 26.0,\n",
       " 26.0]"
      ]
     },
     "execution_count": 47,
     "metadata": {},
     "output_type": "execute_result"
    }
   ],
   "source": [
    "city_mpg = cars[\"cty\"].tolist()\n",
    "highway_mpg = cars[\"hwy\"].tolist()\n",
    "\n",
    "highway_mpg"
   ]
  },
  {
   "cell_type": "code",
   "execution_count": null,
   "id": "876cf3ed",
   "metadata": {},
   "outputs": [],
   "source": []
  },
  {
   "cell_type": "code",
   "execution_count": null,
   "id": "5cf4d3a7",
   "metadata": {},
   "outputs": [],
   "source": []
  }
 ],
 "metadata": {
  "kernelspec": {
   "display_name": "Python 3 (ipykernel)",
   "language": "python",
   "name": "python3"
  },
  "language_info": {
   "codemirror_mode": {
    "name": "ipython",
    "version": 3
   },
   "file_extension": ".py",
   "mimetype": "text/x-python",
   "name": "python",
   "nbconvert_exporter": "python",
   "pygments_lexer": "ipython3",
   "version": "3.9.7"
  }
 },
 "nbformat": 4,
 "nbformat_minor": 5
}
