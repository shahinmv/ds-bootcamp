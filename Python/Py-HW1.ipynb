{
 "cells": [
  {
   "cell_type": "markdown",
   "id": "21d7db53",
   "metadata": {},
   "source": [
    "## Python Day 1 HW - Shahin Mammadov"
   ]
  },
  {
   "cell_type": "markdown",
   "id": "a6d54d1c",
   "metadata": {},
   "source": [
    "1. Create variable age equal to 32 and check its type."
   ]
  },
  {
   "cell_type": "code",
   "execution_count": 4,
   "id": "33495a91",
   "metadata": {},
   "outputs": [
    {
     "data": {
      "text/plain": [
       "int"
      ]
     },
     "execution_count": 4,
     "metadata": {},
     "output_type": "execute_result"
    }
   ],
   "source": [
    "age = 32\n",
    "type(age)"
   ]
  },
  {
   "cell_type": "markdown",
   "id": "389f438d",
   "metadata": {},
   "source": [
    "2. Create variable height equal to 1.85 and check its type."
   ]
  },
  {
   "cell_type": "code",
   "execution_count": 5,
   "id": "7a654c85",
   "metadata": {},
   "outputs": [
    {
     "data": {
      "text/plain": [
       "float"
      ]
     },
     "execution_count": 5,
     "metadata": {},
     "output_type": "execute_result"
    }
   ],
   "source": [
    "height = 1.85\n",
    "type(height)"
   ]
  },
  {
   "cell_type": "markdown",
   "id": "f2adef7d",
   "metadata": {},
   "source": [
    "3. Create variables name and surname. Define them as 'your_name' and 'your_surname'"
   ]
  },
  {
   "cell_type": "code",
   "execution_count": 7,
   "id": "6f8d45dc",
   "metadata": {},
   "outputs": [],
   "source": [
    "your_name = 'Shahin'\n",
    "your_surname = 'Mammadov'"
   ]
  },
  {
   "cell_type": "markdown",
   "id": "e8523999",
   "metadata": {},
   "source": [
    "4. Sum up name and surname variables. Define as ID."
   ]
  },
  {
   "cell_type": "code",
   "execution_count": 9,
   "id": "77380a60",
   "metadata": {},
   "outputs": [],
   "source": [
    "ID = your_name + your_surname"
   ]
  },
  {
   "cell_type": "markdown",
   "id": "93877aee",
   "metadata": {},
   "source": [
    "5. Use indexing. Find last letter of 'your_name'."
   ]
  },
  {
   "cell_type": "code",
   "execution_count": 10,
   "id": "2ed68741",
   "metadata": {},
   "outputs": [
    {
     "data": {
      "text/plain": [
       "'S'"
      ]
     },
     "execution_count": 10,
     "metadata": {},
     "output_type": "execute_result"
    }
   ],
   "source": [
    "your_name[0]"
   ]
  },
  {
   "cell_type": "markdown",
   "id": "8c5996a7",
   "metadata": {},
   "source": [
    "6. Use slicing. Find 2nd and 3rd letters of 'your_surname'."
   ]
  },
  {
   "cell_type": "code",
   "execution_count": 12,
   "id": "63f06895",
   "metadata": {},
   "outputs": [
    {
     "data": {
      "text/plain": [
       "'am'"
      ]
     },
     "execution_count": 12,
     "metadata": {},
     "output_type": "execute_result"
    }
   ],
   "source": [
    "your_surname[1:3]"
   ]
  },
  {
   "cell_type": "markdown",
   "id": "47303360",
   "metadata": {},
   "source": [
    "7. Create list as new_list. Include 3 4 5 6 7 integers."
   ]
  },
  {
   "cell_type": "code",
   "execution_count": 22,
   "id": "93bc4fe3",
   "metadata": {},
   "outputs": [],
   "source": [
    "new_list = [3, 4, 5, 6, 7]"
   ]
  },
  {
   "cell_type": "markdown",
   "id": "912917ff",
   "metadata": {},
   "source": [
    "8. Remove 5 from new_list."
   ]
  },
  {
   "cell_type": "code",
   "execution_count": 24,
   "id": "43e3073d",
   "metadata": {},
   "outputs": [
    {
     "data": {
      "text/plain": [
       "[3, 4, 6, 7]"
      ]
     },
     "execution_count": 24,
     "metadata": {},
     "output_type": "execute_result"
    }
   ],
   "source": [
    "new_list.remove(5)\n",
    "new_list"
   ]
  },
  {
   "cell_type": "markdown",
   "id": "8d4a00b8",
   "metadata": {},
   "source": [
    "9. Delete 2nd value of new_list"
   ]
  },
  {
   "cell_type": "code",
   "execution_count": 25,
   "id": "3919912b",
   "metadata": {},
   "outputs": [
    {
     "data": {
      "text/plain": [
       "[3, 6, 7]"
      ]
     },
     "execution_count": 25,
     "metadata": {},
     "output_type": "execute_result"
    }
   ],
   "source": [
    "del new_list[1]\n",
    "new_list"
   ]
  },
  {
   "cell_type": "markdown",
   "id": "f7ec5b5e",
   "metadata": {},
   "source": [
    "10. Create tuple as new_tuple. Include 3 4 5 6 7 integers."
   ]
  },
  {
   "cell_type": "code",
   "execution_count": 26,
   "id": "9c409e95",
   "metadata": {},
   "outputs": [],
   "source": [
    "new_tuple = (3, 4, 5, 6, 7)"
   ]
  },
  {
   "cell_type": "markdown",
   "id": "ff402386",
   "metadata": {},
   "source": [
    "11. Change 4 in new_tuple to 8."
   ]
  },
  {
   "cell_type": "code",
   "execution_count": 27,
   "id": "2b71e627",
   "metadata": {},
   "outputs": [
    {
     "ename": "TypeError",
     "evalue": "'tuple' object does not support item assignment",
     "output_type": "error",
     "traceback": [
      "\u001b[1;31m---------------------------------------------------------------------------\u001b[0m",
      "\u001b[1;31mTypeError\u001b[0m                                 Traceback (most recent call last)",
      "\u001b[1;32mC:\\Users\\SHAHIN~1\\AppData\\Local\\Temp/ipykernel_20504/255882409.py\u001b[0m in \u001b[0;36m<module>\u001b[1;34m\u001b[0m\n\u001b[1;32m----> 1\u001b[1;33m \u001b[0mnew_tuple\u001b[0m\u001b[1;33m[\u001b[0m\u001b[1;36m1\u001b[0m\u001b[1;33m]\u001b[0m \u001b[1;33m=\u001b[0m \u001b[1;36m8\u001b[0m\u001b[1;33m\u001b[0m\u001b[1;33m\u001b[0m\u001b[0m\n\u001b[0m\u001b[0;32m      2\u001b[0m \u001b[0mnew_tuple\u001b[0m\u001b[1;33m\u001b[0m\u001b[1;33m\u001b[0m\u001b[0m\n",
      "\u001b[1;31mTypeError\u001b[0m: 'tuple' object does not support item assignment"
     ]
    }
   ],
   "source": [
    "new_tuple[1] = 8\n",
    "new_tuple"
   ]
  },
  {
   "cell_type": "markdown",
   "id": "7f46aaf1",
   "metadata": {},
   "source": [
    "As seen above, tuple is immutable so the values can not be changed. There is a workaround, where we can convert the tuple into a list, change the value and convert it back to tuple, as seen below."
   ]
  },
  {
   "cell_type": "code",
   "execution_count": 28,
   "id": "4d485bc9",
   "metadata": {},
   "outputs": [
    {
     "data": {
      "text/plain": [
       "(3, 8, 5, 6, 7)"
      ]
     },
     "execution_count": 28,
     "metadata": {},
     "output_type": "execute_result"
    }
   ],
   "source": [
    "temp = list(new_tuple)\n",
    "temp[1] = 8\n",
    "new_tuple = tuple(temp)\n",
    "new_tuple"
   ]
  }
 ],
 "metadata": {
  "kernelspec": {
   "display_name": "Python 3 (ipykernel)",
   "language": "python",
   "name": "python3"
  },
  "language_info": {
   "codemirror_mode": {
    "name": "ipython",
    "version": 3
   },
   "file_extension": ".py",
   "mimetype": "text/x-python",
   "name": "python",
   "nbconvert_exporter": "python",
   "pygments_lexer": "ipython3",
   "version": "3.9.7"
  }
 },
 "nbformat": 4,
 "nbformat_minor": 5
}
