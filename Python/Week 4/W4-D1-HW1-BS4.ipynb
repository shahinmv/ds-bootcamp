{
 "cells": [
  {
   "cell_type": "markdown",
   "id": "f7fa1e28",
   "metadata": {},
   "source": [
    "# Week 4 Day 1 Homework 1 - BS4\n",
    "## Shahin Mammadov"
   ]
  },
  {
   "cell_type": "code",
   "execution_count": 25,
   "id": "009a9924",
   "metadata": {},
   "outputs": [],
   "source": [
    "import requests\n",
    "from bs4 import BeautifulSoup\n",
    "import pandas as pd"
   ]
  },
  {
   "cell_type": "code",
   "execution_count": 26,
   "id": "e3d3f29a",
   "metadata": {},
   "outputs": [],
   "source": [
    "URL = \"https://bina.az/\"\n",
    "r = requests.get(URL)"
   ]
  },
  {
   "cell_type": "code",
   "execution_count": 27,
   "id": "614d30f3",
   "metadata": {},
   "outputs": [],
   "source": [
    "soup = BeautifulSoup(r.content, 'html5lib')\n",
    "\n",
    "vip_section = soup.find('section', attrs = {'class':'vipped_row thumblist row slider-row js-slider-row'}) \n",
    "vip_each = vip_section.find_all('div', attrs = {'class':'items_slider_row--vipped'}) \n",
    "\n",
    "latest_section = soup.find('section', attrs = {'class':'latest_row thumblist row slider-row js-slider-row'})\n",
    "latest_each = latest_section.find_all('div', attrs = {'class':'items_list'})"
   ]
  },
  {
   "cell_type": "code",
   "execution_count": 28,
   "id": "6f97ee53",
   "metadata": {},
   "outputs": [],
   "source": [
    "location = []\n",
    "date = []\n",
    "link = []\n",
    "section = []"
   ]
  },
  {
   "cell_type": "code",
   "execution_count": 31,
   "id": "cc298814",
   "metadata": {},
   "outputs": [],
   "source": [
    "for row in vip_each:\n",
    "    x = row.find_all('div', attrs = {'class':['items-i vipped', 'items-i featured vipped']})\n",
    "    for info in x:\n",
    "        section.append('VIP')\n",
    "        link.append('https://bina.az' + info.find('a', attrs = {'class':'item_link'})['href'])\n",
    "        location.append(info.find('div', attrs = {'class':'location'}).text)\n",
    "        date.append(info.find('div', attrs = {'class':'city_when'}).text.split(',')[1].lstrip())\n",
    "\n",
    "for row in latest_each:\n",
    "    x = row.find_all('div', attrs = {'class':['items-i vipped', 'items-i']})\n",
    "    for info in x:\n",
    "        section.append('Latest')\n",
    "        link.append('https://bina.az' + info.find('a', attrs = {'class':'item_link'})['href'])\n",
    "        location.append(info.find('div', attrs = {'class':'location'}).text)\n",
    "        date.append(info.find('div', attrs = {'class':'city_when'}).text.split(',')[1].lstrip())"
   ]
  },
  {
   "cell_type": "code",
   "execution_count": 32,
   "id": "d56f2d0b",
   "metadata": {},
   "outputs": [
    {
     "data": {
      "text/html": [
       "<div>\n",
       "<style scoped>\n",
       "    .dataframe tbody tr th:only-of-type {\n",
       "        vertical-align: middle;\n",
       "    }\n",
       "\n",
       "    .dataframe tbody tr th {\n",
       "        vertical-align: top;\n",
       "    }\n",
       "\n",
       "    .dataframe thead th {\n",
       "        text-align: right;\n",
       "    }\n",
       "</style>\n",
       "<table border=\"1\" class=\"dataframe\">\n",
       "  <thead>\n",
       "    <tr style=\"text-align: right;\">\n",
       "      <th></th>\n",
       "      <th>location</th>\n",
       "      <th>link</th>\n",
       "      <th>date</th>\n",
       "      <th>section</th>\n",
       "    </tr>\n",
       "  </thead>\n",
       "  <tbody>\n",
       "    <tr>\n",
       "      <th>0</th>\n",
       "      <td>Nərimanov r.</td>\n",
       "      <td>https://bina.az/items/2937781</td>\n",
       "      <td>bugün 13:44</td>\n",
       "      <td>VIP</td>\n",
       "    </tr>\n",
       "    <tr>\n",
       "      <th>1</th>\n",
       "      <td>Nəsimi r.</td>\n",
       "      <td>https://bina.az/items/2957509</td>\n",
       "      <td>24 avqust 2022</td>\n",
       "      <td>VIP</td>\n",
       "    </tr>\n",
       "    <tr>\n",
       "      <th>2</th>\n",
       "      <td>Qəbələ</td>\n",
       "      <td>https://bina.az/items/2950377</td>\n",
       "      <td>27 avqust 2022</td>\n",
       "      <td>VIP</td>\n",
       "    </tr>\n",
       "    <tr>\n",
       "      <th>3</th>\n",
       "      <td>Masazır q.</td>\n",
       "      <td>https://bina.az/items/2880196</td>\n",
       "      <td>09 avqust 2022</td>\n",
       "      <td>VIP</td>\n",
       "    </tr>\n",
       "    <tr>\n",
       "      <th>4</th>\n",
       "      <td>Fatmayı q.</td>\n",
       "      <td>https://bina.az/items/2962678</td>\n",
       "      <td>27 avqust 2022</td>\n",
       "      <td>VIP</td>\n",
       "    </tr>\n",
       "    <tr>\n",
       "      <th>...</th>\n",
       "      <td>...</td>\n",
       "      <td>...</td>\n",
       "      <td>...</td>\n",
       "      <td>...</td>\n",
       "    </tr>\n",
       "    <tr>\n",
       "      <th>67</th>\n",
       "      <td>Yasamal q.</td>\n",
       "      <td>https://bina.az/items/2872231</td>\n",
       "      <td>bugün 14:29</td>\n",
       "      <td>Latest</td>\n",
       "    </tr>\n",
       "    <tr>\n",
       "      <th>68</th>\n",
       "      <td>Mərdəkan q.</td>\n",
       "      <td>https://bina.az/items/2964855</td>\n",
       "      <td>bugün 14:29</td>\n",
       "      <td>Latest</td>\n",
       "    </tr>\n",
       "    <tr>\n",
       "      <th>69</th>\n",
       "      <td>Yasamal q.</td>\n",
       "      <td>https://bina.az/items/2934786</td>\n",
       "      <td>bugün 14:29</td>\n",
       "      <td>Latest</td>\n",
       "    </tr>\n",
       "    <tr>\n",
       "      <th>70</th>\n",
       "      <td>Həzi Aslanov m.</td>\n",
       "      <td>https://bina.az/items/2964854</td>\n",
       "      <td>bugün 14:29</td>\n",
       "      <td>Latest</td>\n",
       "    </tr>\n",
       "    <tr>\n",
       "      <th>71</th>\n",
       "      <td>28 May m.</td>\n",
       "      <td>https://bina.az/items/2931679</td>\n",
       "      <td>bugün 14:29</td>\n",
       "      <td>Latest</td>\n",
       "    </tr>\n",
       "  </tbody>\n",
       "</table>\n",
       "<p>72 rows × 4 columns</p>\n",
       "</div>"
      ],
      "text/plain": [
       "           location                           link            date section\n",
       "0      Nərimanov r.  https://bina.az/items/2937781     bugün 13:44     VIP\n",
       "1         Nəsimi r.  https://bina.az/items/2957509  24 avqust 2022     VIP\n",
       "2            Qəbələ  https://bina.az/items/2950377  27 avqust 2022     VIP\n",
       "3        Masazır q.  https://bina.az/items/2880196  09 avqust 2022     VIP\n",
       "4        Fatmayı q.  https://bina.az/items/2962678  27 avqust 2022     VIP\n",
       "..              ...                            ...             ...     ...\n",
       "67       Yasamal q.  https://bina.az/items/2872231     bugün 14:29  Latest\n",
       "68      Mərdəkan q.  https://bina.az/items/2964855     bugün 14:29  Latest\n",
       "69       Yasamal q.  https://bina.az/items/2934786     bugün 14:29  Latest\n",
       "70  Həzi Aslanov m.  https://bina.az/items/2964854     bugün 14:29  Latest\n",
       "71        28 May m.  https://bina.az/items/2931679     bugün 14:29  Latest\n",
       "\n",
       "[72 rows x 4 columns]"
      ]
     },
     "execution_count": 32,
     "metadata": {},
     "output_type": "execute_result"
    }
   ],
   "source": [
    "d = {'location': location, 'link': link, 'date': date, 'section': section}\n",
    "df = pd.DataFrame(data=d)\n",
    "df"
   ]
  },
  {
   "cell_type": "code",
   "execution_count": null,
   "id": "0dc7a904",
   "metadata": {},
   "outputs": [],
   "source": []
  }
 ],
 "metadata": {
  "kernelspec": {
   "display_name": "Python 3 (ipykernel)",
   "language": "python",
   "name": "python3"
  },
  "language_info": {
   "codemirror_mode": {
    "name": "ipython",
    "version": 3
   },
   "file_extension": ".py",
   "mimetype": "text/x-python",
   "name": "python",
   "nbconvert_exporter": "python",
   "pygments_lexer": "ipython3",
   "version": "3.9.7"
  }
 },
 "nbformat": 4,
 "nbformat_minor": 5
}
