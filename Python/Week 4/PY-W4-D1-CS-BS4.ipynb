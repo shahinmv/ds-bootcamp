{
 "cells": [
  {
   "cell_type": "markdown",
   "id": "248dfc15",
   "metadata": {},
   "source": [
    "# Week 4 Day 1 Case study - BS4\n",
    "## Shahin Mammadov"
   ]
  },
  {
   "cell_type": "code",
   "execution_count": 10,
   "id": "23feeec8",
   "metadata": {},
   "outputs": [],
   "source": [
    "import requests\n",
    "from bs4 import BeautifulSoup\n",
    "import pandas as pd"
   ]
  },
  {
   "cell_type": "code",
   "execution_count": 11,
   "id": "450c41ca",
   "metadata": {},
   "outputs": [],
   "source": [
    "URL = 'https://www.reddit.com/r/gameofthrones/'\n",
    "headers = {'User-Agent': 'Chrome/90.0.4430.93'}\n",
    "r = requests.get(URL, headers=headers)"
   ]
  },
  {
   "cell_type": "code",
   "execution_count": 12,
   "id": "01a3f206",
   "metadata": {},
   "outputs": [],
   "source": [
    "soup = BeautifulSoup(r.content, \"html.parser\")\n",
    "\n",
    "posts_each = soup.find_all('h3', attrs = {'class':'_eYtD2XCVieq6emjKBH3m'})\n",
    "votes_each = soup.find_all('div', attrs = {'class':'_1rZYMD_4xY3gRcSS3p8ODO _3a2ZHWaih05DgAOtvu6cIo'})\n",
    "dates_each = soup.find_all('span', attrs = {'class':'_2VF2J19pUIMSLJFky-7PEI'})\n",
    "links_each = soup.find_all('a', attrs = {'class':'SQnoC3ObvgnGjWt90zD9Z _2INHSNB8V5eaWp4P0rY_mE'})"
   ]
  },
  {
   "cell_type": "code",
   "execution_count": 13,
   "id": "359f864a",
   "metadata": {},
   "outputs": [],
   "source": [
    "posts = []\n",
    "votes = []\n",
    "dates = []\n",
    "links = []"
   ]
  },
  {
   "cell_type": "code",
   "execution_count": 14,
   "id": "75708852",
   "metadata": {},
   "outputs": [],
   "source": [
    "for row in posts_each:\n",
    "    posts.append(row.get_text()) \n",
    "\n",
    "for row in votes_each:\n",
    "    votes.append(row.get_text()) \n",
    "\n",
    "for row in dates_each:\n",
    "    dates.append(row.get_text()) \n",
    "\n",
    "for row in links_each:\n",
    "    links.append(\"https://www.reddit.com/\" + row['href'])"
   ]
  },
  {
   "cell_type": "code",
   "execution_count": 15,
   "id": "e6d7476e",
   "metadata": {},
   "outputs": [
    {
     "data": {
      "text/html": [
       "<div>\n",
       "<style scoped>\n",
       "    .dataframe tbody tr th:only-of-type {\n",
       "        vertical-align: middle;\n",
       "    }\n",
       "\n",
       "    .dataframe tbody tr th {\n",
       "        vertical-align: top;\n",
       "    }\n",
       "\n",
       "    .dataframe thead th {\n",
       "        text-align: right;\n",
       "    }\n",
       "</style>\n",
       "<table border=\"1\" class=\"dataframe\">\n",
       "  <thead>\n",
       "    <tr style=\"text-align: right;\">\n",
       "      <th></th>\n",
       "      <th>posts</th>\n",
       "      <th>votes</th>\n",
       "      <th>date</th>\n",
       "      <th>link</th>\n",
       "    </tr>\n",
       "  </thead>\n",
       "  <tbody>\n",
       "    <tr>\n",
       "      <th>0</th>\n",
       "      <td>[Giveaway] Secretlab x House of the Dragon</td>\n",
       "      <td>70</td>\n",
       "      <td>4 days ago</td>\n",
       "      <td>https://www.reddit.com//r/gameofthrones/commen...</td>\n",
       "    </tr>\n",
       "    <tr>\n",
       "      <th>1</th>\n",
       "      <td>HOTD S1E2 - Day-After Discussion</td>\n",
       "      <td>103</td>\n",
       "      <td>1 day ago</td>\n",
       "      <td>https://www.reddit.com//r/gameofthrones/commen...</td>\n",
       "    </tr>\n",
       "    <tr>\n",
       "      <th>2</th>\n",
       "      <td>Something you don't think about</td>\n",
       "      <td>5.3k</td>\n",
       "      <td>8 hours ago</td>\n",
       "      <td>https://www.reddit.com//r/gameofthrones/commen...</td>\n",
       "    </tr>\n",
       "    <tr>\n",
       "      <th>3</th>\n",
       "      <td>Very true</td>\n",
       "      <td>128</td>\n",
       "      <td>5 hours ago</td>\n",
       "      <td>https://www.reddit.com//r/gameofthrones/commen...</td>\n",
       "    </tr>\n",
       "    <tr>\n",
       "      <th>4</th>\n",
       "      <td>Episode 2 of “House of the Dragon” drew in 10....</td>\n",
       "      <td>1.3k</td>\n",
       "      <td>19 hours ago</td>\n",
       "      <td>https://www.reddit.com//r/gameofthrones/commen...</td>\n",
       "    </tr>\n",
       "    <tr>\n",
       "      <th>5</th>\n",
       "      <td>[no spoilers] Drogon, Rhaegal, and Viserion.</td>\n",
       "      <td>Vote</td>\n",
       "      <td>45 minutes ago</td>\n",
       "      <td>https://www.reddit.com//r/gameofthrones/commen...</td>\n",
       "    </tr>\n",
       "    <tr>\n",
       "      <th>6</th>\n",
       "      <td>Otto vs Daemon... as a Sitcom</td>\n",
       "      <td>33</td>\n",
       "      <td>5 hours ago</td>\n",
       "      <td>https://www.reddit.com//r/gameofthrones/commen...</td>\n",
       "    </tr>\n",
       "  </tbody>\n",
       "</table>\n",
       "</div>"
      ],
      "text/plain": [
       "                                               posts votes            date  \\\n",
       "0         [Giveaway] Secretlab x House of the Dragon    70      4 days ago   \n",
       "1                   HOTD S1E2 - Day-After Discussion   103       1 day ago   \n",
       "2                    Something you don't think about  5.3k     8 hours ago   \n",
       "3                                          Very true   128     5 hours ago   \n",
       "4  Episode 2 of “House of the Dragon” drew in 10....  1.3k    19 hours ago   \n",
       "5       [no spoilers] Drogon, Rhaegal, and Viserion.  Vote  45 minutes ago   \n",
       "6                      Otto vs Daemon... as a Sitcom    33     5 hours ago   \n",
       "\n",
       "                                                link  \n",
       "0  https://www.reddit.com//r/gameofthrones/commen...  \n",
       "1  https://www.reddit.com//r/gameofthrones/commen...  \n",
       "2  https://www.reddit.com//r/gameofthrones/commen...  \n",
       "3  https://www.reddit.com//r/gameofthrones/commen...  \n",
       "4  https://www.reddit.com//r/gameofthrones/commen...  \n",
       "5  https://www.reddit.com//r/gameofthrones/commen...  \n",
       "6  https://www.reddit.com//r/gameofthrones/commen...  "
      ]
     },
     "execution_count": 15,
     "metadata": {},
     "output_type": "execute_result"
    }
   ],
   "source": [
    "d = {'posts': posts, 'votes': votes, 'date': dates, 'link': links}\n",
    "df = pd.DataFrame(data=d)\n",
    "df"
   ]
  },
  {
   "cell_type": "code",
   "execution_count": null,
   "id": "6bd82cfc",
   "metadata": {},
   "outputs": [],
   "source": []
  }
 ],
 "metadata": {
  "kernelspec": {
   "display_name": "Python 3 (ipykernel)",
   "language": "python",
   "name": "python3"
  },
  "language_info": {
   "codemirror_mode": {
    "name": "ipython",
    "version": 3
   },
   "file_extension": ".py",
   "mimetype": "text/x-python",
   "name": "python",
   "nbconvert_exporter": "python",
   "pygments_lexer": "ipython3",
   "version": "3.9.12"
  }
 },
 "nbformat": 4,
 "nbformat_minor": 5
}
