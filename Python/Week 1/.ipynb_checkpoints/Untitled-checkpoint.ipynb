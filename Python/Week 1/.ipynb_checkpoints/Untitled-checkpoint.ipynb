{
 "cells": [
  {
   "cell_type": "markdown",
   "id": "757bc33e",
   "metadata": {},
   "source": [
    "# Case Study Week 1"
   ]
  },
  {
   "cell_type": "markdown",
   "id": "13fa5fd6",
   "metadata": {},
   "source": [
    "1. Create a function called \"addition_2number\" that takes two input numbers from user and returns sum and count of them."
   ]
  },
  {
   "cell_type": "code",
   "execution_count": 1,
   "id": "9e8dba7c",
   "metadata": {},
   "outputs": [
    {
     "name": "stdout",
     "output_type": "stream",
     "text": [
      "9\n"
     ]
    }
   ],
   "source": [
    "def addition_2number(x, y):\n",
    "    return x+y\n",
    "\n",
    "print(addition_2number(4, 5))"
   ]
  },
  {
   "cell_type": "markdown",
   "id": "e88acb88",
   "metadata": {},
   "source": [
    "2. Create a function called \"addition\" that can add two or more numbers till user enters zero and returns answer and count of input numbers in a list."
   ]
  },
  {
   "cell_type": "code",
   "execution_count": 7,
   "id": "4bedbb0d",
   "metadata": {},
   "outputs": [
    {
     "name": "stdout",
     "output_type": "stream",
     "text": [
      "1\n",
      "2\n",
      "3\n",
      "4\n",
      "5\n",
      "0\n",
      "Sum: 15, Count: 5\n"
     ]
    }
   ],
   "source": [
    "def addition(num_list):\n",
    "    return sum(num_list), len(num_list)\n",
    "\n",
    "num_list = []\n",
    "\n",
    "while True:\n",
    "    x = int(input())\n",
    "    if x == 0:\n",
    "        result = addition(num_list)\n",
    "        break\n",
    "    else:\n",
    "        num_list.append(x)\n",
    "print(\"Sum: {}, Count: {}\".format(result[0], result[1]))"
   ]
  },
  {
   "cell_type": "markdown",
   "id": "117c2256",
   "metadata": {},
   "source": [
    "3. Create a function called \"subtraction\" that can subtract two or more numbers till user enters zero and returns answer and countof input numbers in a list."
   ]
  },
  {
   "cell_type": "code",
   "execution_count": 20,
   "id": "3d8356ad",
   "metadata": {},
   "outputs": [
    {
     "name": "stdout",
     "output_type": "stream",
     "text": [
      "3\n",
      "2\n",
      "1\n",
      "0\n",
      "Subtract: 0, Count: 3\n"
     ]
    }
   ],
   "source": [
    "def subtract(num_list):\n",
    "    return num_list[0] - sum(num_list[1:]), len(num_list)\n",
    "\n",
    "num_list = []\n",
    "\n",
    "while True:\n",
    "    x = int(input())\n",
    "    if x == 0:\n",
    "        result = subtract(num_list)\n",
    "        break\n",
    "    else:\n",
    "        num_list.append(x)\n",
    "print(\"Subtract: {}, Count: {}\".format(result[0], result[1]))"
   ]
  },
  {
   "cell_type": "markdown",
   "id": "654a94db",
   "metadata": {},
   "source": [
    "4. Create a function called \"multiplication\" that can multiply two or more numbers till user enters zero and returns answer and count of input numbers in a list."
   ]
  },
  {
   "cell_type": "code",
   "execution_count": 10,
   "id": "0821d161",
   "metadata": {},
   "outputs": [
    {
     "name": "stdout",
     "output_type": "stream",
     "text": [
      "5\n",
      "4\n",
      "3\n",
      "0\n",
      "Multiplication: 60, Count: 3\n"
     ]
    }
   ],
   "source": [
    "def multiplication(num_list):\n",
    "    res = 1\n",
    "    for x in num_list:\n",
    "        res = res * x\n",
    "    return res, len(num_list)\n",
    "\n",
    "num_list = []\n",
    "\n",
    "while True:\n",
    "    x = int(input())\n",
    "    if x == 0:\n",
    "        result = multiplication(num_list)\n",
    "        break\n",
    "    else:\n",
    "        num_list.append(x)\n",
    "print(\"Multiplication: {}, Count: {}\".format(result[0], result[1]))"
   ]
  },
  {
   "cell_type": "markdown",
   "id": "8a5277bb",
   "metadata": {},
   "source": [
    "5. Create a function called “average” that returns mean of “addition” function."
   ]
  },
  {
   "cell_type": "code",
   "execution_count": 13,
   "id": "9e857410",
   "metadata": {},
   "outputs": [
    {
     "name": "stdout",
     "output_type": "stream",
     "text": [
      "12\n",
      "16\n",
      "4\n",
      "6\n",
      "22\n",
      "12\n",
      "0\n",
      "Average: 12.0\n"
     ]
    }
   ],
   "source": [
    "def average(num_list):\n",
    "    addition_list = addition(num_list)\n",
    "    return (addition_list[0]/addition_list[1])\n",
    "\n",
    "num_list = []\n",
    "\n",
    "while True:\n",
    "    x = int(input())\n",
    "    if x == 0:\n",
    "        result = average(num_list)\n",
    "        break\n",
    "    else:\n",
    "        num_list.append(x)\n",
    "print(\"Average: {}\".format(result))"
   ]
  },
  {
   "cell_type": "markdown",
   "id": "4bc8c051",
   "metadata": {},
   "source": [
    "6. Create a simple calculator that asks user to perform operations among created functions."
   ]
  },
  {
   "cell_type": "code",
   "execution_count": 25,
   "id": "eb33993e",
   "metadata": {},
   "outputs": [
    {
     "name": "stdout",
     "output_type": "stream",
     "text": [
      "Welcome to our simple and interactive calculator written on python, for a casestudy.\n",
      "You will be given options to choose which operations to perform before inputting the numbers\n",
      "----------------------------------------------------------------------------------------------\n",
      "Press:\n",
      "--- (1 or +) for addition\n",
      "--- (2 or -) for subtraction\n",
      "--- (3 or *) for multiplication\n",
      "--- (4 or %) for average\n",
      "---4\n",
      "!!! Input as many numbers as you want, enter '0' for performing the operation\n",
      "5\n",
      "4\n",
      "3\n",
      "0\n",
      "Average: 4.0\n"
     ]
    }
   ],
   "source": [
    "print(\"Welcome to our simple and interactive calculator written on python, for a casestudy.\")\n",
    "print(\"You will be given options to choose which operations to perform before inputting the numbers\")\n",
    "print(\"----------------------------------------------------------------------------------------------\")\n",
    "print(\"Press:\")\n",
    "print(\"--- (1 or +) for addition\")\n",
    "print(\"--- (2 or -) for subtraction\")\n",
    "print(\"--- (3 or *) for multiplication\")\n",
    "print(\"--- (4 or %) for average\")\n",
    "\n",
    "choice = input(\"---\")\n",
    "\n",
    "num_list = []\n",
    "result = 0\n",
    "\n",
    "print(\"!!! Input as many numbers as you want, enter '0' for performing the operation\")\n",
    "\n",
    "while True:\n",
    "    x = int(input())\n",
    "    if x == 0:\n",
    "        if choice == \"1\" or choice == \"+\":\n",
    "            result = addition(num_list)\n",
    "            print(\"Sum: {}\".format(result[0]))\n",
    "            break\n",
    "        elif choice == \"2\" or choice == \"-\":\n",
    "            result = subtract(num_list)\n",
    "            print(\"Subtraction: {}\".format(result[0]))\n",
    "            break\n",
    "        elif choice == \"3\" or choice == \"*\":\n",
    "            result = multiplication(num_list)\n",
    "            print(\"Multiplication: {}\".format(result[0]))\n",
    "            break\n",
    "        else:\n",
    "            result = average(num_list)\n",
    "            print(\"Average: {}\".format(result))\n",
    "        break\n",
    "    else:\n",
    "        num_list.append(x)"
   ]
  },
  {
   "cell_type": "markdown",
   "id": "d73df3e6",
   "metadata": {},
   "source": [
    "7. Write a Python program to find intersection of two given arrays using lambda."
   ]
  },
  {
   "cell_type": "code",
   "execution_count": 30,
   "id": "a3087bca",
   "metadata": {},
   "outputs": [
    {
     "name": "stdout",
     "output_type": "stream",
     "text": [
      "[9, 11, 26, 28]\n"
     ]
    }
   ],
   "source": [
    "lst1 = [4, 9, 1, 17, 11, 26, 28, 54, 69]\n",
    "lst2 = [9, 9, 74, 21, 45, 11, 63, 28, 26]\n",
    "\n",
    "intersection = list(filter(lambda x: x in lst2, lst1))\n",
    "\n",
    "print(intersection)"
   ]
  },
  {
   "cell_type": "markdown",
   "id": "f6cc8261",
   "metadata": {},
   "source": [
    "8. Write a Python program to add two given lists using map and lambda."
   ]
  },
  {
   "cell_type": "code",
   "execution_count": 31,
   "id": "26dc5fd7",
   "metadata": {},
   "outputs": [
    {
     "name": "stdout",
     "output_type": "stream",
     "text": [
      "[13, 18, 75, 38, 56, 37, 91, 82, 95]\n"
     ]
    }
   ],
   "source": [
    "add_list = list(map(lambda x, y: x + y, lst1, lst2))\n",
    "print(add_list)"
   ]
  },
  {
   "cell_type": "markdown",
   "id": "4d0a03b1",
   "metadata": {},
   "source": [
    "9. Write a Python program that stores numbers in a list which are divisible by nineteen or\n",
    "thirteen from a given list."
   ]
  },
  {
   "cell_type": "code",
   "execution_count": 36,
   "id": "644d2620",
   "metadata": {},
   "outputs": [
    {
     "name": "stdout",
     "output_type": "stream",
     "text": [
      "[38, 26]\n"
     ]
    }
   ],
   "source": [
    "temp_list = [12, 43, 38, 25, 26, 98, 34]\n",
    "\n",
    "divisible = list(filter(lambda x: x%19==0 or x%13==0, temp_list))\n",
    "\n",
    "print(divisible)"
   ]
  }
 ],
 "metadata": {
  "kernelspec": {
   "display_name": "Python 3 (ipykernel)",
   "language": "python",
   "name": "python3"
  },
  "language_info": {
   "codemirror_mode": {
    "name": "ipython",
    "version": 3
   },
   "file_extension": ".py",
   "mimetype": "text/x-python",
   "name": "python",
   "nbconvert_exporter": "python",
   "pygments_lexer": "ipython3",
   "version": "3.9.7"
  }
 },
 "nbformat": 4,
 "nbformat_minor": 5
}
