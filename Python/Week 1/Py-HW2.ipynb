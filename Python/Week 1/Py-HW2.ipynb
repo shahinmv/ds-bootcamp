{
 "cells": [
  {
   "cell_type": "markdown",
   "id": "1aeeb896",
   "metadata": {},
   "source": [
    "## Python Day 1 HW - Shahin Mammadov\n"
   ]
  },
  {
   "cell_type": "markdown",
   "id": "ef1374d5",
   "metadata": {},
   "source": [
    "1. Print first 10 natural numbers using for loop."
   ]
  },
  {
   "cell_type": "code",
   "execution_count": 2,
   "id": "149d2a8e",
   "metadata": {},
   "outputs": [
    {
     "name": "stdout",
     "output_type": "stream",
     "text": [
      "1\n",
      "2\n",
      "3\n",
      "4\n",
      "5\n",
      "6\n",
      "7\n",
      "8\n",
      "9\n",
      "10\n"
     ]
    }
   ],
   "source": [
    "for x in range(1, 11):\n",
    "    print(x)"
   ]
  },
  {
   "cell_type": "markdown",
   "id": "e4892bee",
   "metadata": {},
   "source": [
    "2. Display -10 to -1 using for loop."
   ]
  },
  {
   "cell_type": "code",
   "execution_count": 4,
   "id": "d15025a8",
   "metadata": {},
   "outputs": [
    {
     "name": "stdout",
     "output_type": "stream",
     "text": [
      "-10\n",
      "-9\n",
      "-8\n",
      "-7\n",
      "-6\n",
      "-5\n",
      "-4\n",
      "-3\n",
      "-2\n",
      "-1\n"
     ]
    }
   ],
   "source": [
    "for x in range(-10, -0):\n",
    "    print(x)"
   ]
  },
  {
   "cell_type": "markdown",
   "id": "0b271375",
   "metadata": {},
   "source": [
    "3. Write python program that prints all the numbers from 0 to 6 except 3 and 6."
   ]
  },
  {
   "cell_type": "code",
   "execution_count": 6,
   "id": "3917bcfb",
   "metadata": {},
   "outputs": [
    {
     "name": "stdout",
     "output_type": "stream",
     "text": [
      "0\n",
      "1\n",
      "2\n",
      "4\n",
      "5\n"
     ]
    }
   ],
   "source": [
    "for x in range(0, 7):\n",
    "    if x != 3 and x != 6:\n",
    "        print(x)"
   ]
  },
  {
   "cell_type": "markdown",
   "id": "4133036d",
   "metadata": {},
   "source": [
    "4. Calculate the sum of all number between 1 and 11."
   ]
  },
  {
   "cell_type": "code",
   "execution_count": 10,
   "id": "4d0d7134",
   "metadata": {},
   "outputs": [
    {
     "data": {
      "text/plain": [
       "6216"
      ]
     },
     "execution_count": 10,
     "metadata": {},
     "output_type": "execute_result"
    }
   ],
   "source": [
    "sum(range(1, 112))"
   ]
  },
  {
   "cell_type": "markdown",
   "id": "b0675ad7",
   "metadata": {},
   "source": [
    "5. Reverse the following list using for loop."
   ]
  },
  {
   "cell_type": "code",
   "execution_count": 12,
   "id": "9479fc3b",
   "metadata": {},
   "outputs": [
    {
     "name": "stdout",
     "output_type": "stream",
     "text": [
      "50\n",
      "40\n",
      "30\n",
      "20\n",
      "10\n"
     ]
    }
   ],
   "source": [
    "list1 = [10, 20, 30, 40, 50]\n",
    "for x in list1[::-1]:\n",
    "    print(x)"
   ]
  },
  {
   "cell_type": "markdown",
   "id": "0c22f083",
   "metadata": {},
   "source": [
    "6. Write a python program to find those numbers which are divisible by 7 and 5, between 1500 and 2700."
   ]
  },
  {
   "cell_type": "code",
   "execution_count": 14,
   "id": "0d219c38",
   "metadata": {},
   "outputs": [
    {
     "name": "stdout",
     "output_type": "stream",
     "text": [
      "1505\n",
      "1540\n",
      "1575\n",
      "1610\n",
      "1645\n",
      "1680\n",
      "1715\n",
      "1750\n",
      "1785\n",
      "1820\n",
      "1855\n",
      "1890\n",
      "1925\n",
      "1960\n",
      "1995\n",
      "2030\n",
      "2065\n",
      "2100\n",
      "2135\n",
      "2170\n",
      "2205\n",
      "2240\n",
      "2275\n",
      "2310\n",
      "2345\n",
      "2380\n",
      "2415\n",
      "2450\n",
      "2485\n",
      "2520\n",
      "2555\n",
      "2590\n",
      "2625\n",
      "2660\n",
      "2695\n"
     ]
    }
   ],
   "source": [
    "for x in range(1500, 2701):\n",
    "    if x%5==0 and x%7==0:\n",
    "        print(x)"
   ]
  },
  {
   "cell_type": "markdown",
   "id": "03fb8418",
   "metadata": {},
   "source": [
    "7. Display message Done after successful execution of for loop."
   ]
  },
  {
   "cell_type": "code",
   "execution_count": 15,
   "id": "e656e5da",
   "metadata": {},
   "outputs": [
    {
     "name": "stdout",
     "output_type": "stream",
     "text": [
      "Done\n",
      "Done\n"
     ]
    }
   ],
   "source": [
    "for x in range(0, 2):\n",
    "    print(\"Done\")"
   ]
  },
  {
   "cell_type": "markdown",
   "id": "4abf1f03",
   "metadata": {},
   "source": [
    "8. Write a Python program to create a lambda function that adds 15 to a given number passed in\n",
    "as an argument, also create a lambda function that multiplies argument x with argument y and\n",
    "print the result."
   ]
  },
  {
   "cell_type": "code",
   "execution_count": 17,
   "id": "e906d540",
   "metadata": {},
   "outputs": [
    {
     "name": "stdout",
     "output_type": "stream",
     "text": [
      "20\n",
      "6\n"
     ]
    }
   ],
   "source": [
    "add = lambda x: print(x+15)\n",
    "add(5)\n",
    "\n",
    "multiply = lambda x,y: print(x*y)\n",
    "multiply(2, 3)"
   ]
  },
  {
   "cell_type": "markdown",
   "id": "681e9868",
   "metadata": {},
   "source": [
    "9. Write a Python program to square and cube every number in a given list of integers using\n",
    "Lambda."
   ]
  },
  {
   "cell_type": "code",
   "execution_count": 30,
   "id": "36c5d4a9",
   "metadata": {},
   "outputs": [
    {
     "data": {
      "text/plain": [
       "[1, 4, 9, 16, 25]"
      ]
     },
     "execution_count": 30,
     "metadata": {},
     "output_type": "execute_result"
    }
   ],
   "source": [
    "integer_list = [1, 2, 3, 4, 5]\n",
    "\n",
    "square_nums = list(map(lambda x: x ** 2, integer_list))\n",
    "cube_nums = list(map(lambda x: x ** 3, integer_list))\n",
    "\n",
    "square_nums"
   ]
  },
  {
   "cell_type": "code",
   "execution_count": 31,
   "id": "03091611",
   "metadata": {},
   "outputs": [
    {
     "data": {
      "text/plain": [
       "[1, 8, 27, 64, 125]"
      ]
     },
     "execution_count": 31,
     "metadata": {},
     "output_type": "execute_result"
    }
   ],
   "source": [
    "cube_nums"
   ]
  },
  {
   "cell_type": "markdown",
   "id": "645c94de",
   "metadata": {},
   "source": [
    "10. Write a lambda function that returns takes x as parameter and returns x+2. Then assign it to a variable named L."
   ]
  },
  {
   "cell_type": "code",
   "execution_count": 34,
   "id": "3a6a0fbe",
   "metadata": {},
   "outputs": [
    {
     "data": {
      "text/plain": [
       "4"
      ]
     },
     "execution_count": 34,
     "metadata": {},
     "output_type": "execute_result"
    }
   ],
   "source": [
    "L = lambda x: x+2\n",
    "\n",
    "test = L(2)\n",
    "test"
   ]
  },
  {
   "cell_type": "markdown",
   "id": "6f0d8b8d",
   "metadata": {},
   "source": [
    "11. Write a function which takes two arguments: a and b and returns the multiplication of them: a*b. Assign it to a variable named f."
   ]
  },
  {
   "cell_type": "code",
   "execution_count": 37,
   "id": "9db42085",
   "metadata": {},
   "outputs": [
    {
     "data": {
      "text/plain": [
       "6"
      ]
     },
     "execution_count": 37,
     "metadata": {},
     "output_type": "execute_result"
    }
   ],
   "source": [
    "def mult(a,b):\n",
    "    return a*b\n",
    "\n",
    "f = mult(2, 3)\n",
    "f"
   ]
  },
  {
   "cell_type": "markdown",
   "id": "acc8aabd",
   "metadata": {},
   "source": [
    "12. Write a Python program to add two given lists using map and lambda."
   ]
  },
  {
   "cell_type": "code",
   "execution_count": 41,
   "id": "c04f1ff6",
   "metadata": {},
   "outputs": [
    {
     "data": {
      "text/plain": [
       "[5, 7, 9]"
      ]
     },
     "execution_count": 41,
     "metadata": {},
     "output_type": "execute_result"
    }
   ],
   "source": [
    "list_1 = [1, 2, 3]\n",
    "list_2 = [4, 5, 6]\n",
    "\n",
    "total = list(map(lambda x, y: x + y, list_1, list_2))\n",
    "\n",
    "total"
   ]
  },
  {
   "cell_type": "markdown",
   "id": "0fc8584b",
   "metadata": {},
   "source": [
    "13. Write a map function that adds plus 5 to each item in the list."
   ]
  },
  {
   "cell_type": "code",
   "execution_count": 43,
   "id": "29344f6c",
   "metadata": {},
   "outputs": [
    {
     "data": {
      "text/plain": [
       "[6, 7, 8]"
      ]
     },
     "execution_count": 43,
     "metadata": {},
     "output_type": "execute_result"
    }
   ],
   "source": [
    "add = list(map(lambda x: x+5, list_1))\n",
    "\n",
    "add"
   ]
  },
  {
   "cell_type": "markdown",
   "id": "85de72e4",
   "metadata": {},
   "source": [
    "14. Write a map function that adds \"Hello, \" in front of each item in the list."
   ]
  },
  {
   "cell_type": "code",
   "execution_count": 44,
   "id": "646e4270",
   "metadata": {},
   "outputs": [
    {
     "data": {
      "text/plain": [
       "['Hello, 1', 'Hello, 2', 'Hello, 3']"
      ]
     },
     "execution_count": 44,
     "metadata": {},
     "output_type": "execute_result"
    }
   ],
   "source": [
    "add = list(map(lambda x: \"Hello, \" + str(x), list_1))\n",
    "\n",
    "add"
   ]
  },
  {
   "cell_type": "markdown",
   "id": "f2a7b33f",
   "metadata": {},
   "source": [
    "15. Using map() function and len() function create a list that's consisted of lengths of each element in the first list."
   ]
  },
  {
   "cell_type": "code",
   "execution_count": 46,
   "id": "356f3bb9",
   "metadata": {},
   "outputs": [
    {
     "data": {
      "text/plain": [
       "[6, 4, 5]"
      ]
     },
     "execution_count": 46,
     "metadata": {},
     "output_type": "execute_result"
    }
   ],
   "source": [
    "temp_list = [\"Shahin\", \"Emil\", \"Ramil\"]\n",
    "\n",
    "new_list = list(map(lambda x: len(x), temp_list))\n",
    "\n",
    "new_list"
   ]
  },
  {
   "cell_type": "markdown",
   "id": "43dd1087",
   "metadata": {},
   "source": [
    "16. Using map() function and lambda add each elements of two lists together. Use a lambda with two arguments."
   ]
  },
  {
   "cell_type": "code",
   "execution_count": 50,
   "id": "4a88cb67",
   "metadata": {},
   "outputs": [
    {
     "data": {
      "text/plain": [
       "[15, 21, 27]"
      ]
     },
     "execution_count": 50,
     "metadata": {},
     "output_type": "execute_result"
    }
   ],
   "source": [
    "list_1 = [5, 6, 7]\n",
    "list_2 = [10, 15, 20]\n",
    "\n",
    "add = list(map(lambda x, y: x+y, list_1, list_2))\n",
    "\n",
    "add"
   ]
  },
  {
   "cell_type": "markdown",
   "id": "13b3791a",
   "metadata": {},
   "source": [
    "17. Using map() , lambda and count() functions create a list consisted of the number of occurrence of letter: a."
   ]
  },
  {
   "cell_type": "code",
   "execution_count": 51,
   "id": "274ff4e9",
   "metadata": {},
   "outputs": [
    {
     "data": {
      "text/plain": [
       "[1, 0, 1]"
      ]
     },
     "execution_count": 51,
     "metadata": {},
     "output_type": "execute_result"
    }
   ],
   "source": [
    "num_occurence = list(map(lambda x: x.count('a'), temp_list))\n",
    "num_occurence"
   ]
  },
  {
   "cell_type": "markdown",
   "id": "2a4d4b0b",
   "metadata": {},
   "source": [
    "18. Using map(), lambda and count() functions create a list consisted of the number of occurrence of both letters: A and a."
   ]
  },
  {
   "cell_type": "code",
   "execution_count": 54,
   "id": "be997dc6",
   "metadata": {},
   "outputs": [
    {
     "data": {
      "text/plain": [
       "[3, 2, 2]"
      ]
     },
     "execution_count": 54,
     "metadata": {},
     "output_type": "execute_result"
    }
   ],
   "source": [
    "new_list = ['Astara', 'Amerika', 'Alma']\n",
    "num_occurence = list(map(lambda x: x.lower().count('a'), new_list))\n",
    "num_occurence"
   ]
  },
  {
   "cell_type": "markdown",
   "id": "607fd16b",
   "metadata": {},
   "source": [
    "19. Using filter() function filter the list so that only negative numbers are left."
   ]
  },
  {
   "cell_type": "code",
   "execution_count": 55,
   "id": "974c81a9",
   "metadata": {},
   "outputs": [
    {
     "data": {
      "text/plain": [
       "[-2, -1, -34]"
      ]
     },
     "execution_count": 55,
     "metadata": {},
     "output_type": "execute_result"
    }
   ],
   "source": [
    "filter_list = [2, 5, -2, -1, 6, -34]\n",
    "\n",
    "negative_list = list(filter(lambda x: x < 0, filter_list))\n",
    "negative_list"
   ]
  },
  {
   "cell_type": "markdown",
   "id": "6f44e8c8",
   "metadata": {},
   "source": [
    "20. Using filter function, filter the even numbers so that only odd numbers are passed to the new list."
   ]
  },
  {
   "cell_type": "code",
   "execution_count": 57,
   "id": "9ae6631c",
   "metadata": {},
   "outputs": [
    {
     "data": {
      "text/plain": [
       "[5, -1]"
      ]
     },
     "execution_count": 57,
     "metadata": {},
     "output_type": "execute_result"
    }
   ],
   "source": [
    "odd_list = list(filter(lambda x: x%2!=0, filter_list))\n",
    "odd_list"
   ]
  },
  {
   "cell_type": "markdown",
   "id": "3e31030b",
   "metadata": {},
   "source": [
    "21. Using filter() and list() functions and .lower() method filter all the vowels in a given string."
   ]
  },
  {
   "cell_type": "code",
   "execution_count": 60,
   "id": "7292462c",
   "metadata": {},
   "outputs": [
    {
     "data": {
      "text/plain": [
       "['A', 'e', 'i', 'a']"
      ]
     },
     "execution_count": 60,
     "metadata": {},
     "output_type": "execute_result"
    }
   ],
   "source": [
    "string = \"Amerika\"\n",
    "vowels = list(filter(lambda x: True if x.lower() in \"aeiou\" else False, string))\n",
    "vowels"
   ]
  },
  {
   "cell_type": "markdown",
   "id": "2893842d",
   "metadata": {},
   "source": [
    "22. This time using filter() and list() functions filter all the positive integers in the string."
   ]
  },
  {
   "cell_type": "code",
   "execution_count": 61,
   "id": "748a8b39",
   "metadata": {},
   "outputs": [
    {
     "data": {
      "text/plain": [
       "['1', '9', '7', '4']"
      ]
     },
     "execution_count": 61,
     "metadata": {},
     "output_type": "execute_result"
    }
   ],
   "source": [
    "string = \"Amerika1974\"\n",
    "integers = list(filter(lambda x: True if x.lower() in \"0123456789\" else False, string))\n",
    "integers"
   ]
  },
  {
   "cell_type": "markdown",
   "id": "857ac41f",
   "metadata": {},
   "source": [
    "23. Using map() and filter() functions add 2000 to the values below 8000."
   ]
  },
  {
   "cell_type": "code",
   "execution_count": 65,
   "id": "63424721",
   "metadata": {},
   "outputs": [
    {
     "data": {
      "text/plain": [
       "[3000, 4000, 3500, 4500]"
      ]
     },
     "execution_count": 65,
     "metadata": {},
     "output_type": "execute_result"
    }
   ],
   "source": [
    "temp = [1000, 2000, 1500, 2500]\n",
    "\n",
    "add = list(map(lambda x: x + 2000, filter(lambda x: x < 8000, temp)))\n",
    "add"
   ]
  },
  {
   "cell_type": "markdown",
   "id": "b5590aa0",
   "metadata": {},
   "source": [
    "24. Write a Python program to count the even, odd numbers in a given array of integers using Lambda."
   ]
  },
  {
   "cell_type": "code",
   "execution_count": 69,
   "id": "293e912f",
   "metadata": {},
   "outputs": [],
   "source": [
    "temp = [4, 2, 5, 6, 23, 45, 12, 45, 1]\n",
    "\n",
    "count_odd = len(list(filter(lambda x: True if x%2!=0 else False, temp)))\n",
    "count_even = len(list(filter(lambda x: True if x%2==0 else False, temp)))"
   ]
  },
  {
   "cell_type": "markdown",
   "id": "08375cd3",
   "metadata": {},
   "source": [
    "25.Write a Python program to filter a given list whether the values in the list are having length of 6 using Lambda."
   ]
  },
  {
   "cell_type": "code",
   "execution_count": 70,
   "id": "cf7b40c0",
   "metadata": {},
   "outputs": [
    {
     "data": {
      "text/plain": [
       "['Astara']"
      ]
     },
     "execution_count": 70,
     "metadata": {},
     "output_type": "execute_result"
    }
   ],
   "source": [
    "new_list = ['Astara', 'Amerika', 'Alma']\n",
    "\n",
    "check = list(filter(lambda x: len(x)==6, new_list))\n",
    "check"
   ]
  },
  {
   "cell_type": "markdown",
   "id": "dc5d4be5",
   "metadata": {},
   "source": [
    "26. Write a Python program to find numbers divisible by nineteen or thirteen from a list of numbers using Lambda."
   ]
  },
  {
   "cell_type": "code",
   "execution_count": 77,
   "id": "0cc72cf6",
   "metadata": {},
   "outputs": [
    {
     "data": {
      "text/plain": [
       "[38, 26]"
      ]
     },
     "execution_count": 77,
     "metadata": {},
     "output_type": "execute_result"
    }
   ],
   "source": [
    "temp = [4, 2, 5, 6, 23, 45, 12, 45, 1, 38, 26]\n",
    "div = list(filter(lambda x: True if x%19==0 or x%13==0 else False, temp))\n",
    "div"
   ]
  },
  {
   "cell_type": "markdown",
   "id": "c1df28fc",
   "metadata": {},
   "source": [
    "27. Using zip() function and list() function, create a merged list of tuples from the two lists given."
   ]
  },
  {
   "cell_type": "code",
   "execution_count": 84,
   "id": "26d27547",
   "metadata": {},
   "outputs": [
    {
     "data": {
      "text/plain": [
       "((1, 'Shahin'), (2, 'Emil'), (3, 'Ramil'))"
      ]
     },
     "execution_count": 84,
     "metadata": {},
     "output_type": "execute_result"
    }
   ],
   "source": [
    "tuple_1 = (1, 2, 3)\n",
    "tuple_2 = ('Shahin', 'Emil', 'Ramil')\n",
    "\n",
    "merge = tuple(zip(tuple_1, tuple_2))\n",
    "merge"
   ]
  },
  {
   "cell_type": "markdown",
   "id": "63e7cc35",
   "metadata": {},
   "source": [
    "28. First create a range from 1 to 8. Then using zip, merge the given list and the range together to create a new list of tuples."
   ]
  },
  {
   "cell_type": "code",
   "execution_count": 87,
   "id": "87625742",
   "metadata": {},
   "outputs": [
    {
     "data": {
      "text/plain": [
       "(('Porsche', 1),\n",
       " ('Mercedes', 2),\n",
       " ('BMW', 3),\n",
       " ('Kia', 4),\n",
       " ('Hyundai', 5),\n",
       " ('Toyota', 6),\n",
       " ('Volkswagen', 7),\n",
       " ('Cadillac', 8))"
      ]
     },
     "execution_count": 87,
     "metadata": {},
     "output_type": "execute_result"
    }
   ],
   "source": [
    "cars = ['Porsche', 'Mercedes', 'BMW', 'Kia', 'Hyundai', 'Toyota', 'Volkswagen', 'Cadillac']\n",
    "\n",
    "merge = tuple(zip(cars, range(1, 9)))\n",
    "merge"
   ]
  },
  {
   "cell_type": "markdown",
   "id": "b5f0a67f",
   "metadata": {},
   "source": [
    "29. Using zip and dict functions create a dictionary which has its key-value pairs coming from lst1 and lst2."
   ]
  },
  {
   "cell_type": "code",
   "execution_count": 88,
   "id": "4ae9034a",
   "metadata": {},
   "outputs": [
    {
     "data": {
      "text/plain": [
       "{1: 'Shahin', 2: 'Emil', 3: 'Ramil'}"
      ]
     },
     "execution_count": 88,
     "metadata": {},
     "output_type": "execute_result"
    }
   ],
   "source": [
    "lst1 = [1, 2, 3]\n",
    "lst2 = ['Shahin', 'Emil', 'Ramil']\n",
    "merge = dict(zip(lst1, lst2))\n",
    "merge"
   ]
  },
  {
   "cell_type": "markdown",
   "id": "7bf7c04e",
   "metadata": {},
   "source": [
    "30. Using zip, list and sorted functions create a sorted list of tuples from lst1 and lst2."
   ]
  },
  {
   "cell_type": "code",
   "execution_count": 91,
   "id": "d798a8df",
   "metadata": {},
   "outputs": [
    {
     "data": {
      "text/plain": [
       "[(1, 'Shahin'), (2, 'Emil'), (3, 'Ramil')]"
      ]
     },
     "execution_count": 91,
     "metadata": {},
     "output_type": "execute_result"
    }
   ],
   "source": [
    "sort = sorted(list(zip(lst1, lst2)))\n",
    "sort"
   ]
  },
  {
   "cell_type": "code",
   "execution_count": 97,
   "id": "3fedf090",
   "metadata": {},
   "outputs": [
    {
     "data": {
      "text/plain": [
       "[1, 2, 3]"
      ]
     },
     "execution_count": 97,
     "metadata": {},
     "output_type": "execute_result"
    }
   ],
   "source": [
    "test = list(filter(lambda x: x+3, lst1))\n",
    "test"
   ]
  },
  {
   "cell_type": "code",
   "execution_count": null,
   "id": "eb5d65e3",
   "metadata": {},
   "outputs": [],
   "source": []
  }
 ],
 "metadata": {
  "kernelspec": {
   "display_name": "Python 3 (ipykernel)",
   "language": "python",
   "name": "python3"
  },
  "language_info": {
   "codemirror_mode": {
    "name": "ipython",
    "version": 3
   },
   "file_extension": ".py",
   "mimetype": "text/x-python",
   "name": "python",
   "nbconvert_exporter": "python",
   "pygments_lexer": "ipython3",
   "version": "3.9.7"
  }
 },
 "nbformat": 4,
 "nbformat_minor": 5
}
