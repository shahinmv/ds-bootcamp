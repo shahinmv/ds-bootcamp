{
 "cells": [
  {
   "cell_type": "markdown",
   "id": "401628dc",
   "metadata": {},
   "source": [
    "# Python - Week 6 - Day 2 - HW\n",
    "## Shahin Mammadov"
   ]
  },
  {
   "cell_type": "markdown",
   "id": "d17127da",
   "metadata": {},
   "source": [
    "You will use the Pima Indian diabetes dataset. The dataset corresponds to a classification\n",
    "problem on which you need to make predictions on the basis of whether a person is to suffer\n",
    "diabetes given the 8 features in the dataset. You are asked to use this data to build a XGBoost\n",
    "Classifier model using scikit-learn. Tune the parameters using Grid Search and Randomized Search\n",
    "strategies."
   ]
  },
  {
   "cell_type": "code",
   "execution_count": 1,
   "id": "9c608c9e",
   "metadata": {},
   "outputs": [],
   "source": [
    "import pandas as pd\n",
    "import numpy as np\n",
    "from xgboost import XGBClassifier\n",
    "from sklearn import metrics\n",
    "from xgboost import cv\n",
    "import xgboost as xgb\n",
    "from sklearn.model_selection import GridSearchCV\n",
    "from sklearn.model_selection import train_test_split\n",
    "import itertools as it\n",
    "from sklearn.model_selection import RandomizedSearchCV\n",
    "from sklearn.preprocessing import StandardScaler    \n",
    "import matplotlib.pyplot as mp\n",
    "import seaborn as sb\n",
    "from datetime import datetime\n",
    "import time\n",
    "\n",
    "def timer(start_time=None):\n",
    "    if not start_time:\n",
    "        start_time = datetime.now()\n",
    "        return start_time\n",
    "    elif start_time:\n",
    "        thour, temp_sec = divmod((datetime.now() - start_time).total_seconds(), 3600)\n",
    "        tmin, tsec = divmod(temp_sec, 60)\n",
    "        print('\\n Time taken: %i hours %i minutes and %s seconds.' % (thour, tmin, round(tsec, 2)))"
   ]
  },
  {
   "cell_type": "code",
   "execution_count": 2,
   "id": "af7c83ab",
   "metadata": {},
   "outputs": [],
   "source": [
    "data = pd.read_csv('diabetes.csv')"
   ]
  },
  {
   "cell_type": "code",
   "execution_count": 3,
   "id": "61f1af5e",
   "metadata": {},
   "outputs": [
    {
     "name": "stdout",
     "output_type": "stream",
     "text": [
      "<class 'pandas.core.frame.DataFrame'>\n",
      "RangeIndex: 768 entries, 0 to 767\n",
      "Data columns (total 9 columns):\n",
      " #   Column                    Non-Null Count  Dtype  \n",
      "---  ------                    --------------  -----  \n",
      " 0   Pregnancies               768 non-null    int64  \n",
      " 1   Glucose                   768 non-null    int64  \n",
      " 2   BloodPressure             768 non-null    int64  \n",
      " 3   SkinThickness             768 non-null    int64  \n",
      " 4   Insulin                   768 non-null    int64  \n",
      " 5   BMI                       768 non-null    float64\n",
      " 6   DiabetesPedigreeFunction  768 non-null    float64\n",
      " 7   Age                       768 non-null    int64  \n",
      " 8   Outcome                   768 non-null    int64  \n",
      "dtypes: float64(2), int64(7)\n",
      "memory usage: 54.1 KB\n"
     ]
    }
   ],
   "source": [
    "data.info()"
   ]
  },
  {
   "cell_type": "code",
   "execution_count": 4,
   "id": "c1f374c8",
   "metadata": {},
   "outputs": [
    {
     "data": {
      "text/plain": [
       "Pregnancies                 0\n",
       "Glucose                     0\n",
       "BloodPressure               0\n",
       "SkinThickness               0\n",
       "Insulin                     0\n",
       "BMI                         0\n",
       "DiabetesPedigreeFunction    0\n",
       "Age                         0\n",
       "Outcome                     0\n",
       "dtype: int64"
      ]
     },
     "execution_count": 4,
     "metadata": {},
     "output_type": "execute_result"
    }
   ],
   "source": [
    "data.isna().sum()"
   ]
  },
  {
   "cell_type": "code",
   "execution_count": 5,
   "id": "e8bfc70a",
   "metadata": {},
   "outputs": [
    {
     "data": {
      "text/html": [
       "<div>\n",
       "<style scoped>\n",
       "    .dataframe tbody tr th:only-of-type {\n",
       "        vertical-align: middle;\n",
       "    }\n",
       "\n",
       "    .dataframe tbody tr th {\n",
       "        vertical-align: top;\n",
       "    }\n",
       "\n",
       "    .dataframe thead th {\n",
       "        text-align: right;\n",
       "    }\n",
       "</style>\n",
       "<table border=\"1\" class=\"dataframe\">\n",
       "  <thead>\n",
       "    <tr style=\"text-align: right;\">\n",
       "      <th></th>\n",
       "      <th>Pregnancies</th>\n",
       "      <th>Glucose</th>\n",
       "      <th>BloodPressure</th>\n",
       "      <th>SkinThickness</th>\n",
       "      <th>Insulin</th>\n",
       "      <th>BMI</th>\n",
       "      <th>DiabetesPedigreeFunction</th>\n",
       "      <th>Age</th>\n",
       "      <th>Outcome</th>\n",
       "    </tr>\n",
       "  </thead>\n",
       "  <tbody>\n",
       "  </tbody>\n",
       "</table>\n",
       "</div>"
      ],
      "text/plain": [
       "Empty DataFrame\n",
       "Columns: [Pregnancies, Glucose, BloodPressure, SkinThickness, Insulin, BMI, DiabetesPedigreeFunction, Age, Outcome]\n",
       "Index: []"
      ]
     },
     "execution_count": 5,
     "metadata": {},
     "output_type": "execute_result"
    }
   ],
   "source": [
    "data[data.duplicated()]"
   ]
  },
  {
   "cell_type": "code",
   "execution_count": 6,
   "id": "c674ae71",
   "metadata": {},
   "outputs": [],
   "source": [
    "x_list = []\n",
    "\n",
    "for x in data.columns[:len(data.columns)-1]:\n",
    "    x_list.append(data[x])"
   ]
  },
  {
   "cell_type": "code",
   "execution_count": 7,
   "id": "5335ec83",
   "metadata": {},
   "outputs": [],
   "source": [
    "X = pd.DataFrame(np.c_[x_list]).T\n",
    "y = data['Outcome']"
   ]
  },
  {
   "cell_type": "code",
   "execution_count": 8,
   "id": "53701923",
   "metadata": {},
   "outputs": [],
   "source": [
    "X_train, X_test, y_train, y_test = train_test_split(X, y, test_size=0.3, random_state=None)\n",
    "\n",
    "st_x= StandardScaler()    \n",
    "X_train= st_x.fit_transform(X_train)    \n",
    "X_test= st_x.transform(X_test) "
   ]
  },
  {
   "cell_type": "code",
   "execution_count": 9,
   "id": "268ae5eb",
   "metadata": {},
   "outputs": [
    {
     "data": {
      "image/png": "[encoded data removed]",
      "text/plain": [
       "<Figure size 432x288 with 2 Axes>"
      ]
     },
     "metadata": {
      "needs_background": "light"
     },
     "output_type": "display_data"
    }
   ],
   "source": [
    "mask = np.triu(np.ones_like(data.corr()))\n",
    " \n",
    "# plotting a triangle correlation heatmap\n",
    "dataplot = sb.heatmap(data.corr(), cmap=\"YlGnBu\", annot=True, mask=mask)\n",
    " \n",
    "# displaying heatmap\n",
    "mp.show()"
   ]
  },
  {
   "cell_type": "markdown",
   "id": "e0e1a382",
   "metadata": {},
   "source": [
    "## XGBoost without parameter tuning"
   ]
  },
  {
   "cell_type": "code",
   "execution_count": 10,
   "id": "8658591e",
   "metadata": {},
   "outputs": [],
   "source": [
    "XGB = XGBClassifier()\n",
    "XGB.fit(X_train, y_train)\n",
    "y_pred_xgb = XGB.predict(X_test)"
   ]
  },
  {
   "cell_type": "code",
   "execution_count": 11,
   "id": "06d8535e",
   "metadata": {},
   "outputs": [
    {
     "data": {
      "text/plain": [
       "0.7705627705627706"
      ]
     },
     "execution_count": 11,
     "metadata": {},
     "output_type": "execute_result"
    }
   ],
   "source": [
    "metrics.accuracy_score(y_test, y_pred_xgb)"
   ]
  },
  {
   "cell_type": "code",
   "execution_count": 12,
   "id": "541ce133",
   "metadata": {},
   "outputs": [
    {
     "data": {
      "text/plain": [
       "array([[127,  20],\n",
       "       [ 33,  51]], dtype=int64)"
      ]
     },
     "execution_count": 12,
     "metadata": {},
     "output_type": "execute_result"
    }
   ],
   "source": [
    "metrics.confusion_matrix(y_test, y_pred_xgb)"
   ]
  },
  {
   "cell_type": "code",
   "execution_count": 13,
   "id": "63195a5b",
   "metadata": {},
   "outputs": [
    {
     "name": "stdout",
     "output_type": "stream",
     "text": [
      "              precision    recall  f1-score   support\n",
      "\n",
      "           0       0.79      0.86      0.83       147\n",
      "           1       0.72      0.61      0.66        84\n",
      "\n",
      "    accuracy                           0.77       231\n",
      "   macro avg       0.76      0.74      0.74       231\n",
      "weighted avg       0.77      0.77      0.77       231\n",
      "\n"
     ]
    }
   ],
   "source": [
    "print(metrics.classification_report(y_test, y_pred_xgb))"
   ]
  },
  {
   "cell_type": "markdown",
   "id": "78cbcd56",
   "metadata": {},
   "source": [
    "## XGBoost with hyper parameter tuning with Grid Search"
   ]
  },
  {
   "cell_type": "code",
   "execution_count": 14,
   "id": "a87a4269",
   "metadata": {},
   "outputs": [],
   "source": [
    "params = {\n",
    "        'learning_rate': [0.1, 0.2, 0.4, 0.8, 1.5],\n",
    "        'min_child_weight': [1, 5, 10],\n",
    "        'gamma': [0.5, 1, 1.5, 2, 5],\n",
    "        'subsample': [0.6, 0.8, 1.0],\n",
    "        'colsample_bytree': [0.6, 0.8, 1.0],\n",
    "        'max_depth': [3, 4, 5]\n",
    "        }"
   ]
  },
  {
   "cell_type": "code",
   "execution_count": 15,
   "id": "ddac7fdf",
   "metadata": {},
   "outputs": [
    {
     "name": "stdout",
     "output_type": "stream",
     "text": [
      "\n",
      " Time taken: 0 hours 7 minutes and 40.97 seconds.\n"
     ]
    }
   ],
   "source": [
    "xgb_grid = GridSearchCV(estimator=XGB, param_grid=params, scoring='accuracy', cv=10, n_jobs=-1, return_train_score=True)\n",
    "\n",
    "start_time = timer(None) # timing starts from this point for \"start_time\" variable\n",
    "xgb_grid_fit = xgb_grid.fit(X, y)\n",
    "timer(start_time) # timing ends here for \"start_time\" variable"
   ]
  },
  {
   "cell_type": "code",
   "execution_count": 16,
   "id": "c8b86a49",
   "metadata": {},
   "outputs": [
    {
     "data": {
      "text/html": [
       "<div>\n",
       "<style scoped>\n",
       "    .dataframe tbody tr th:only-of-type {\n",
       "        vertical-align: middle;\n",
       "    }\n",
       "\n",
       "    .dataframe tbody tr th {\n",
       "        vertical-align: top;\n",
       "    }\n",
       "\n",
       "    .dataframe thead th {\n",
       "        text-align: right;\n",
       "    }\n",
       "</style>\n",
       "<table border=\"1\" class=\"dataframe\">\n",
       "  <thead>\n",
       "    <tr style=\"text-align: right;\">\n",
       "      <th></th>\n",
       "      <th>mean_fit_time</th>\n",
       "      <th>std_fit_time</th>\n",
       "      <th>mean_score_time</th>\n",
       "      <th>std_score_time</th>\n",
       "      <th>param_colsample_bytree</th>\n",
       "      <th>param_gamma</th>\n",
       "      <th>param_learning_rate</th>\n",
       "      <th>param_max_depth</th>\n",
       "      <th>param_min_child_weight</th>\n",
       "      <th>param_subsample</th>\n",
       "      <th>...</th>\n",
       "      <th>split2_train_score</th>\n",
       "      <th>split3_train_score</th>\n",
       "      <th>split4_train_score</th>\n",
       "      <th>split5_train_score</th>\n",
       "      <th>split6_train_score</th>\n",
       "      <th>split7_train_score</th>\n",
       "      <th>split8_train_score</th>\n",
       "      <th>split9_train_score</th>\n",
       "      <th>mean_train_score</th>\n",
       "      <th>std_train_score</th>\n",
       "    </tr>\n",
       "  </thead>\n",
       "  <tbody>\n",
       "    <tr>\n",
       "      <th>0</th>\n",
       "      <td>0.390069</td>\n",
       "      <td>0.164258</td>\n",
       "      <td>0.005855</td>\n",
       "      <td>0.000899</td>\n",
       "      <td>0.6</td>\n",
       "      <td>0.5</td>\n",
       "      <td>0.1</td>\n",
       "      <td>3</td>\n",
       "      <td>1</td>\n",
       "      <td>0.6</td>\n",
       "      <td>...</td>\n",
       "      <td>0.890014</td>\n",
       "      <td>0.890014</td>\n",
       "      <td>0.885673</td>\n",
       "      <td>0.875543</td>\n",
       "      <td>0.887120</td>\n",
       "      <td>0.872648</td>\n",
       "      <td>0.880058</td>\n",
       "      <td>0.881503</td>\n",
       "      <td>0.881366</td>\n",
       "      <td>0.006204</td>\n",
       "    </tr>\n",
       "    <tr>\n",
       "      <th>1</th>\n",
       "      <td>0.090594</td>\n",
       "      <td>0.017661</td>\n",
       "      <td>0.005104</td>\n",
       "      <td>0.000517</td>\n",
       "      <td>0.6</td>\n",
       "      <td>0.5</td>\n",
       "      <td>0.1</td>\n",
       "      <td>3</td>\n",
       "      <td>1</td>\n",
       "      <td>0.8</td>\n",
       "      <td>...</td>\n",
       "      <td>0.888567</td>\n",
       "      <td>0.884226</td>\n",
       "      <td>0.881331</td>\n",
       "      <td>0.874096</td>\n",
       "      <td>0.876990</td>\n",
       "      <td>0.882779</td>\n",
       "      <td>0.894509</td>\n",
       "      <td>0.881503</td>\n",
       "      <td>0.883535</td>\n",
       "      <td>0.005487</td>\n",
       "    </tr>\n",
       "    <tr>\n",
       "      <th>2</th>\n",
       "      <td>0.078202</td>\n",
       "      <td>0.014058</td>\n",
       "      <td>0.004766</td>\n",
       "      <td>0.000751</td>\n",
       "      <td>0.6</td>\n",
       "      <td>0.5</td>\n",
       "      <td>0.1</td>\n",
       "      <td>3</td>\n",
       "      <td>1</td>\n",
       "      <td>1.0</td>\n",
       "      <td>...</td>\n",
       "      <td>0.872648</td>\n",
       "      <td>0.882779</td>\n",
       "      <td>0.887120</td>\n",
       "      <td>0.874096</td>\n",
       "      <td>0.881331</td>\n",
       "      <td>0.879884</td>\n",
       "      <td>0.885838</td>\n",
       "      <td>0.874277</td>\n",
       "      <td>0.879919</td>\n",
       "      <td>0.004927</td>\n",
       "    </tr>\n",
       "    <tr>\n",
       "      <th>3</th>\n",
       "      <td>0.111740</td>\n",
       "      <td>0.022843</td>\n",
       "      <td>0.010568</td>\n",
       "      <td>0.006861</td>\n",
       "      <td>0.6</td>\n",
       "      <td>0.5</td>\n",
       "      <td>0.1</td>\n",
       "      <td>3</td>\n",
       "      <td>5</td>\n",
       "      <td>0.6</td>\n",
       "      <td>...</td>\n",
       "      <td>0.856729</td>\n",
       "      <td>0.843705</td>\n",
       "      <td>0.848046</td>\n",
       "      <td>0.849493</td>\n",
       "      <td>0.850941</td>\n",
       "      <td>0.843705</td>\n",
       "      <td>0.861272</td>\n",
       "      <td>0.845376</td>\n",
       "      <td>0.849391</td>\n",
       "      <td>0.005459</td>\n",
       "    </tr>\n",
       "    <tr>\n",
       "      <th>4</th>\n",
       "      <td>0.119988</td>\n",
       "      <td>0.025395</td>\n",
       "      <td>0.008631</td>\n",
       "      <td>0.008810</td>\n",
       "      <td>0.6</td>\n",
       "      <td>0.5</td>\n",
       "      <td>0.1</td>\n",
       "      <td>3</td>\n",
       "      <td>5</td>\n",
       "      <td>0.8</td>\n",
       "      <td>...</td>\n",
       "      <td>0.853835</td>\n",
       "      <td>0.863965</td>\n",
       "      <td>0.868307</td>\n",
       "      <td>0.853835</td>\n",
       "      <td>0.855282</td>\n",
       "      <td>0.865412</td>\n",
       "      <td>0.862717</td>\n",
       "      <td>0.868497</td>\n",
       "      <td>0.862702</td>\n",
       "      <td>0.005787</td>\n",
       "    </tr>\n",
       "    <tr>\n",
       "      <th>...</th>\n",
       "      <td>...</td>\n",
       "      <td>...</td>\n",
       "      <td>...</td>\n",
       "      <td>...</td>\n",
       "      <td>...</td>\n",
       "      <td>...</td>\n",
       "      <td>...</td>\n",
       "      <td>...</td>\n",
       "      <td>...</td>\n",
       "      <td>...</td>\n",
       "      <td>...</td>\n",
       "      <td>...</td>\n",
       "      <td>...</td>\n",
       "      <td>...</td>\n",
       "      <td>...</td>\n",
       "      <td>...</td>\n",
       "      <td>...</td>\n",
       "      <td>...</td>\n",
       "      <td>...</td>\n",
       "      <td>...</td>\n",
       "      <td>...</td>\n",
       "    </tr>\n",
       "    <tr>\n",
       "      <th>2020</th>\n",
       "      <td>0.183804</td>\n",
       "      <td>0.011076</td>\n",
       "      <td>0.007011</td>\n",
       "      <td>0.002088</td>\n",
       "      <td>1.0</td>\n",
       "      <td>5</td>\n",
       "      <td>1.5</td>\n",
       "      <td>5</td>\n",
       "      <td>5</td>\n",
       "      <td>0.8</td>\n",
       "      <td>...</td>\n",
       "      <td>0.907381</td>\n",
       "      <td>0.927641</td>\n",
       "      <td>0.914616</td>\n",
       "      <td>0.924747</td>\n",
       "      <td>0.914616</td>\n",
       "      <td>0.904486</td>\n",
       "      <td>0.930636</td>\n",
       "      <td>0.906069</td>\n",
       "      <td>0.916811</td>\n",
       "      <td>0.008664</td>\n",
       "    </tr>\n",
       "    <tr>\n",
       "      <th>2021</th>\n",
       "      <td>0.197408</td>\n",
       "      <td>0.014312</td>\n",
       "      <td>0.006485</td>\n",
       "      <td>0.001454</td>\n",
       "      <td>1.0</td>\n",
       "      <td>5</td>\n",
       "      <td>1.5</td>\n",
       "      <td>5</td>\n",
       "      <td>5</td>\n",
       "      <td>1.0</td>\n",
       "      <td>...</td>\n",
       "      <td>0.837916</td>\n",
       "      <td>0.861071</td>\n",
       "      <td>0.858177</td>\n",
       "      <td>0.833575</td>\n",
       "      <td>0.848046</td>\n",
       "      <td>0.835022</td>\n",
       "      <td>0.852601</td>\n",
       "      <td>0.874277</td>\n",
       "      <td>0.851704</td>\n",
       "      <td>0.012403</td>\n",
       "    </tr>\n",
       "    <tr>\n",
       "      <th>2022</th>\n",
       "      <td>0.130405</td>\n",
       "      <td>0.013257</td>\n",
       "      <td>0.006848</td>\n",
       "      <td>0.001247</td>\n",
       "      <td>1.0</td>\n",
       "      <td>5</td>\n",
       "      <td>1.5</td>\n",
       "      <td>5</td>\n",
       "      <td>10</td>\n",
       "      <td>0.6</td>\n",
       "      <td>...</td>\n",
       "      <td>0.840810</td>\n",
       "      <td>0.830680</td>\n",
       "      <td>0.827786</td>\n",
       "      <td>0.817656</td>\n",
       "      <td>0.824891</td>\n",
       "      <td>0.833575</td>\n",
       "      <td>0.822254</td>\n",
       "      <td>0.825145</td>\n",
       "      <td>0.828705</td>\n",
       "      <td>0.007029</td>\n",
       "    </tr>\n",
       "    <tr>\n",
       "      <th>2023</th>\n",
       "      <td>0.159421</td>\n",
       "      <td>0.015130</td>\n",
       "      <td>0.006683</td>\n",
       "      <td>0.001014</td>\n",
       "      <td>1.0</td>\n",
       "      <td>5</td>\n",
       "      <td>1.5</td>\n",
       "      <td>5</td>\n",
       "      <td>10</td>\n",
       "      <td>0.8</td>\n",
       "      <td>...</td>\n",
       "      <td>0.882779</td>\n",
       "      <td>0.856729</td>\n",
       "      <td>0.876990</td>\n",
       "      <td>0.890014</td>\n",
       "      <td>0.874096</td>\n",
       "      <td>0.863965</td>\n",
       "      <td>0.880058</td>\n",
       "      <td>0.861272</td>\n",
       "      <td>0.871239</td>\n",
       "      <td>0.010511</td>\n",
       "    </tr>\n",
       "    <tr>\n",
       "      <th>2024</th>\n",
       "      <td>0.183146</td>\n",
       "      <td>0.027509</td>\n",
       "      <td>0.007847</td>\n",
       "      <td>0.002203</td>\n",
       "      <td>1.0</td>\n",
       "      <td>5</td>\n",
       "      <td>1.5</td>\n",
       "      <td>5</td>\n",
       "      <td>10</td>\n",
       "      <td>1.0</td>\n",
       "      <td>...</td>\n",
       "      <td>0.807525</td>\n",
       "      <td>0.848046</td>\n",
       "      <td>0.808973</td>\n",
       "      <td>0.811867</td>\n",
       "      <td>0.824891</td>\n",
       "      <td>0.816208</td>\n",
       "      <td>0.823699</td>\n",
       "      <td>0.809249</td>\n",
       "      <td>0.819445</td>\n",
       "      <td>0.014572</td>\n",
       "    </tr>\n",
       "  </tbody>\n",
       "</table>\n",
       "<p>2025 rows × 36 columns</p>\n",
       "</div>"
      ],
      "text/plain": [
       "      mean_fit_time  std_fit_time  mean_score_time  std_score_time  \\\n",
       "0          0.390069      0.164258         0.005855        0.000899   \n",
       "1          0.090594      0.017661         0.005104        0.000517   \n",
       "2          0.078202      0.014058         0.004766        0.000751   \n",
       "3          0.111740      0.022843         0.010568        0.006861   \n",
       "4          0.119988      0.025395         0.008631        0.008810   \n",
       "...             ...           ...              ...             ...   \n",
       "2020       0.183804      0.011076         0.007011        0.002088   \n",
       "2021       0.197408      0.014312         0.006485        0.001454   \n",
       "2022       0.130405      0.013257         0.006848        0.001247   \n",
       "2023       0.159421      0.015130         0.006683        0.001014   \n",
       "2024       0.183146      0.027509         0.007847        0.002203   \n",
       "\n",
       "     param_colsample_bytree param_gamma param_learning_rate param_max_depth  \\\n",
       "0                       0.6         0.5                 0.1               3   \n",
       "1                       0.6         0.5                 0.1               3   \n",
       "2                       0.6         0.5                 0.1               3   \n",
       "3                       0.6         0.5                 0.1               3   \n",
       "4                       0.6         0.5                 0.1               3   \n",
       "...                     ...         ...                 ...             ...   \n",
       "2020                    1.0           5                 1.5               5   \n",
       "2021                    1.0           5                 1.5               5   \n",
       "2022                    1.0           5                 1.5               5   \n",
       "2023                    1.0           5                 1.5               5   \n",
       "2024                    1.0           5                 1.5               5   \n",
       "\n",
       "     param_min_child_weight param_subsample  ... split2_train_score  \\\n",
       "0                         1             0.6  ...           0.890014   \n",
       "1                         1             0.8  ...           0.888567   \n",
       "2                         1             1.0  ...           0.872648   \n",
       "3                         5             0.6  ...           0.856729   \n",
       "4                         5             0.8  ...           0.853835   \n",
       "...                     ...             ...  ...                ...   \n",
       "2020                      5             0.8  ...           0.907381   \n",
       "2021                      5             1.0  ...           0.837916   \n",
       "2022                     10             0.6  ...           0.840810   \n",
       "2023                     10             0.8  ...           0.882779   \n",
       "2024                     10             1.0  ...           0.807525   \n",
       "\n",
       "      split3_train_score  split4_train_score  split5_train_score  \\\n",
       "0               0.890014            0.885673            0.875543   \n",
       "1               0.884226            0.881331            0.874096   \n",
       "2               0.882779            0.887120            0.874096   \n",
       "3               0.843705            0.848046            0.849493   \n",
       "4               0.863965            0.868307            0.853835   \n",
       "...                  ...                 ...                 ...   \n",
       "2020            0.927641            0.914616            0.924747   \n",
       "2021            0.861071            0.858177            0.833575   \n",
       "2022            0.830680            0.827786            0.817656   \n",
       "2023            0.856729            0.876990            0.890014   \n",
       "2024            0.848046            0.808973            0.811867   \n",
       "\n",
       "      split6_train_score  split7_train_score  split8_train_score  \\\n",
       "0               0.887120            0.872648            0.880058   \n",
       "1               0.876990            0.882779            0.894509   \n",
       "2               0.881331            0.879884            0.885838   \n",
       "3               0.850941            0.843705            0.861272   \n",
       "4               0.855282            0.865412            0.862717   \n",
       "...                  ...                 ...                 ...   \n",
       "2020            0.914616            0.904486            0.930636   \n",
       "2021            0.848046            0.835022            0.852601   \n",
       "2022            0.824891            0.833575            0.822254   \n",
       "2023            0.874096            0.863965            0.880058   \n",
       "2024            0.824891            0.816208            0.823699   \n",
       "\n",
       "      split9_train_score  mean_train_score  std_train_score  \n",
       "0               0.881503          0.881366         0.006204  \n",
       "1               0.881503          0.883535         0.005487  \n",
       "2               0.874277          0.879919         0.004927  \n",
       "3               0.845376          0.849391         0.005459  \n",
       "4               0.868497          0.862702         0.005787  \n",
       "...                  ...               ...              ...  \n",
       "2020            0.906069          0.916811         0.008664  \n",
       "2021            0.874277          0.851704         0.012403  \n",
       "2022            0.825145          0.828705         0.007029  \n",
       "2023            0.861272          0.871239         0.010511  \n",
       "2024            0.809249          0.819445         0.014572  \n",
       "\n",
       "[2025 rows x 36 columns]"
      ]
     },
     "execution_count": 16,
     "metadata": {},
     "output_type": "execute_result"
    }
   ],
   "source": [
    "pd.DataFrame.from_dict(xgb_grid_fit.cv_results_)"
   ]
  },
  {
   "cell_type": "code",
   "execution_count": 17,
   "id": "e72f331c",
   "metadata": {},
   "outputs": [
    {
     "data": {
      "text/plain": [
       "{'colsample_bytree': 0.6,\n",
       " 'gamma': 5,\n",
       " 'learning_rate': 0.2,\n",
       " 'max_depth': 4,\n",
       " 'min_child_weight': 1,\n",
       " 'subsample': 0.6}"
      ]
     },
     "execution_count": 17,
     "metadata": {},
     "output_type": "execute_result"
    }
   ],
   "source": [
    "xgb_grid.best_params_"
   ]
  },
  {
   "cell_type": "code",
   "execution_count": 18,
   "id": "f9dc4141",
   "metadata": {},
   "outputs": [
    {
     "data": {
      "text/plain": [
       "0.7773581681476418"
      ]
     },
     "execution_count": 18,
     "metadata": {},
     "output_type": "execute_result"
    }
   ],
   "source": [
    "xgb_grid.best_score_"
   ]
  },
  {
   "cell_type": "code",
   "execution_count": 19,
   "id": "83d2f3c4",
   "metadata": {},
   "outputs": [],
   "source": [
    "params_empty = {}"
   ]
  },
  {
   "cell_type": "code",
   "execution_count": 20,
   "id": "5c829882",
   "metadata": {},
   "outputs": [
    {
     "name": "stdout",
     "output_type": "stream",
     "text": [
      "\n",
      " Time taken: 0 hours 0 minutes and 0.87 seconds.\n"
     ]
    }
   ],
   "source": [
    "xgb_grid_test = GridSearchCV(estimator=XGB, param_grid=params_empty, scoring='accuracy', cv=10, n_jobs=-1, return_train_score=True)\n",
    "\n",
    "start_time = timer(None) # timing starts from this point for \"start_time\" variable\n",
    "xgb_grid_fit_test = xgb_grid_test.fit(X, y)\n",
    "timer(start_time) # timing ends here for \"start_time\" variable"
   ]
  },
  {
   "cell_type": "code",
   "execution_count": 21,
   "id": "8753056d",
   "metadata": {},
   "outputs": [
    {
     "data": {
      "text/plain": [
       "0.7357142857142857"
      ]
     },
     "execution_count": 21,
     "metadata": {},
     "output_type": "execute_result"
    }
   ],
   "source": [
    "xgb_grid_test.best_score_"
   ]
  },
  {
   "cell_type": "markdown",
   "id": "a7046de5",
   "metadata": {},
   "source": [
    "## XGBoost with hyper parameter tuning with Grid Search without CV"
   ]
  },
  {
   "cell_type": "code",
   "execution_count": 22,
   "id": "e731ac53",
   "metadata": {},
   "outputs": [
    {
     "data": {
      "text/plain": [
       "{'colsample_bytree': 0.6,\n",
       " 'gamma': 5,\n",
       " 'learning_rate': 0.2,\n",
       " 'max_depth': 4,\n",
       " 'min_child_weight': 1,\n",
       " 'subsample': 0.6}"
      ]
     },
     "execution_count": 22,
     "metadata": {},
     "output_type": "execute_result"
    }
   ],
   "source": [
    "xgb_grid.best_params_"
   ]
  },
  {
   "cell_type": "code",
   "execution_count": 23,
   "id": "05e01399",
   "metadata": {},
   "outputs": [],
   "source": [
    "allNames = params\n",
    "combinations = it.product(*(params[Name] for Name in allNames))\n",
    "comb_params = list(combinations)"
   ]
  },
  {
   "cell_type": "code",
   "execution_count": 24,
   "id": "56d30d9d",
   "metadata": {},
   "outputs": [
    {
     "name": "stdout",
     "output_type": "stream",
     "text": [
      "\n",
      " Time taken: 0 hours 2 minutes and 29.92 seconds.\n"
     ]
    }
   ],
   "source": [
    "scores = []\n",
    "start_time = timer(None) # timing starts from this point for \"start_time\" variable\n",
    "for x in comb_params:\n",
    "    XGB = XGBClassifier(learning_rate=x[0], min_child_weight=x[1], gamma=x[2], subsample=x[3], colsample_bytree=x[4], max_depth=x[5])\n",
    "    XGB.fit(X_train, y_train)\n",
    "    y_pred_xgb = XGB.predict(X_test)\n",
    "    scores.append(metrics.accuracy_score(y_test, y_pred_xgb))\n",
    "timer(start_time) # timing ends here for \"start_time\" variable"
   ]
  },
  {
   "cell_type": "code",
   "execution_count": 25,
   "id": "4ca199a8",
   "metadata": {},
   "outputs": [
    {
     "data": {
      "text/plain": [
       "0.8354978354978355"
      ]
     },
     "execution_count": 25,
     "metadata": {},
     "output_type": "execute_result"
    }
   ],
   "source": [
    "max(scores)"
   ]
  },
  {
   "cell_type": "code",
   "execution_count": 26,
   "id": "e9ddad7b",
   "metadata": {},
   "outputs": [
    {
     "data": {
      "text/plain": [
       "(0.4, 1, 5, 1.0, 1.0, 4)"
      ]
     },
     "execution_count": 26,
     "metadata": {},
     "output_type": "execute_result"
    }
   ],
   "source": [
    "comb_params[scores.index(max(scores))]"
   ]
  },
  {
   "cell_type": "code",
   "execution_count": 27,
   "id": "4e8dd6ae",
   "metadata": {},
   "outputs": [],
   "source": [
    "XGB_best = XGBClassifier(learning_rate=0.4, min_child_weight=1, gamma=5, subsample=0.8, colsample_bytree=0.8, max_depth=5)\n",
    "XGB_best.fit(X_train, y_train)\n",
    "y_pred_params = XGB_best.predict(X_test)"
   ]
  },
  {
   "cell_type": "code",
   "execution_count": 28,
   "id": "fc98a481",
   "metadata": {},
   "outputs": [
    {
     "data": {
      "text/plain": [
       "0.7662337662337663"
      ]
     },
     "execution_count": 28,
     "metadata": {},
     "output_type": "execute_result"
    }
   ],
   "source": [
    "metrics.accuracy_score(y_test, y_pred_params)"
   ]
  },
  {
   "cell_type": "code",
   "execution_count": 29,
   "id": "9b83f3a6",
   "metadata": {},
   "outputs": [
    {
     "data": {
      "text/plain": [
       "array([[131,  16],\n",
       "       [ 38,  46]], dtype=int64)"
      ]
     },
     "execution_count": 29,
     "metadata": {},
     "output_type": "execute_result"
    }
   ],
   "source": [
    "metrics.confusion_matrix(y_test, y_pred_params)"
   ]
  },
  {
   "cell_type": "code",
   "execution_count": 30,
   "id": "aaa77750",
   "metadata": {},
   "outputs": [
    {
     "name": "stdout",
     "output_type": "stream",
     "text": [
      "              precision    recall  f1-score   support\n",
      "\n",
      "           0       0.80      0.85      0.82       147\n",
      "           1       0.70      0.62      0.66        84\n",
      "\n",
      "    accuracy                           0.77       231\n",
      "   macro avg       0.75      0.73      0.74       231\n",
      "weighted avg       0.76      0.77      0.76       231\n",
      "\n"
     ]
    }
   ],
   "source": [
    "print(metrics.classification_report(y_test, y_pred_xgb))"
   ]
  },
  {
   "cell_type": "markdown",
   "id": "38531faf",
   "metadata": {},
   "source": [
    "## XGBoost with hyper parameter tuning with Randomized Search"
   ]
  },
  {
   "cell_type": "code",
   "execution_count": 31,
   "id": "f179cdc8",
   "metadata": {},
   "outputs": [],
   "source": [
    "params = {\n",
    "        'learning_rate': [0.1, 0.2, 0.4, 0.8, 1.5],\n",
    "        'min_child_weight': [1, 5, 10],\n",
    "        'gamma': [0.5, 1, 1.5, 2, 5],\n",
    "        'subsample': [0.6, 0.8, 1.0],\n",
    "        'colsample_bytree': [0.6, 0.8, 1.0],\n",
    "        'max_depth': [3, 4, 5]\n",
    "        }"
   ]
  },
  {
   "cell_type": "code",
   "execution_count": 32,
   "id": "d67373bc",
   "metadata": {},
   "outputs": [
    {
     "name": "stdout",
     "output_type": "stream",
     "text": [
      "\n",
      " Time taken: 0 hours 0 minutes and 2.52 seconds.\n"
     ]
    }
   ],
   "source": [
    "XGBrs = XGBClassifier()\n",
    "xgb_random = RandomizedSearchCV(estimator=XGBrs,param_distributions=params,\n",
    "                            scoring='accuracy',\n",
    "                            cv=10,\n",
    "                            n_iter=10,\n",
    "                            return_train_score=True,\n",
    "                            n_jobs=-1,)\n",
    "\n",
    "start_time = timer(None) # timing starts from this point for \"start_time\" variable\n",
    "xgb_random_fit = xgb_random.fit(X, y)\n",
    "timer(start_time) # timing ends here for \"start_time\" variable"
   ]
  },
  {
   "cell_type": "code",
   "execution_count": 33,
   "id": "9c26293f",
   "metadata": {},
   "outputs": [
    {
     "data": {
      "text/plain": [
       "{'subsample': 1.0,\n",
       " 'min_child_weight': 10,\n",
       " 'max_depth': 3,\n",
       " 'learning_rate': 0.1,\n",
       " 'gamma': 1,\n",
       " 'colsample_bytree': 0.8}"
      ]
     },
     "execution_count": 33,
     "metadata": {},
     "output_type": "execute_result"
    }
   ],
   "source": [
    "xgb_random_fit.best_params_"
   ]
  },
  {
   "cell_type": "code",
   "execution_count": 34,
   "id": "10d7f386",
   "metadata": {},
   "outputs": [
    {
     "data": {
      "text/plain": [
       "0.764354066985646"
      ]
     },
     "execution_count": 34,
     "metadata": {},
     "output_type": "execute_result"
    }
   ],
   "source": [
    "xgb_random_fit.best_score_"
   ]
  },
  {
   "cell_type": "code",
   "execution_count": null,
   "id": "1f2abfc1",
   "metadata": {},
   "outputs": [],
   "source": []
  }
 ],
 "metadata": {
  "kernelspec": {
   "display_name": "Python 3 (ipykernel)",
   "language": "python",
   "name": "python3"
  },
  "language_info": {
   "codemirror_mode": {
    "name": "ipython",
    "version": 3
   },
   "file_extension": ".py",
   "mimetype": "text/x-python",
   "name": "python",
   "nbconvert_exporter": "python",
   "pygments_lexer": "ipython3",
   "version": "3.9.7"
  }
 },
 "nbformat": 4,
 "nbformat_minor": 5
}
