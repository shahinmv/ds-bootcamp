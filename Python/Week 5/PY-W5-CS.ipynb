{
 "cells": [
  {
   "cell_type": "markdown",
   "id": "dc8b2071",
   "metadata": {},
   "source": [
    "# Python Week 5 CS\n",
    "\n",
    "## Shahin Mammadov"
   ]
  },
  {
   "cell_type": "markdown",
   "id": "9b81e907",
   "metadata": {},
   "source": [
    "You asked to create Support Vector Machine (with both Linear and RBF kernel) classifier, Decision\n",
    "Tree classifier, Random Forest classifier, Logistic Regression, Naïve Bayes classifier, KNN classifier to\n",
    "predict whether patients have heart disease or not and decide which algorithm performs the best on\n",
    "average."
   ]
  },
  {
   "cell_type": "code",
   "execution_count": 1,
   "id": "db01b76a",
   "metadata": {},
   "outputs": [],
   "source": [
    "import pandas as pd"
   ]
  },
  {
   "cell_type": "code",
   "execution_count": 2,
   "id": "555c7f2b",
   "metadata": {},
   "outputs": [],
   "source": [
    "data = pd.read_csv(\"heart.csv\")"
   ]
  },
  {
   "cell_type": "code",
   "execution_count": 3,
   "id": "8ce338e4",
   "metadata": {},
   "outputs": [
    {
     "data": {
      "text/html": [
       "<div>\n",
       "<style scoped>\n",
       "    .dataframe tbody tr th:only-of-type {\n",
       "        vertical-align: middle;\n",
       "    }\n",
       "\n",
       "    .dataframe tbody tr th {\n",
       "        vertical-align: top;\n",
       "    }\n",
       "\n",
       "    .dataframe thead th {\n",
       "        text-align: right;\n",
       "    }\n",
       "</style>\n",
       "<table border=\"1\" class=\"dataframe\">\n",
       "  <thead>\n",
       "    <tr style=\"text-align: right;\">\n",
       "      <th></th>\n",
       "      <th>age</th>\n",
       "      <th>sex</th>\n",
       "      <th>cp</th>\n",
       "      <th>trestbps</th>\n",
       "      <th>chol</th>\n",
       "      <th>fbs</th>\n",
       "      <th>restecg</th>\n",
       "      <th>thalach</th>\n",
       "      <th>exang</th>\n",
       "      <th>oldpeak</th>\n",
       "      <th>slope</th>\n",
       "      <th>ca</th>\n",
       "      <th>thal</th>\n",
       "      <th>target</th>\n",
       "    </tr>\n",
       "  </thead>\n",
       "  <tbody>\n",
       "    <tr>\n",
       "      <th>0</th>\n",
       "      <td>63</td>\n",
       "      <td>1</td>\n",
       "      <td>3</td>\n",
       "      <td>145</td>\n",
       "      <td>233</td>\n",
       "      <td>1</td>\n",
       "      <td>0</td>\n",
       "      <td>150</td>\n",
       "      <td>0</td>\n",
       "      <td>2.3</td>\n",
       "      <td>0</td>\n",
       "      <td>0</td>\n",
       "      <td>1</td>\n",
       "      <td>1</td>\n",
       "    </tr>\n",
       "    <tr>\n",
       "      <th>1</th>\n",
       "      <td>37</td>\n",
       "      <td>1</td>\n",
       "      <td>2</td>\n",
       "      <td>130</td>\n",
       "      <td>250</td>\n",
       "      <td>0</td>\n",
       "      <td>1</td>\n",
       "      <td>187</td>\n",
       "      <td>0</td>\n",
       "      <td>3.5</td>\n",
       "      <td>0</td>\n",
       "      <td>0</td>\n",
       "      <td>2</td>\n",
       "      <td>1</td>\n",
       "    </tr>\n",
       "    <tr>\n",
       "      <th>2</th>\n",
       "      <td>41</td>\n",
       "      <td>0</td>\n",
       "      <td>1</td>\n",
       "      <td>130</td>\n",
       "      <td>204</td>\n",
       "      <td>0</td>\n",
       "      <td>0</td>\n",
       "      <td>172</td>\n",
       "      <td>0</td>\n",
       "      <td>1.4</td>\n",
       "      <td>2</td>\n",
       "      <td>0</td>\n",
       "      <td>2</td>\n",
       "      <td>1</td>\n",
       "    </tr>\n",
       "    <tr>\n",
       "      <th>3</th>\n",
       "      <td>56</td>\n",
       "      <td>1</td>\n",
       "      <td>1</td>\n",
       "      <td>120</td>\n",
       "      <td>236</td>\n",
       "      <td>0</td>\n",
       "      <td>1</td>\n",
       "      <td>178</td>\n",
       "      <td>0</td>\n",
       "      <td>0.8</td>\n",
       "      <td>2</td>\n",
       "      <td>0</td>\n",
       "      <td>2</td>\n",
       "      <td>1</td>\n",
       "    </tr>\n",
       "    <tr>\n",
       "      <th>4</th>\n",
       "      <td>57</td>\n",
       "      <td>0</td>\n",
       "      <td>0</td>\n",
       "      <td>120</td>\n",
       "      <td>354</td>\n",
       "      <td>0</td>\n",
       "      <td>1</td>\n",
       "      <td>163</td>\n",
       "      <td>1</td>\n",
       "      <td>0.6</td>\n",
       "      <td>2</td>\n",
       "      <td>0</td>\n",
       "      <td>2</td>\n",
       "      <td>1</td>\n",
       "    </tr>\n",
       "  </tbody>\n",
       "</table>\n",
       "</div>"
      ],
      "text/plain": [
       "   age  sex  cp  trestbps  chol  fbs  restecg  thalach  exang  oldpeak  slope  \\\n",
       "0   63    1   3       145   233    1        0      150      0      2.3      0   \n",
       "1   37    1   2       130   250    0        1      187      0      3.5      0   \n",
       "2   41    0   1       130   204    0        0      172      0      1.4      2   \n",
       "3   56    1   1       120   236    0        1      178      0      0.8      2   \n",
       "4   57    0   0       120   354    0        1      163      1      0.6      2   \n",
       "\n",
       "   ca  thal  target  \n",
       "0   0     1       1  \n",
       "1   0     2       1  \n",
       "2   0     2       1  \n",
       "3   0     2       1  \n",
       "4   0     2       1  "
      ]
     },
     "execution_count": 3,
     "metadata": {},
     "output_type": "execute_result"
    }
   ],
   "source": [
    "data.head()"
   ]
  },
  {
   "cell_type": "code",
   "execution_count": 4,
   "id": "cc639aa0",
   "metadata": {},
   "outputs": [
    {
     "name": "stdout",
     "output_type": "stream",
     "text": [
      "<class 'pandas.core.frame.DataFrame'>\n",
      "RangeIndex: 303 entries, 0 to 302\n",
      "Data columns (total 14 columns):\n",
      " #   Column    Non-Null Count  Dtype  \n",
      "---  ------    --------------  -----  \n",
      " 0   age       303 non-null    int64  \n",
      " 1   sex       303 non-null    int64  \n",
      " 2   cp        303 non-null    int64  \n",
      " 3   trestbps  303 non-null    int64  \n",
      " 4   chol      303 non-null    int64  \n",
      " 5   fbs       303 non-null    int64  \n",
      " 6   restecg   303 non-null    int64  \n",
      " 7   thalach   303 non-null    int64  \n",
      " 8   exang     303 non-null    int64  \n",
      " 9   oldpeak   303 non-null    float64\n",
      " 10  slope     303 non-null    int64  \n",
      " 11  ca        303 non-null    int64  \n",
      " 12  thal      303 non-null    int64  \n",
      " 13  target    303 non-null    int64  \n",
      "dtypes: float64(1), int64(13)\n",
      "memory usage: 33.3 KB\n"
     ]
    }
   ],
   "source": [
    "data.info()"
   ]
  },
  {
   "cell_type": "code",
   "execution_count": 5,
   "id": "c5af3466",
   "metadata": {},
   "outputs": [
    {
     "name": "stdout",
     "output_type": "stream",
     "text": [
      "----------age\n",
      "58    19\n",
      "57    17\n",
      "54    16\n",
      "59    14\n",
      "52    13\n",
      "51    12\n",
      "62    11\n",
      "60    11\n",
      "44    11\n",
      "56    11\n",
      "64    10\n",
      "41    10\n",
      "63     9\n",
      "67     9\n",
      "65     8\n",
      "43     8\n",
      "45     8\n",
      "55     8\n",
      "42     8\n",
      "61     8\n",
      "53     8\n",
      "46     7\n",
      "48     7\n",
      "66     7\n",
      "50     7\n",
      "49     5\n",
      "47     5\n",
      "70     4\n",
      "39     4\n",
      "35     4\n",
      "68     4\n",
      "38     3\n",
      "71     3\n",
      "40     3\n",
      "69     3\n",
      "34     2\n",
      "37     2\n",
      "29     1\n",
      "74     1\n",
      "76     1\n",
      "77     1\n",
      "Name: age, dtype: int64\n",
      "----------sex\n",
      "1    207\n",
      "0     96\n",
      "Name: sex, dtype: int64\n",
      "----------cp\n",
      "0    143\n",
      "2     87\n",
      "1     50\n",
      "3     23\n",
      "Name: cp, dtype: int64\n",
      "----------trestbps\n",
      "120    37\n",
      "130    36\n",
      "140    32\n",
      "110    19\n",
      "150    17\n",
      "138    13\n",
      "128    12\n",
      "160    11\n",
      "125    11\n",
      "112     9\n",
      "132     8\n",
      "118     7\n",
      "124     6\n",
      "135     6\n",
      "108     6\n",
      "152     5\n",
      "134     5\n",
      "145     5\n",
      "122     4\n",
      "170     4\n",
      "100     4\n",
      "105     3\n",
      "126     3\n",
      "115     3\n",
      "180     3\n",
      "136     3\n",
      "142     3\n",
      "102     2\n",
      "148     2\n",
      "178     2\n",
      "94      2\n",
      "144     2\n",
      "146     2\n",
      "200     1\n",
      "114     1\n",
      "154     1\n",
      "123     1\n",
      "192     1\n",
      "174     1\n",
      "165     1\n",
      "104     1\n",
      "117     1\n",
      "101     1\n",
      "156     1\n",
      "106     1\n",
      "155     1\n",
      "129     1\n",
      "172     1\n",
      "164     1\n",
      "Name: trestbps, dtype: int64\n",
      "----------chol\n",
      "204    6\n",
      "197    6\n",
      "234    6\n",
      "269    5\n",
      "254    5\n",
      "      ..\n",
      "284    1\n",
      "224    1\n",
      "167    1\n",
      "276    1\n",
      "131    1\n",
      "Name: chol, Length: 152, dtype: int64\n",
      "----------fbs\n",
      "0    258\n",
      "1     45\n",
      "Name: fbs, dtype: int64\n",
      "----------restecg\n",
      "1    152\n",
      "0    147\n",
      "2      4\n",
      "Name: restecg, dtype: int64\n",
      "----------thalach\n",
      "162    11\n",
      "160     9\n",
      "163     9\n",
      "152     8\n",
      "173     8\n",
      "       ..\n",
      "202     1\n",
      "184     1\n",
      "121     1\n",
      "192     1\n",
      "90      1\n",
      "Name: thalach, Length: 91, dtype: int64\n",
      "----------exang\n",
      "0    204\n",
      "1     99\n",
      "Name: exang, dtype: int64\n",
      "----------oldpeak\n",
      "0.0    99\n",
      "1.2    17\n",
      "1.0    14\n",
      "0.6    14\n",
      "1.4    13\n",
      "0.8    13\n",
      "0.2    12\n",
      "1.6    11\n",
      "1.8    10\n",
      "0.4     9\n",
      "2.0     9\n",
      "0.1     7\n",
      "2.8     6\n",
      "2.6     6\n",
      "1.5     5\n",
      "3.0     5\n",
      "1.9     5\n",
      "0.5     5\n",
      "3.6     4\n",
      "2.2     4\n",
      "2.4     3\n",
      "0.9     3\n",
      "3.4     3\n",
      "4.0     3\n",
      "0.3     3\n",
      "2.3     2\n",
      "3.2     2\n",
      "2.5     2\n",
      "4.2     2\n",
      "1.1     2\n",
      "3.1     1\n",
      "0.7     1\n",
      "3.5     1\n",
      "6.2     1\n",
      "1.3     1\n",
      "5.6     1\n",
      "2.9     1\n",
      "2.1     1\n",
      "3.8     1\n",
      "4.4     1\n",
      "Name: oldpeak, dtype: int64\n",
      "----------slope\n",
      "2    142\n",
      "1    140\n",
      "0     21\n",
      "Name: slope, dtype: int64\n",
      "----------ca\n",
      "0    175\n",
      "1     65\n",
      "2     38\n",
      "3     20\n",
      "4      5\n",
      "Name: ca, dtype: int64\n",
      "----------thal\n",
      "2    166\n",
      "3    117\n",
      "1     18\n",
      "0      2\n",
      "Name: thal, dtype: int64\n",
      "----------target\n",
      "1    165\n",
      "0    138\n",
      "Name: target, dtype: int64\n"
     ]
    }
   ],
   "source": [
    "for x in data.columns:\n",
    "    print (\"----------%s\" % x)\n",
    "    print (data[x].value_counts())"
   ]
  },
  {
   "cell_type": "code",
   "execution_count": 6,
   "id": "77731b89",
   "metadata": {},
   "outputs": [],
   "source": [
    "import numpy as np\n",
    "from sklearn.model_selection import train_test_split\n",
    "\n",
    "X = pd.DataFrame(np.c_[data['age'], data['sex'], data['cp'], data['trestbps'], data['chol'], data['fbs'], data['restecg'], data['thalach'], data['exang'], data['oldpeak'], data['slope'], data['ca'], data['thal']])\n",
    "y = data['target']\n",
    "\n",
    "X_train, X_test, y_train, y_test = train_test_split(X, y, test_size=0.3, random_state=None)\n",
    "\n",
    "from sklearn.preprocessing import StandardScaler    \n",
    "st_x= StandardScaler()    \n",
    "X_train= st_x.fit_transform(X_train)    \n",
    "X_test= st_x.transform(X_test)  "
   ]
  },
  {
   "cell_type": "markdown",
   "id": "2e7848ac",
   "metadata": {},
   "source": [
    "## Logistic Regression"
   ]
  },
  {
   "cell_type": "code",
   "execution_count": 7,
   "id": "3775d8f0",
   "metadata": {},
   "outputs": [],
   "source": [
    "from sklearn.linear_model import LogisticRegression"
   ]
  },
  {
   "cell_type": "code",
   "execution_count": 8,
   "id": "70024fa2",
   "metadata": {},
   "outputs": [],
   "source": [
    "regressor = LogisticRegression()\n",
    "regressor.fit(X_train, y_train)\n",
    "y_pred_lr = regressor.predict(X_test)"
   ]
  },
  {
   "cell_type": "code",
   "execution_count": 9,
   "id": "2b08849f",
   "metadata": {},
   "outputs": [
    {
     "data": {
      "text/plain": [
       "0.8461538461538461"
      ]
     },
     "execution_count": 9,
     "metadata": {},
     "output_type": "execute_result"
    }
   ],
   "source": [
    "from sklearn import metrics\n",
    "metrics.accuracy_score(y_test, y_pred_lr)"
   ]
  },
  {
   "cell_type": "code",
   "execution_count": 10,
   "id": "cbbca70a",
   "metadata": {},
   "outputs": [
    {
     "data": {
      "text/plain": [
       "array([[32,  7],\n",
       "       [ 7, 45]], dtype=int64)"
      ]
     },
     "execution_count": 10,
     "metadata": {},
     "output_type": "execute_result"
    }
   ],
   "source": [
    "metrics.confusion_matrix(y_test, y_pred_lr)"
   ]
  },
  {
   "cell_type": "markdown",
   "id": "22705727",
   "metadata": {},
   "source": [
    "## Naive Bayes"
   ]
  },
  {
   "cell_type": "code",
   "execution_count": 11,
   "id": "295b440f",
   "metadata": {},
   "outputs": [],
   "source": [
    "from sklearn.naive_bayes import GaussianNB\n",
    "gnb = GaussianNB()\n",
    "gnb.fit(X_train, y_train)\n",
    "y_pred_nb = gnb.predict(X_test)"
   ]
  },
  {
   "cell_type": "code",
   "execution_count": 12,
   "id": "dc1d4348",
   "metadata": {},
   "outputs": [
    {
     "data": {
      "text/plain": [
       "0.8901098901098901"
      ]
     },
     "execution_count": 12,
     "metadata": {},
     "output_type": "execute_result"
    }
   ],
   "source": [
    "metrics.accuracy_score(y_test, y_pred_nb)"
   ]
  },
  {
   "cell_type": "markdown",
   "id": "d2b66dfb",
   "metadata": {},
   "source": [
    "## K-Nearest Neighbour"
   ]
  },
  {
   "cell_type": "code",
   "execution_count": 13,
   "id": "76e47249",
   "metadata": {},
   "outputs": [],
   "source": [
    "import matplotlib.pyplot as plt\n",
    "from sklearn.neighbors import KNeighborsClassifier\n",
    "\n",
    "neighbors = np.arange(1, 40)\n",
    "train_accuracy = np.empty(len(neighbors))\n",
    "test_accuracy = np.empty(len(neighbors))\n",
    "  \n",
    "for i, k in enumerate(neighbors):\n",
    "    knn = KNeighborsClassifier(n_neighbors=k)\n",
    "    knn.fit(X_train, y_train)\n",
    "      \n",
    "    # Compute training and test data accuracy\n",
    "    train_accuracy[i] = knn.score(X_train, y_train)\n",
    "    test_accuracy[i] = knn.score(X_test, y_test)"
   ]
  },
  {
   "cell_type": "code",
   "execution_count": 14,
   "id": "beb08b8e",
   "metadata": {},
   "outputs": [
    {
     "data": {
      "image/png": "[encoded data removed]",
      "text/plain": [
       "<Figure size 432x288 with 1 Axes>"
      ]
     },
     "metadata": {
      "needs_background": "light"
     },
     "output_type": "display_data"
    }
   ],
   "source": [
    "plt.plot(neighbors, test_accuracy, label = 'Testing dataset Accuracy')\n",
    "plt.plot(neighbors, train_accuracy, label = 'Training dataset Accuracy')\n",
    "  \n",
    "plt.legend()\n",
    "plt.xlabel('n_neighbors')\n",
    "plt.ylabel('Accuracy')\n",
    "plt.show()"
   ]
  },
  {
   "cell_type": "code",
   "execution_count": 15,
   "id": "8756fc0b",
   "metadata": {},
   "outputs": [],
   "source": [
    "knn = KNeighborsClassifier(n_neighbors=37)\n",
    "  \n",
    "knn.fit(X_train, y_train)\n",
    "y_pred_knn = knn.predict(X_test)"
   ]
  },
  {
   "cell_type": "code",
   "execution_count": 16,
   "id": "ec7bc6d3",
   "metadata": {},
   "outputs": [
    {
     "data": {
      "text/plain": [
       "0.8461538461538461"
      ]
     },
     "execution_count": 16,
     "metadata": {},
     "output_type": "execute_result"
    }
   ],
   "source": [
    "metrics.accuracy_score(y_test, y_pred_knn)"
   ]
  },
  {
   "cell_type": "markdown",
   "id": "3315c937",
   "metadata": {},
   "source": [
    "## SVM"
   ]
  },
  {
   "cell_type": "markdown",
   "id": "4c2ed2ed",
   "metadata": {},
   "source": [
    "### Linear"
   ]
  },
  {
   "cell_type": "code",
   "execution_count": 17,
   "id": "987fdc79",
   "metadata": {},
   "outputs": [],
   "source": [
    "from sklearn.svm import SVC\n",
    "clf = SVC(kernel= 'linear')\n",
    "clf.fit(X_train, y_train)\n",
    "y_pred_lin = clf.predict(X_test)"
   ]
  },
  {
   "cell_type": "code",
   "execution_count": 18,
   "id": "7f2d6168",
   "metadata": {},
   "outputs": [
    {
     "data": {
      "text/plain": [
       "0.8901098901098901"
      ]
     },
     "execution_count": 18,
     "metadata": {},
     "output_type": "execute_result"
    }
   ],
   "source": [
    "metrics.accuracy_score(y_test, y_pred_lin)"
   ]
  },
  {
   "cell_type": "markdown",
   "id": "a5526a49",
   "metadata": {},
   "source": [
    "### RBF"
   ]
  },
  {
   "cell_type": "code",
   "execution_count": 19,
   "id": "06dba741",
   "metadata": {},
   "outputs": [],
   "source": [
    "classifier = SVC(kernel='rbf', random_state = 1)\n",
    "classifier.fit(X_train,y_train)\n",
    "y_pred_rbf = clf.predict(X_test)"
   ]
  },
  {
   "cell_type": "code",
   "execution_count": 20,
   "id": "d5474e57",
   "metadata": {},
   "outputs": [
    {
     "data": {
      "text/plain": [
       "0.8901098901098901"
      ]
     },
     "execution_count": 20,
     "metadata": {},
     "output_type": "execute_result"
    }
   ],
   "source": [
    "metrics.accuracy_score(y_test, y_pred_rbf)"
   ]
  },
  {
   "cell_type": "markdown",
   "id": "da89234e",
   "metadata": {},
   "source": [
    "## Decision tree"
   ]
  },
  {
   "cell_type": "code",
   "execution_count": 21,
   "id": "e8ae53a0",
   "metadata": {},
   "outputs": [],
   "source": [
    "from sklearn.tree import DecisionTreeClassifier\n",
    "classifier = DecisionTreeClassifier(criterion='entropy', max_depth=3, random_state=0)\n",
    "classifier.fit(X_train, y_train)\n",
    "\n",
    "y_pred_dt = classifier.predict(X_test)"
   ]
  },
  {
   "cell_type": "code",
   "execution_count": 22,
   "id": "c24014fc",
   "metadata": {},
   "outputs": [
    {
     "data": {
      "text/plain": [
       "0.8461538461538461"
      ]
     },
     "execution_count": 22,
     "metadata": {},
     "output_type": "execute_result"
    }
   ],
   "source": [
    "metrics.accuracy_score(y_test, y_pred_dt)"
   ]
  },
  {
   "cell_type": "markdown",
   "id": "f78302e2",
   "metadata": {},
   "source": [
    "## Random Forest Classifier"
   ]
  },
  {
   "cell_type": "code",
   "execution_count": null,
   "id": "fb20665e",
   "metadata": {},
   "outputs": [],
   "source": [
    "from sklearn.ensemble import RandomForestClassifier\n",
    "classifier = RandomForestClassifier(max_depth=2, random_state=0)"
   ]
  }
 ],
 "metadata": {
  "kernelspec": {
   "display_name": "Python 3 (ipykernel)",
   "language": "python",
   "name": "python3"
  },
  "language_info": {
   "codemirror_mode": {
    "name": "ipython",
    "version": 3
   },
   "file_extension": ".py",
   "mimetype": "text/x-python",
   "name": "python",
   "nbconvert_exporter": "python",
   "pygments_lexer": "ipython3",
   "version": "3.9.7"
  }
 },
 "nbformat": 4,
 "nbformat_minor": 5
}
