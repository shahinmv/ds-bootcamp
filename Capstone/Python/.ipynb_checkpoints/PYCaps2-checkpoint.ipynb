{
 "cells": [
  {
   "cell_type": "code",
   "execution_count": 1,
   "id": "69cef8f7",
   "metadata": {},
   "outputs": [
    {
     "name": "stderr",
     "output_type": "stream",
     "text": [
      "C:\\Users\\shahinmammadov\\Anaconda3\\lib\\site-packages\\scipy\\__init__.py:146: UserWarning: A NumPy version >=1.16.5 and <1.23.0 is required for this version of SciPy (detected version 1.23.4\n",
      "  warnings.warn(f\"A NumPy version >={np_minversion} and <{np_maxversion}\"\n"
     ]
    }
   ],
   "source": [
    "import pandas as pd\n",
    "import numpy as np\n",
    "import math\n",
    "from sklearn import metrics\n",
    "from sklearn.model_selection import GridSearchCV\n",
    "import xgboost as xgb\n",
    "from sklearn.neighbors import KNeighborsRegressor\n",
    "from sklearn.impute import KNNImputer\n",
    "from sklearn.feature_selection import RFE\n",
    "from sklearn.linear_model import LinearRegression\n",
    "from sklearn.model_selection import train_test_split"
   ]
  },
  {
   "cell_type": "code",
   "execution_count": 2,
   "id": "4181e346",
   "metadata": {
    "scrolled": true
   },
   "outputs": [],
   "source": [
    "test = pd.read_csv('test.csv')\n",
    "train = pd.read_csv('train.csv')"
   ]
  },
  {
   "cell_type": "code",
   "execution_count": 3,
   "id": "bd037089",
   "metadata": {},
   "outputs": [
    {
     "data": {
      "text/html": [
       "<div>\n",
       "<style scoped>\n",
       "    .dataframe tbody tr th:only-of-type {\n",
       "        vertical-align: middle;\n",
       "    }\n",
       "\n",
       "    .dataframe tbody tr th {\n",
       "        vertical-align: top;\n",
       "    }\n",
       "\n",
       "    .dataframe thead th {\n",
       "        text-align: right;\n",
       "    }\n",
       "</style>\n",
       "<table border=\"1\" class=\"dataframe\">\n",
       "  <thead>\n",
       "    <tr style=\"text-align: right;\">\n",
       "      <th></th>\n",
       "      <th>galactic year</th>\n",
       "      <th>existence expectancy index</th>\n",
       "      <th>existence expectancy at birth</th>\n",
       "      <th>Gross income per capita</th>\n",
       "      <th>Income Index</th>\n",
       "      <th>Expected years of education (galactic years)</th>\n",
       "      <th>Mean years of education (galactic years)</th>\n",
       "      <th>Intergalactic Development Index (IDI)</th>\n",
       "      <th>Education Index</th>\n",
       "      <th>Intergalactic Development Index (IDI), Rank</th>\n",
       "      <th>...</th>\n",
       "      <th>Intergalactic Development Index (IDI), female</th>\n",
       "      <th>Intergalactic Development Index (IDI), male</th>\n",
       "      <th>Gender Development Index (GDI)</th>\n",
       "      <th>Intergalactic Development Index (IDI), female, Rank</th>\n",
       "      <th>Intergalactic Development Index (IDI), male, Rank</th>\n",
       "      <th>Adjusted net savings</th>\n",
       "      <th>Creature Immunodeficiency Disease prevalence, adult (% ages 15-49), total</th>\n",
       "      <th>Private galaxy capital flows (% of GGP)</th>\n",
       "      <th>Gender Inequality Index (GII)</th>\n",
       "      <th>y</th>\n",
       "    </tr>\n",
       "  </thead>\n",
       "  <tbody>\n",
       "    <tr>\n",
       "      <th>count</th>\n",
       "      <td>3.865000e+03</td>\n",
       "      <td>3864.000000</td>\n",
       "      <td>3864.000000</td>\n",
       "      <td>3837.000000</td>\n",
       "      <td>3837.000000</td>\n",
       "      <td>3732.000000</td>\n",
       "      <td>3502.000000</td>\n",
       "      <td>3474.000000</td>\n",
       "      <td>3474.000000</td>\n",
       "      <td>3432.000000</td>\n",
       "      <td>...</td>\n",
       "      <td>916.000000</td>\n",
       "      <td>915.000000</td>\n",
       "      <td>914.000000</td>\n",
       "      <td>893.000000</td>\n",
       "      <td>892.000000</td>\n",
       "      <td>912.000000</td>\n",
       "      <td>941.000000</td>\n",
       "      <td>874.000000</td>\n",
       "      <td>844.000000</td>\n",
       "      <td>3865.000000</td>\n",
       "    </tr>\n",
       "    <tr>\n",
       "      <th>mean</th>\n",
       "      <td>1.000709e+06</td>\n",
       "      <td>0.872479</td>\n",
       "      <td>76.798111</td>\n",
       "      <td>31633.240872</td>\n",
       "      <td>0.825154</td>\n",
       "      <td>14.723296</td>\n",
       "      <td>10.283959</td>\n",
       "      <td>0.804246</td>\n",
       "      <td>0.745900</td>\n",
       "      <td>135.129178</td>\n",
       "      <td>...</td>\n",
       "      <td>0.823561</td>\n",
       "      <td>0.844209</td>\n",
       "      <td>1.008465</td>\n",
       "      <td>121.754797</td>\n",
       "      <td>120.873428</td>\n",
       "      <td>21.252922</td>\n",
       "      <td>6.443023</td>\n",
       "      <td>22.261474</td>\n",
       "      <td>0.600733</td>\n",
       "      <td>0.082773</td>\n",
       "    </tr>\n",
       "    <tr>\n",
       "      <th>std</th>\n",
       "      <td>6.945463e+03</td>\n",
       "      <td>0.162367</td>\n",
       "      <td>10.461654</td>\n",
       "      <td>18736.378445</td>\n",
       "      <td>0.194055</td>\n",
       "      <td>3.612546</td>\n",
       "      <td>3.319948</td>\n",
       "      <td>0.176242</td>\n",
       "      <td>0.199795</td>\n",
       "      <td>52.449535</td>\n",
       "      <td>...</td>\n",
       "      <td>0.185780</td>\n",
       "      <td>0.159041</td>\n",
       "      <td>0.087299</td>\n",
       "      <td>46.269362</td>\n",
       "      <td>46.795666</td>\n",
       "      <td>14.258986</td>\n",
       "      <td>4.804873</td>\n",
       "      <td>34.342797</td>\n",
       "      <td>0.205785</td>\n",
       "      <td>0.063415</td>\n",
       "    </tr>\n",
       "    <tr>\n",
       "      <th>min</th>\n",
       "      <td>9.900250e+05</td>\n",
       "      <td>0.227890</td>\n",
       "      <td>34.244062</td>\n",
       "      <td>-126.906522</td>\n",
       "      <td>0.292001</td>\n",
       "      <td>3.799663</td>\n",
       "      <td>1.928166</td>\n",
       "      <td>0.273684</td>\n",
       "      <td>0.189874</td>\n",
       "      <td>9.925906</td>\n",
       "      <td>...</td>\n",
       "      <td>0.305733</td>\n",
       "      <td>0.369519</td>\n",
       "      <td>0.465177</td>\n",
       "      <td>23.224603</td>\n",
       "      <td>16.215151</td>\n",
       "      <td>-76.741414</td>\n",
       "      <td>-1.192011</td>\n",
       "      <td>-735.186886</td>\n",
       "      <td>0.089092</td>\n",
       "      <td>0.013036</td>\n",
       "    </tr>\n",
       "    <tr>\n",
       "      <th>25%</th>\n",
       "      <td>9.950060e+05</td>\n",
       "      <td>0.763027</td>\n",
       "      <td>69.961449</td>\n",
       "      <td>20169.118912</td>\n",
       "      <td>0.677131</td>\n",
       "      <td>12.592467</td>\n",
       "      <td>7.654169</td>\n",
       "      <td>0.671862</td>\n",
       "      <td>0.597746</td>\n",
       "      <td>92.262724</td>\n",
       "      <td>...</td>\n",
       "      <td>0.690707</td>\n",
       "      <td>0.731264</td>\n",
       "      <td>0.965800</td>\n",
       "      <td>84.090816</td>\n",
       "      <td>82.232550</td>\n",
       "      <td>15.001028</td>\n",
       "      <td>4.113472</td>\n",
       "      <td>17.227899</td>\n",
       "      <td>0.430332</td>\n",
       "      <td>0.047889</td>\n",
       "    </tr>\n",
       "    <tr>\n",
       "      <th>50%</th>\n",
       "      <td>1.000000e+06</td>\n",
       "      <td>0.907359</td>\n",
       "      <td>78.995101</td>\n",
       "      <td>26600.768195</td>\n",
       "      <td>0.827300</td>\n",
       "      <td>14.942913</td>\n",
       "      <td>10.385465</td>\n",
       "      <td>0.824758</td>\n",
       "      <td>0.761255</td>\n",
       "      <td>135.914318</td>\n",
       "      <td>...</td>\n",
       "      <td>0.835410</td>\n",
       "      <td>0.862773</td>\n",
       "      <td>1.029947</td>\n",
       "      <td>120.069916</td>\n",
       "      <td>121.057923</td>\n",
       "      <td>22.182571</td>\n",
       "      <td>5.309497</td>\n",
       "      <td>24.472557</td>\n",
       "      <td>0.624640</td>\n",
       "      <td>0.057820</td>\n",
       "    </tr>\n",
       "    <tr>\n",
       "      <th>75%</th>\n",
       "      <td>1.006009e+06</td>\n",
       "      <td>0.992760</td>\n",
       "      <td>84.558971</td>\n",
       "      <td>36898.631754</td>\n",
       "      <td>0.970295</td>\n",
       "      <td>17.123797</td>\n",
       "      <td>12.884752</td>\n",
       "      <td>0.939043</td>\n",
       "      <td>0.893505</td>\n",
       "      <td>175.301993</td>\n",
       "      <td>...</td>\n",
       "      <td>0.970365</td>\n",
       "      <td>0.961369</td>\n",
       "      <td>1.068481</td>\n",
       "      <td>158.579644</td>\n",
       "      <td>157.815625</td>\n",
       "      <td>29.134738</td>\n",
       "      <td>6.814577</td>\n",
       "      <td>31.748295</td>\n",
       "      <td>0.767404</td>\n",
       "      <td>0.087389</td>\n",
       "    </tr>\n",
       "    <tr>\n",
       "      <th>max</th>\n",
       "      <td>1.015056e+06</td>\n",
       "      <td>1.246908</td>\n",
       "      <td>100.210053</td>\n",
       "      <td>151072.683156</td>\n",
       "      <td>1.361883</td>\n",
       "      <td>26.955944</td>\n",
       "      <td>19.057648</td>\n",
       "      <td>1.232814</td>\n",
       "      <td>1.269625</td>\n",
       "      <td>278.786613</td>\n",
       "      <td>...</td>\n",
       "      <td>1.237661</td>\n",
       "      <td>1.182746</td>\n",
       "      <td>1.181230</td>\n",
       "      <td>232.720847</td>\n",
       "      <td>233.915373</td>\n",
       "      <td>61.903641</td>\n",
       "      <td>36.538462</td>\n",
       "      <td>95.941245</td>\n",
       "      <td>1.098439</td>\n",
       "      <td>0.683813</td>\n",
       "    </tr>\n",
       "  </tbody>\n",
       "</table>\n",
       "<p>8 rows × 79 columns</p>\n",
       "</div>"
      ],
      "text/plain": [
       "       galactic year  existence expectancy index  \\\n",
       "count   3.865000e+03                 3864.000000   \n",
       "mean    1.000709e+06                    0.872479   \n",
       "std     6.945463e+03                    0.162367   \n",
       "min     9.900250e+05                    0.227890   \n",
       "25%     9.950060e+05                    0.763027   \n",
       "50%     1.000000e+06                    0.907359   \n",
       "75%     1.006009e+06                    0.992760   \n",
       "max     1.015056e+06                    1.246908   \n",
       "\n",
       "       existence expectancy at birth  Gross income per capita  Income Index  \\\n",
       "count                    3864.000000              3837.000000   3837.000000   \n",
       "mean                       76.798111             31633.240872      0.825154   \n",
       "std                        10.461654             18736.378445      0.194055   \n",
       "min                        34.244062              -126.906522      0.292001   \n",
       "25%                        69.961449             20169.118912      0.677131   \n",
       "50%                        78.995101             26600.768195      0.827300   \n",
       "75%                        84.558971             36898.631754      0.970295   \n",
       "max                       100.210053            151072.683156      1.361883   \n",
       "\n",
       "       Expected years of education (galactic years)  \\\n",
       "count                                   3732.000000   \n",
       "mean                                      14.723296   \n",
       "std                                        3.612546   \n",
       "min                                        3.799663   \n",
       "25%                                       12.592467   \n",
       "50%                                       14.942913   \n",
       "75%                                       17.123797   \n",
       "max                                       26.955944   \n",
       "\n",
       "       Mean years of education (galactic years)  \\\n",
       "count                               3502.000000   \n",
       "mean                                  10.283959   \n",
       "std                                    3.319948   \n",
       "min                                    1.928166   \n",
       "25%                                    7.654169   \n",
       "50%                                   10.385465   \n",
       "75%                                   12.884752   \n",
       "max                                   19.057648   \n",
       "\n",
       "       Intergalactic Development Index (IDI)  Education Index  \\\n",
       "count                            3474.000000      3474.000000   \n",
       "mean                                0.804246         0.745900   \n",
       "std                                 0.176242         0.199795   \n",
       "min                                 0.273684         0.189874   \n",
       "25%                                 0.671862         0.597746   \n",
       "50%                                 0.824758         0.761255   \n",
       "75%                                 0.939043         0.893505   \n",
       "max                                 1.232814         1.269625   \n",
       "\n",
       "       Intergalactic Development Index (IDI), Rank  ...  \\\n",
       "count                                  3432.000000  ...   \n",
       "mean                                    135.129178  ...   \n",
       "std                                      52.449535  ...   \n",
       "min                                       9.925906  ...   \n",
       "25%                                      92.262724  ...   \n",
       "50%                                     135.914318  ...   \n",
       "75%                                     175.301993  ...   \n",
       "max                                     278.786613  ...   \n",
       "\n",
       "       Intergalactic Development Index (IDI), female  \\\n",
       "count                                     916.000000   \n",
       "mean                                        0.823561   \n",
       "std                                         0.185780   \n",
       "min                                         0.305733   \n",
       "25%                                         0.690707   \n",
       "50%                                         0.835410   \n",
       "75%                                         0.970365   \n",
       "max                                         1.237661   \n",
       "\n",
       "       Intergalactic Development Index (IDI), male  \\\n",
       "count                                   915.000000   \n",
       "mean                                      0.844209   \n",
       "std                                       0.159041   \n",
       "min                                       0.369519   \n",
       "25%                                       0.731264   \n",
       "50%                                       0.862773   \n",
       "75%                                       0.961369   \n",
       "max                                       1.182746   \n",
       "\n",
       "       Gender Development Index (GDI)  \\\n",
       "count                      914.000000   \n",
       "mean                         1.008465   \n",
       "std                          0.087299   \n",
       "min                          0.465177   \n",
       "25%                          0.965800   \n",
       "50%                          1.029947   \n",
       "75%                          1.068481   \n",
       "max                          1.181230   \n",
       "\n",
       "       Intergalactic Development Index (IDI), female, Rank  \\\n",
       "count                                         893.000000     \n",
       "mean                                          121.754797     \n",
       "std                                            46.269362     \n",
       "min                                            23.224603     \n",
       "25%                                            84.090816     \n",
       "50%                                           120.069916     \n",
       "75%                                           158.579644     \n",
       "max                                           232.720847     \n",
       "\n",
       "       Intergalactic Development Index (IDI), male, Rank  \\\n",
       "count                                         892.000000   \n",
       "mean                                          120.873428   \n",
       "std                                            46.795666   \n",
       "min                                            16.215151   \n",
       "25%                                            82.232550   \n",
       "50%                                           121.057923   \n",
       "75%                                           157.815625   \n",
       "max                                           233.915373   \n",
       "\n",
       "       Adjusted net savings   \\\n",
       "count             912.000000   \n",
       "mean               21.252922   \n",
       "std                14.258986   \n",
       "min               -76.741414   \n",
       "25%                15.001028   \n",
       "50%                22.182571   \n",
       "75%                29.134738   \n",
       "max                61.903641   \n",
       "\n",
       "       Creature Immunodeficiency Disease prevalence, adult (% ages 15-49), total  \\\n",
       "count                                         941.000000                           \n",
       "mean                                            6.443023                           \n",
       "std                                             4.804873                           \n",
       "min                                            -1.192011                           \n",
       "25%                                             4.113472                           \n",
       "50%                                             5.309497                           \n",
       "75%                                             6.814577                           \n",
       "max                                            36.538462                           \n",
       "\n",
       "       Private galaxy capital flows (% of GGP)  Gender Inequality Index (GII)  \\\n",
       "count                               874.000000                     844.000000   \n",
       "mean                                 22.261474                       0.600733   \n",
       "std                                  34.342797                       0.205785   \n",
       "min                                -735.186886                       0.089092   \n",
       "25%                                  17.227899                       0.430332   \n",
       "50%                                  24.472557                       0.624640   \n",
       "75%                                  31.748295                       0.767404   \n",
       "max                                  95.941245                       1.098439   \n",
       "\n",
       "                 y  \n",
       "count  3865.000000  \n",
       "mean      0.082773  \n",
       "std       0.063415  \n",
       "min       0.013036  \n",
       "25%       0.047889  \n",
       "50%       0.057820  \n",
       "75%       0.087389  \n",
       "max       0.683813  \n",
       "\n",
       "[8 rows x 79 columns]"
      ]
     },
     "execution_count": 3,
     "metadata": {},
     "output_type": "execute_result"
    }
   ],
   "source": [
    "train.describe()"
   ]
  },
  {
   "cell_type": "code",
   "execution_count": 4,
   "id": "a0e4e946",
   "metadata": {},
   "outputs": [
    {
     "name": "stdout",
     "output_type": "stream",
     "text": [
      "<class 'pandas.core.frame.DataFrame'>\n",
      "RangeIndex: 3865 entries, 0 to 3864\n",
      "Data columns (total 80 columns):\n",
      " #   Column                                                                                   Non-Null Count  Dtype  \n",
      "---  ------                                                                                   --------------  -----  \n",
      " 0   galactic year                                                                            3865 non-null   int64  \n",
      " 1   galaxy                                                                                   3865 non-null   object \n",
      " 2   existence expectancy index                                                               3864 non-null   float64\n",
      " 3   existence expectancy at birth                                                            3864 non-null   float64\n",
      " 4   Gross income per capita                                                                  3837 non-null   float64\n",
      " 5   Income Index                                                                             3837 non-null   float64\n",
      " 6   Expected years of education (galactic years)                                             3732 non-null   float64\n",
      " 7   Mean years of education (galactic years)                                                 3502 non-null   float64\n",
      " 8   Intergalactic Development Index (IDI)                                                    3474 non-null   float64\n",
      " 9   Education Index                                                                          3474 non-null   float64\n",
      " 10  Intergalactic Development Index (IDI), Rank                                              3432 non-null   float64\n",
      " 11  Population using at least basic drinking-water services (%)                              2021 non-null   float64\n",
      " 12  Population using at least basic sanitation services (%)                                  2015 non-null   float64\n",
      " 13  Gross capital formation (% of GGP)                                                       1502 non-null   float64\n",
      " 14  Population, total (millions)                                                             1271 non-null   float64\n",
      " 15  Population, urban (%)                                                                    1271 non-null   float64\n",
      " 16  Mortality rate, under-five (per 1,000 live births)                                       1271 non-null   float64\n",
      " 17  Mortality rate, infant (per 1,000 live births)                                           1259 non-null   float64\n",
      " 18  Old age dependency ratio (old age (65 and older) per 100 creatures (ages 15-64))         1264 non-null   float64\n",
      " 19  Population, ages 15–64 (millions)                                                        1264 non-null   float64\n",
      " 20  Population, ages 65 and older (millions)                                                 1264 non-null   float64\n",
      " 21  Life expectancy at birth, male (galactic years)                                          1264 non-null   float64\n",
      " 22  Life expectancy at birth, female (galactic years)                                        1264 non-null   float64\n",
      " 23  Population, under age 5 (millions)                                                       1264 non-null   float64\n",
      " 24  Young age (0-14) dependency ratio (per 100 creatures ages 15-64)                         1264 non-null   float64\n",
      " 25  Adolescent birth rate (births per 1,000 female creatures ages 15-19)                     1252 non-null   float64\n",
      " 26  Total unemployment rate (female to male ratio)                                           1237 non-null   float64\n",
      " 27  Vulnerable employment (% of total employment)                                            1237 non-null   float64\n",
      " 28  Unemployment, total (% of labour force)                                                  1237 non-null   float64\n",
      " 29  Employment in agriculture (% of total employment)                                        1237 non-null   float64\n",
      " 30  Labour force participation rate (% ages 15 and older)                                    1237 non-null   float64\n",
      " 31  Labour force participation rate (% ages 15 and older), female                            1237 non-null   float64\n",
      " 32  Employment in services (% of total employment)                                           1237 non-null   float64\n",
      " 33  Labour force participation rate (% ages 15 and older), male                              1237 non-null   float64\n",
      " 34  Employment to population ratio (% ages 15 and older)                                     1237 non-null   float64\n",
      " 35  Jungle area (% of total land area)                                                       1234 non-null   float64\n",
      " 36  Share of employment in nonagriculture, female (% of total employment in nonagriculture)  1237 non-null   float64\n",
      " 37  Youth unemployment rate (female to male ratio)                                           1236 non-null   float64\n",
      " 38  Unemployment, youth (% ages 15–24)                                                       1236 non-null   float64\n",
      " 39  Mortality rate, female grown up (per 1,000 people)                                       1253 non-null   float64\n",
      " 40  Mortality rate, male grown up (per 1,000 people)                                         1253 non-null   float64\n",
      " 41  Infants lacking immunization, red hot disease (% of one-galactic year-olds)              1219 non-null   float64\n",
      " 42  Infants lacking immunization, Combination Vaccine (% of one-galactic year-olds)          1219 non-null   float64\n",
      " 43  Gross galactic product (GGP) per capita                                                  1202 non-null   float64\n",
      " 44  Gross galactic product (GGP), total                                                      1202 non-null   float64\n",
      " 45  Outer Galaxies direct investment, net inflows (% of GGP)                                 1169 non-null   float64\n",
      " 46  Exports and imports (% of GGP)                                                           1144 non-null   float64\n",
      " 47  Share of seats in senate (% held by female)                                              1123 non-null   float64\n",
      " 48  Natural resource depletion                                                               1132 non-null   float64\n",
      " 49  Mean years of education, female (galactic years)                                         1140 non-null   float64\n",
      " 50  Mean years of education, male (galactic years)                                           1138 non-null   float64\n",
      " 51  Expected years of education, female (galactic years)                                     1109 non-null   float64\n",
      " 52  Expected years of education, male (galactic years)                                       1108 non-null   float64\n",
      " 53  Maternal mortality ratio (deaths per 100,000 live births)                                1252 non-null   float64\n",
      " 54  Renewable energy consumption (% of total final energy consumption)                       1235 non-null   float64\n",
      " 55  Estimated gross galactic income per capita, male                                         1055 non-null   float64\n",
      " 56  Estimated gross galactic income per capita, female                                       1055 non-null   float64\n",
      " 57  Rural population with access to electricity (%)                                          1029 non-null   float64\n",
      " 58  Domestic credit provided by financial sector (% of GGP)                                  1079 non-null   float64\n",
      " 59  Population with at least some secondary education, female (% ages 25 and older)          1089 non-null   float64\n",
      " 60  Population with at least some secondary education, male (% ages 25 and older)            1087 non-null   float64\n",
      " 61  Gross fixed capital formation (% of GGP)                                                 1074 non-null   float64\n",
      " 62  Remittances, inflows (% of GGP)                                                          1028 non-null   float64\n",
      " 63  Population with at least some secondary education (% ages 25 and older)                  1051 non-null   float64\n",
      " 64  Intergalactic inbound tourists (thousands)                                               995 non-null    float64\n",
      " 65  Gross enrolment ratio, primary (% of primary under-age population)                       1038 non-null   float64\n",
      " 66  Respiratory disease incidence (per 100,000 people)                                       896 non-null    float64\n",
      " 67  Interstellar phone subscriptions (per 100 people)                                        891 non-null    float64\n",
      " 68  Interstellar Data Net users, total (% of population)                                     872 non-null    float64\n",
      " 69  Current health expenditure (% of GGP)                                                    867 non-null    float64\n",
      " 70  Intergalactic Development Index (IDI), female                                            916 non-null    float64\n",
      " 71  Intergalactic Development Index (IDI), male                                              915 non-null    float64\n",
      " 72  Gender Development Index (GDI)                                                           914 non-null    float64\n",
      " 73  Intergalactic Development Index (IDI), female, Rank                                      893 non-null    float64\n",
      " 74  Intergalactic Development Index (IDI), male, Rank                                        892 non-null    float64\n",
      " 75  Adjusted net savings                                                                     912 non-null    float64\n",
      " 76  Creature Immunodeficiency Disease prevalence, adult (% ages 15-49), total                941 non-null    float64\n",
      " 77  Private galaxy capital flows (% of GGP)                                                  874 non-null    float64\n",
      " 78  Gender Inequality Index (GII)                                                            844 non-null    float64\n",
      " 79  y                                                                                        3865 non-null   float64\n",
      "dtypes: float64(78), int64(1), object(1)\n",
      "memory usage: 2.4+ MB\n"
     ]
    }
   ],
   "source": [
    "train.info()"
   ]
  },
  {
   "cell_type": "code",
   "execution_count": 5,
   "id": "307b98a0",
   "metadata": {},
   "outputs": [
    {
     "data": {
      "text/html": [
       "<div>\n",
       "<style scoped>\n",
       "    .dataframe tbody tr th:only-of-type {\n",
       "        vertical-align: middle;\n",
       "    }\n",
       "\n",
       "    .dataframe tbody tr th {\n",
       "        vertical-align: top;\n",
       "    }\n",
       "\n",
       "    .dataframe thead th {\n",
       "        text-align: right;\n",
       "    }\n",
       "</style>\n",
       "<table border=\"1\" class=\"dataframe\">\n",
       "  <thead>\n",
       "    <tr style=\"text-align: right;\">\n",
       "      <th></th>\n",
       "      <th>galactic year</th>\n",
       "      <th>galaxy</th>\n",
       "      <th>existence expectancy index</th>\n",
       "      <th>existence expectancy at birth</th>\n",
       "      <th>Gross income per capita</th>\n",
       "      <th>Income Index</th>\n",
       "      <th>Expected years of education (galactic years)</th>\n",
       "      <th>Mean years of education (galactic years)</th>\n",
       "      <th>Intergalactic Development Index (IDI)</th>\n",
       "      <th>Education Index</th>\n",
       "      <th>...</th>\n",
       "      <th>Intergalactic Development Index (IDI), female</th>\n",
       "      <th>Intergalactic Development Index (IDI), male</th>\n",
       "      <th>Gender Development Index (GDI)</th>\n",
       "      <th>Intergalactic Development Index (IDI), female, Rank</th>\n",
       "      <th>Intergalactic Development Index (IDI), male, Rank</th>\n",
       "      <th>Adjusted net savings</th>\n",
       "      <th>Creature Immunodeficiency Disease prevalence, adult (% ages 15-49), total</th>\n",
       "      <th>Private galaxy capital flows (% of GGP)</th>\n",
       "      <th>Gender Inequality Index (GII)</th>\n",
       "      <th>y</th>\n",
       "    </tr>\n",
       "  </thead>\n",
       "  <tbody>\n",
       "    <tr>\n",
       "      <th>0</th>\n",
       "      <td>990025</td>\n",
       "      <td>Large Magellanic Cloud (LMC)</td>\n",
       "      <td>0.628657</td>\n",
       "      <td>63.125200</td>\n",
       "      <td>27109.234310</td>\n",
       "      <td>0.646039</td>\n",
       "      <td>8.240543</td>\n",
       "      <td>NaN</td>\n",
       "      <td>NaN</td>\n",
       "      <td>NaN</td>\n",
       "      <td>...</td>\n",
       "      <td>NaN</td>\n",
       "      <td>NaN</td>\n",
       "      <td>NaN</td>\n",
       "      <td>NaN</td>\n",
       "      <td>NaN</td>\n",
       "      <td>NaN</td>\n",
       "      <td>NaN</td>\n",
       "      <td>NaN</td>\n",
       "      <td>NaN</td>\n",
       "      <td>0.052590</td>\n",
       "    </tr>\n",
       "    <tr>\n",
       "      <th>1</th>\n",
       "      <td>990025</td>\n",
       "      <td>Camelopardalis B</td>\n",
       "      <td>0.818082</td>\n",
       "      <td>81.004994</td>\n",
       "      <td>30166.793958</td>\n",
       "      <td>0.852246</td>\n",
       "      <td>10.671823</td>\n",
       "      <td>4.742470</td>\n",
       "      <td>0.833624</td>\n",
       "      <td>0.467873</td>\n",
       "      <td>...</td>\n",
       "      <td>NaN</td>\n",
       "      <td>NaN</td>\n",
       "      <td>NaN</td>\n",
       "      <td>NaN</td>\n",
       "      <td>NaN</td>\n",
       "      <td>19.177926</td>\n",
       "      <td>NaN</td>\n",
       "      <td>22.785018</td>\n",
       "      <td>NaN</td>\n",
       "      <td>0.059868</td>\n",
       "    </tr>\n",
       "    <tr>\n",
       "      <th>2</th>\n",
       "      <td>990025</td>\n",
       "      <td>Virgo I</td>\n",
       "      <td>0.659443</td>\n",
       "      <td>59.570534</td>\n",
       "      <td>8441.707353</td>\n",
       "      <td>0.499762</td>\n",
       "      <td>8.840316</td>\n",
       "      <td>5.583973</td>\n",
       "      <td>0.469110</td>\n",
       "      <td>0.363837</td>\n",
       "      <td>...</td>\n",
       "      <td>NaN</td>\n",
       "      <td>NaN</td>\n",
       "      <td>NaN</td>\n",
       "      <td>NaN</td>\n",
       "      <td>NaN</td>\n",
       "      <td>21.151265</td>\n",
       "      <td>6.534020</td>\n",
       "      <td>NaN</td>\n",
       "      <td>NaN</td>\n",
       "      <td>0.050449</td>\n",
       "    </tr>\n",
       "    <tr>\n",
       "      <th>3</th>\n",
       "      <td>990025</td>\n",
       "      <td>UGC 8651 (DDO 181)</td>\n",
       "      <td>0.555862</td>\n",
       "      <td>52.333293</td>\n",
       "      <td>NaN</td>\n",
       "      <td>NaN</td>\n",
       "      <td>NaN</td>\n",
       "      <td>NaN</td>\n",
       "      <td>NaN</td>\n",
       "      <td>NaN</td>\n",
       "      <td>...</td>\n",
       "      <td>NaN</td>\n",
       "      <td>NaN</td>\n",
       "      <td>NaN</td>\n",
       "      <td>NaN</td>\n",
       "      <td>NaN</td>\n",
       "      <td>NaN</td>\n",
       "      <td>5.912194</td>\n",
       "      <td>NaN</td>\n",
       "      <td>NaN</td>\n",
       "      <td>0.049394</td>\n",
       "    </tr>\n",
       "    <tr>\n",
       "      <th>4</th>\n",
       "      <td>990025</td>\n",
       "      <td>Tucana Dwarf</td>\n",
       "      <td>0.991196</td>\n",
       "      <td>81.802464</td>\n",
       "      <td>81033.956906</td>\n",
       "      <td>1.131163</td>\n",
       "      <td>13.800672</td>\n",
       "      <td>13.188907</td>\n",
       "      <td>0.910341</td>\n",
       "      <td>0.918353</td>\n",
       "      <td>...</td>\n",
       "      <td>NaN</td>\n",
       "      <td>NaN</td>\n",
       "      <td>NaN</td>\n",
       "      <td>NaN</td>\n",
       "      <td>NaN</td>\n",
       "      <td>NaN</td>\n",
       "      <td>5.611753</td>\n",
       "      <td>NaN</td>\n",
       "      <td>NaN</td>\n",
       "      <td>0.154247</td>\n",
       "    </tr>\n",
       "  </tbody>\n",
       "</table>\n",
       "<p>5 rows × 80 columns</p>\n",
       "</div>"
      ],
      "text/plain": [
       "   galactic year                        galaxy  existence expectancy index  \\\n",
       "0         990025  Large Magellanic Cloud (LMC)                    0.628657   \n",
       "1         990025              Camelopardalis B                    0.818082   \n",
       "2         990025                       Virgo I                    0.659443   \n",
       "3         990025            UGC 8651 (DDO 181)                    0.555862   \n",
       "4         990025                  Tucana Dwarf                    0.991196   \n",
       "\n",
       "   existence expectancy at birth  Gross income per capita  Income Index  \\\n",
       "0                      63.125200             27109.234310      0.646039   \n",
       "1                      81.004994             30166.793958      0.852246   \n",
       "2                      59.570534              8441.707353      0.499762   \n",
       "3                      52.333293                      NaN           NaN   \n",
       "4                      81.802464             81033.956906      1.131163   \n",
       "\n",
       "   Expected years of education (galactic years)  \\\n",
       "0                                      8.240543   \n",
       "1                                     10.671823   \n",
       "2                                      8.840316   \n",
       "3                                           NaN   \n",
       "4                                     13.800672   \n",
       "\n",
       "   Mean years of education (galactic years)  \\\n",
       "0                                       NaN   \n",
       "1                                  4.742470   \n",
       "2                                  5.583973   \n",
       "3                                       NaN   \n",
       "4                                 13.188907   \n",
       "\n",
       "   Intergalactic Development Index (IDI)  Education Index  ...  \\\n",
       "0                                    NaN              NaN  ...   \n",
       "1                               0.833624         0.467873  ...   \n",
       "2                               0.469110         0.363837  ...   \n",
       "3                                    NaN              NaN  ...   \n",
       "4                               0.910341         0.918353  ...   \n",
       "\n",
       "   Intergalactic Development Index (IDI), female  \\\n",
       "0                                            NaN   \n",
       "1                                            NaN   \n",
       "2                                            NaN   \n",
       "3                                            NaN   \n",
       "4                                            NaN   \n",
       "\n",
       "   Intergalactic Development Index (IDI), male  \\\n",
       "0                                          NaN   \n",
       "1                                          NaN   \n",
       "2                                          NaN   \n",
       "3                                          NaN   \n",
       "4                                          NaN   \n",
       "\n",
       "   Gender Development Index (GDI)  \\\n",
       "0                             NaN   \n",
       "1                             NaN   \n",
       "2                             NaN   \n",
       "3                             NaN   \n",
       "4                             NaN   \n",
       "\n",
       "   Intergalactic Development Index (IDI), female, Rank  \\\n",
       "0                                                NaN     \n",
       "1                                                NaN     \n",
       "2                                                NaN     \n",
       "3                                                NaN     \n",
       "4                                                NaN     \n",
       "\n",
       "   Intergalactic Development Index (IDI), male, Rank  Adjusted net savings   \\\n",
       "0                                                NaN                    NaN   \n",
       "1                                                NaN              19.177926   \n",
       "2                                                NaN              21.151265   \n",
       "3                                                NaN                    NaN   \n",
       "4                                                NaN                    NaN   \n",
       "\n",
       "   Creature Immunodeficiency Disease prevalence, adult (% ages 15-49), total  \\\n",
       "0                                                NaN                           \n",
       "1                                                NaN                           \n",
       "2                                           6.534020                           \n",
       "3                                           5.912194                           \n",
       "4                                           5.611753                           \n",
       "\n",
       "   Private galaxy capital flows (% of GGP)  Gender Inequality Index (GII)  \\\n",
       "0                                      NaN                            NaN   \n",
       "1                                22.785018                            NaN   \n",
       "2                                      NaN                            NaN   \n",
       "3                                      NaN                            NaN   \n",
       "4                                      NaN                            NaN   \n",
       "\n",
       "          y  \n",
       "0  0.052590  \n",
       "1  0.059868  \n",
       "2  0.050449  \n",
       "3  0.049394  \n",
       "4  0.154247  \n",
       "\n",
       "[5 rows x 80 columns]"
      ]
     },
     "execution_count": 5,
     "metadata": {},
     "output_type": "execute_result"
    }
   ],
   "source": [
    "train.head()"
   ]
  },
  {
   "cell_type": "code",
   "execution_count": 6,
   "id": "ed31835e",
   "metadata": {},
   "outputs": [],
   "source": [
    "train['existence expectancy index'] = train['existence expectancy index'].fillna(train['existence expectancy index'].mean())\n",
    "train['existence expectancy at birth'] = train['existence expectancy at birth'].fillna(train['existence expectancy at birth'].mean())\n",
    "train['Gross income per capita'] = train['Gross income per capita'].fillna(train['Gross income per capita'].mean())\n",
    "train['Income Index'] = train['Income Index'].fillna(train['Income Index'].mean())\n",
    "train['Expected years of education (galactic years)'] = train['Expected years of education (galactic years)'].fillna(train['Expected years of education (galactic years)'].mean())\n",
    "train['Mean years of education (galactic years)'] = train['Mean years of education (galactic years)'].fillna(train['Mean years of education (galactic years)'].mean())\n",
    "train['Intergalactic Development Index (IDI)'] = train['Intergalactic Development Index (IDI)'].fillna(train['Intergalactic Development Index (IDI)'].mean())\n",
    "train['Education Index'] = train['Education Index'].fillna(train['Education Index'].mean())\n",
    "train['Intergalactic Development Index (IDI), Rank'] = train['Intergalactic Development Index (IDI), Rank'].fillna(train['Intergalactic Development Index (IDI), Rank'].mean())"
   ]
  },
  {
   "cell_type": "code",
   "execution_count": 7,
   "id": "e612e7af",
   "metadata": {},
   "outputs": [],
   "source": [
    "train = train.drop(columns=['galaxy'])\n",
    "\n",
    "null_columns = train.isnull().any()\n",
    "\n",
    "null_columns = null_columns[null_columns].index.tolist()\n",
    "\n",
    "normal_columns = train.drop(columns=null_columns).columns"
   ]
  },
  {
   "cell_type": "code",
   "execution_count": 8,
   "id": "64f6d371",
   "metadata": {},
   "outputs": [
    {
     "name": "stdout",
     "output_type": "stream",
     "text": [
      "Mean squared error: 170.92\n",
      "R-squared: 0.21\n"
     ]
    },
    {
     "name": "stderr",
     "output_type": "stream",
     "text": [
      "C:\\Users\\SHAHIN~1\\AppData\\Local\\Temp/ipykernel_8580/537780407.py:32: SettingWithCopyWarning: \n",
      "A value is trying to be set on a copy of a slice from a DataFrame\n",
      "\n",
      "See the caveats in the documentation: https://pandas.pydata.org/pandas-docs/stable/user_guide/indexing.html#returning-a-view-versus-a-copy\n",
      "  train[obj][x] = final_pred[x]\n"
     ]
    },
    {
     "name": "stdout",
     "output_type": "stream",
     "text": [
      "Mean squared error: 391.07\n",
      "R-squared: 0.22\n"
     ]
    },
    {
     "name": "stderr",
     "output_type": "stream",
     "text": [
      "C:\\Users\\SHAHIN~1\\AppData\\Local\\Temp/ipykernel_8580/537780407.py:32: SettingWithCopyWarning: \n",
      "A value is trying to be set on a copy of a slice from a DataFrame\n",
      "\n",
      "See the caveats in the documentation: https://pandas.pydata.org/pandas-docs/stable/user_guide/indexing.html#returning-a-view-versus-a-copy\n",
      "  train[obj][x] = final_pred[x]\n"
     ]
    },
    {
     "name": "stdout",
     "output_type": "stream",
     "text": [
      "Mean squared error: 32.71\n",
      "R-squared: -0.12\n"
     ]
    },
    {
     "name": "stderr",
     "output_type": "stream",
     "text": [
      "C:\\Users\\SHAHIN~1\\AppData\\Local\\Temp/ipykernel_8580/537780407.py:32: SettingWithCopyWarning: \n",
      "A value is trying to be set on a copy of a slice from a DataFrame\n",
      "\n",
      "See the caveats in the documentation: https://pandas.pydata.org/pandas-docs/stable/user_guide/indexing.html#returning-a-view-versus-a-copy\n",
      "  train[obj][x] = final_pred[x]\n"
     ]
    },
    {
     "name": "stdout",
     "output_type": "stream",
     "text": [
      "Mean squared error: 271470.07\n",
      "R-squared: -0.17\n"
     ]
    },
    {
     "name": "stderr",
     "output_type": "stream",
     "text": [
      "C:\\Users\\SHAHIN~1\\AppData\\Local\\Temp/ipykernel_8580/537780407.py:32: SettingWithCopyWarning: \n",
      "A value is trying to be set on a copy of a slice from a DataFrame\n",
      "\n",
      "See the caveats in the documentation: https://pandas.pydata.org/pandas-docs/stable/user_guide/indexing.html#returning-a-view-versus-a-copy\n",
      "  train[obj][x] = final_pred[x]\n"
     ]
    },
    {
     "name": "stdout",
     "output_type": "stream",
     "text": [
      "Mean squared error: 171.56\n",
      "R-squared: 0.15\n"
     ]
    },
    {
     "name": "stderr",
     "output_type": "stream",
     "text": [
      "C:\\Users\\SHAHIN~1\\AppData\\Local\\Temp/ipykernel_8580/537780407.py:32: SettingWithCopyWarning: \n",
      "A value is trying to be set on a copy of a slice from a DataFrame\n",
      "\n",
      "See the caveats in the documentation: https://pandas.pydata.org/pandas-docs/stable/user_guide/indexing.html#returning-a-view-versus-a-copy\n",
      "  train[obj][x] = final_pred[x]\n"
     ]
    },
    {
     "name": "stdout",
     "output_type": "stream",
     "text": [
      "Mean squared error: 821.88\n",
      "R-squared: 0.27\n"
     ]
    },
    {
     "name": "stderr",
     "output_type": "stream",
     "text": [
      "C:\\Users\\SHAHIN~1\\AppData\\Local\\Temp/ipykernel_8580/537780407.py:32: SettingWithCopyWarning: \n",
      "A value is trying to be set on a copy of a slice from a DataFrame\n",
      "\n",
      "See the caveats in the documentation: https://pandas.pydata.org/pandas-docs/stable/user_guide/indexing.html#returning-a-view-versus-a-copy\n",
      "  train[obj][x] = final_pred[x]\n"
     ]
    },
    {
     "name": "stdout",
     "output_type": "stream",
     "text": [
      "Mean squared error: 282.62\n",
      "R-squared: 0.33\n"
     ]
    },
    {
     "name": "stderr",
     "output_type": "stream",
     "text": [
      "C:\\Users\\SHAHIN~1\\AppData\\Local\\Temp/ipykernel_8580/537780407.py:32: SettingWithCopyWarning: \n",
      "A value is trying to be set on a copy of a slice from a DataFrame\n",
      "\n",
      "See the caveats in the documentation: https://pandas.pydata.org/pandas-docs/stable/user_guide/indexing.html#returning-a-view-versus-a-copy\n",
      "  train[obj][x] = final_pred[x]\n"
     ]
    },
    {
     "name": "stdout",
     "output_type": "stream",
     "text": [
      "Mean squared error: 15.10\n",
      "R-squared: 0.22\n"
     ]
    },
    {
     "name": "stderr",
     "output_type": "stream",
     "text": [
      "C:\\Users\\SHAHIN~1\\AppData\\Local\\Temp/ipykernel_8580/537780407.py:32: SettingWithCopyWarning: \n",
      "A value is trying to be set on a copy of a slice from a DataFrame\n",
      "\n",
      "See the caveats in the documentation: https://pandas.pydata.org/pandas-docs/stable/user_guide/indexing.html#returning-a-view-versus-a-copy\n",
      "  train[obj][x] = final_pred[x]\n"
     ]
    },
    {
     "name": "stdout",
     "output_type": "stream",
     "text": [
      "Mean squared error: 105483.84\n",
      "R-squared: -0.15\n"
     ]
    },
    {
     "name": "stderr",
     "output_type": "stream",
     "text": [
      "C:\\Users\\SHAHIN~1\\AppData\\Local\\Temp/ipykernel_8580/537780407.py:32: SettingWithCopyWarning: \n",
      "A value is trying to be set on a copy of a slice from a DataFrame\n",
      "\n",
      "See the caveats in the documentation: https://pandas.pydata.org/pandas-docs/stable/user_guide/indexing.html#returning-a-view-versus-a-copy\n",
      "  train[obj][x] = final_pred[x]\n"
     ]
    },
    {
     "name": "stdout",
     "output_type": "stream",
     "text": [
      "Mean squared error: 1230.53\n",
      "R-squared: -0.19\n"
     ]
    },
    {
     "name": "stderr",
     "output_type": "stream",
     "text": [
      "C:\\Users\\SHAHIN~1\\AppData\\Local\\Temp/ipykernel_8580/537780407.py:32: SettingWithCopyWarning: \n",
      "A value is trying to be set on a copy of a slice from a DataFrame\n",
      "\n",
      "See the caveats in the documentation: https://pandas.pydata.org/pandas-docs/stable/user_guide/indexing.html#returning-a-view-versus-a-copy\n",
      "  train[obj][x] = final_pred[x]\n"
     ]
    },
    {
     "name": "stdout",
     "output_type": "stream",
     "text": [
      "Mean squared error: 23.93\n",
      "R-squared: 0.22\n"
     ]
    },
    {
     "name": "stderr",
     "output_type": "stream",
     "text": [
      "C:\\Users\\SHAHIN~1\\AppData\\Local\\Temp/ipykernel_8580/537780407.py:32: SettingWithCopyWarning: \n",
      "A value is trying to be set on a copy of a slice from a DataFrame\n",
      "\n",
      "See the caveats in the documentation: https://pandas.pydata.org/pandas-docs/stable/user_guide/indexing.html#returning-a-view-versus-a-copy\n",
      "  train[obj][x] = final_pred[x]\n"
     ]
    },
    {
     "name": "stdout",
     "output_type": "stream",
     "text": [
      "Mean squared error: 29.35\n",
      "R-squared: 0.23\n"
     ]
    },
    {
     "name": "stderr",
     "output_type": "stream",
     "text": [
      "C:\\Users\\SHAHIN~1\\AppData\\Local\\Temp/ipykernel_8580/537780407.py:32: SettingWithCopyWarning: \n",
      "A value is trying to be set on a copy of a slice from a DataFrame\n",
      "\n",
      "See the caveats in the documentation: https://pandas.pydata.org/pandas-docs/stable/user_guide/indexing.html#returning-a-view-versus-a-copy\n",
      "  train[obj][x] = final_pred[x]\n"
     ]
    },
    {
     "name": "stdout",
     "output_type": "stream",
     "text": [
      "Mean squared error: 2877.52\n",
      "R-squared: -0.16\n"
     ]
    },
    {
     "name": "stderr",
     "output_type": "stream",
     "text": [
      "C:\\Users\\SHAHIN~1\\AppData\\Local\\Temp/ipykernel_8580/537780407.py:32: SettingWithCopyWarning: \n",
      "A value is trying to be set on a copy of a slice from a DataFrame\n",
      "\n",
      "See the caveats in the documentation: https://pandas.pydata.org/pandas-docs/stable/user_guide/indexing.html#returning-a-view-versus-a-copy\n",
      "  train[obj][x] = final_pred[x]\n"
     ]
    },
    {
     "name": "stdout",
     "output_type": "stream",
     "text": [
      "Mean squared error: 170.35\n",
      "R-squared: 0.22\n"
     ]
    },
    {
     "name": "stderr",
     "output_type": "stream",
     "text": [
      "C:\\Users\\SHAHIN~1\\AppData\\Local\\Temp/ipykernel_8580/537780407.py:32: SettingWithCopyWarning: \n",
      "A value is trying to be set on a copy of a slice from a DataFrame\n",
      "\n",
      "See the caveats in the documentation: https://pandas.pydata.org/pandas-docs/stable/user_guide/indexing.html#returning-a-view-versus-a-copy\n",
      "  train[obj][x] = final_pred[x]\n"
     ]
    },
    {
     "name": "stdout",
     "output_type": "stream",
     "text": [
      "Mean squared error: 825.06\n",
      "R-squared: 0.04\n"
     ]
    },
    {
     "name": "stderr",
     "output_type": "stream",
     "text": [
      "C:\\Users\\SHAHIN~1\\AppData\\Local\\Temp/ipykernel_8580/537780407.py:32: SettingWithCopyWarning: \n",
      "A value is trying to be set on a copy of a slice from a DataFrame\n",
      "\n",
      "See the caveats in the documentation: https://pandas.pydata.org/pandas-docs/stable/user_guide/indexing.html#returning-a-view-versus-a-copy\n",
      "  train[obj][x] = final_pred[x]\n"
     ]
    },
    {
     "name": "stdout",
     "output_type": "stream",
     "text": [
      "Mean squared error: 0.47\n",
      "R-squared: -0.16\n"
     ]
    },
    {
     "name": "stderr",
     "output_type": "stream",
     "text": [
      "C:\\Users\\SHAHIN~1\\AppData\\Local\\Temp/ipykernel_8580/537780407.py:32: SettingWithCopyWarning: \n",
      "A value is trying to be set on a copy of a slice from a DataFrame\n",
      "\n",
      "See the caveats in the documentation: https://pandas.pydata.org/pandas-docs/stable/user_guide/indexing.html#returning-a-view-versus-a-copy\n",
      "  train[obj][x] = final_pred[x]\n"
     ]
    },
    {
     "name": "stdout",
     "output_type": "stream",
     "text": [
      "Mean squared error: 222.65\n",
      "R-squared: 0.24\n"
     ]
    },
    {
     "name": "stderr",
     "output_type": "stream",
     "text": [
      "C:\\Users\\SHAHIN~1\\AppData\\Local\\Temp/ipykernel_8580/537780407.py:32: SettingWithCopyWarning: \n",
      "A value is trying to be set on a copy of a slice from a DataFrame\n",
      "\n",
      "See the caveats in the documentation: https://pandas.pydata.org/pandas-docs/stable/user_guide/indexing.html#returning-a-view-versus-a-copy\n",
      "  train[obj][x] = final_pred[x]\n"
     ]
    },
    {
     "name": "stdout",
     "output_type": "stream",
     "text": [
      "Mean squared error: 16.29\n",
      "R-squared: -0.09\n"
     ]
    },
    {
     "name": "stderr",
     "output_type": "stream",
     "text": [
      "C:\\Users\\SHAHIN~1\\AppData\\Local\\Temp/ipykernel_8580/537780407.py:32: SettingWithCopyWarning: \n",
      "A value is trying to be set on a copy of a slice from a DataFrame\n",
      "\n",
      "See the caveats in the documentation: https://pandas.pydata.org/pandas-docs/stable/user_guide/indexing.html#returning-a-view-versus-a-copy\n",
      "  train[obj][x] = final_pred[x]\n"
     ]
    },
    {
     "name": "stdout",
     "output_type": "stream",
     "text": [
      "Mean squared error: 163.35\n",
      "R-squared: 0.30\n"
     ]
    },
    {
     "name": "stderr",
     "output_type": "stream",
     "text": [
      "C:\\Users\\SHAHIN~1\\AppData\\Local\\Temp/ipykernel_8580/537780407.py:32: SettingWithCopyWarning: \n",
      "A value is trying to be set on a copy of a slice from a DataFrame\n",
      "\n",
      "See the caveats in the documentation: https://pandas.pydata.org/pandas-docs/stable/user_guide/indexing.html#returning-a-view-versus-a-copy\n",
      "  train[obj][x] = final_pred[x]\n"
     ]
    },
    {
     "name": "stdout",
     "output_type": "stream",
     "text": [
      "Mean squared error: 41.56\n",
      "R-squared: -0.08\n"
     ]
    },
    {
     "name": "stderr",
     "output_type": "stream",
     "text": [
      "C:\\Users\\SHAHIN~1\\AppData\\Local\\Temp/ipykernel_8580/537780407.py:32: SettingWithCopyWarning: \n",
      "A value is trying to be set on a copy of a slice from a DataFrame\n",
      "\n",
      "See the caveats in the documentation: https://pandas.pydata.org/pandas-docs/stable/user_guide/indexing.html#returning-a-view-versus-a-copy\n",
      "  train[obj][x] = final_pred[x]\n"
     ]
    },
    {
     "name": "stdout",
     "output_type": "stream",
     "text": [
      "Mean squared error: 104.86\n",
      "R-squared: -0.13\n"
     ]
    },
    {
     "name": "stderr",
     "output_type": "stream",
     "text": [
      "C:\\Users\\SHAHIN~1\\AppData\\Local\\Temp/ipykernel_8580/537780407.py:32: SettingWithCopyWarning: \n",
      "A value is trying to be set on a copy of a slice from a DataFrame\n",
      "\n",
      "See the caveats in the documentation: https://pandas.pydata.org/pandas-docs/stable/user_guide/indexing.html#returning-a-view-versus-a-copy\n",
      "  train[obj][x] = final_pred[x]\n"
     ]
    },
    {
     "name": "stdout",
     "output_type": "stream",
     "text": [
      "Mean squared error: 94.91\n",
      "R-squared: 0.25\n"
     ]
    },
    {
     "name": "stderr",
     "output_type": "stream",
     "text": [
      "C:\\Users\\SHAHIN~1\\AppData\\Local\\Temp/ipykernel_8580/537780407.py:32: SettingWithCopyWarning: \n",
      "A value is trying to be set on a copy of a slice from a DataFrame\n",
      "\n",
      "See the caveats in the documentation: https://pandas.pydata.org/pandas-docs/stable/user_guide/indexing.html#returning-a-view-versus-a-copy\n",
      "  train[obj][x] = final_pred[x]\n"
     ]
    },
    {
     "name": "stdout",
     "output_type": "stream",
     "text": [
      "Mean squared error: 29.99\n",
      "R-squared: -0.03\n"
     ]
    },
    {
     "name": "stderr",
     "output_type": "stream",
     "text": [
      "C:\\Users\\SHAHIN~1\\AppData\\Local\\Temp/ipykernel_8580/537780407.py:32: SettingWithCopyWarning: \n",
      "A value is trying to be set on a copy of a slice from a DataFrame\n",
      "\n",
      "See the caveats in the documentation: https://pandas.pydata.org/pandas-docs/stable/user_guide/indexing.html#returning-a-view-versus-a-copy\n",
      "  train[obj][x] = final_pred[x]\n"
     ]
    },
    {
     "name": "stdout",
     "output_type": "stream",
     "text": [
      "Mean squared error: 52.49\n",
      "R-squared: -0.05\n"
     ]
    },
    {
     "name": "stderr",
     "output_type": "stream",
     "text": [
      "C:\\Users\\SHAHIN~1\\AppData\\Local\\Temp/ipykernel_8580/537780407.py:32: SettingWithCopyWarning: \n",
      "A value is trying to be set on a copy of a slice from a DataFrame\n",
      "\n",
      "See the caveats in the documentation: https://pandas.pydata.org/pandas-docs/stable/user_guide/indexing.html#returning-a-view-versus-a-copy\n",
      "  train[obj][x] = final_pred[x]\n"
     ]
    },
    {
     "name": "stdout",
     "output_type": "stream",
     "text": [
      "Mean squared error: 202.10\n",
      "R-squared: -0.11\n"
     ]
    },
    {
     "name": "stderr",
     "output_type": "stream",
     "text": [
      "C:\\Users\\SHAHIN~1\\AppData\\Local\\Temp/ipykernel_8580/537780407.py:32: SettingWithCopyWarning: \n",
      "A value is trying to be set on a copy of a slice from a DataFrame\n",
      "\n",
      "See the caveats in the documentation: https://pandas.pydata.org/pandas-docs/stable/user_guide/indexing.html#returning-a-view-versus-a-copy\n",
      "  train[obj][x] = final_pred[x]\n"
     ]
    },
    {
     "name": "stdout",
     "output_type": "stream",
     "text": [
      "Mean squared error: 62.57\n",
      "R-squared: -0.27\n"
     ]
    },
    {
     "name": "stderr",
     "output_type": "stream",
     "text": [
      "C:\\Users\\SHAHIN~1\\AppData\\Local\\Temp/ipykernel_8580/537780407.py:32: SettingWithCopyWarning: \n",
      "A value is trying to be set on a copy of a slice from a DataFrame\n",
      "\n",
      "See the caveats in the documentation: https://pandas.pydata.org/pandas-docs/stable/user_guide/indexing.html#returning-a-view-versus-a-copy\n",
      "  train[obj][x] = final_pred[x]\n"
     ]
    },
    {
     "name": "stdout",
     "output_type": "stream",
     "text": [
      "Mean squared error: 0.20\n",
      "R-squared: -0.22\n"
     ]
    },
    {
     "name": "stderr",
     "output_type": "stream",
     "text": [
      "C:\\Users\\SHAHIN~1\\AppData\\Local\\Temp/ipykernel_8580/537780407.py:32: SettingWithCopyWarning: \n",
      "A value is trying to be set on a copy of a slice from a DataFrame\n",
      "\n",
      "See the caveats in the documentation: https://pandas.pydata.org/pandas-docs/stable/user_guide/indexing.html#returning-a-view-versus-a-copy\n",
      "  train[obj][x] = final_pred[x]\n"
     ]
    },
    {
     "name": "stdout",
     "output_type": "stream",
     "text": [
      "Mean squared error: 61.86\n",
      "R-squared: -0.03\n"
     ]
    },
    {
     "name": "stderr",
     "output_type": "stream",
     "text": [
      "C:\\Users\\SHAHIN~1\\AppData\\Local\\Temp/ipykernel_8580/537780407.py:32: SettingWithCopyWarning: \n",
      "A value is trying to be set on a copy of a slice from a DataFrame\n",
      "\n",
      "See the caveats in the documentation: https://pandas.pydata.org/pandas-docs/stable/user_guide/indexing.html#returning-a-view-versus-a-copy\n",
      "  train[obj][x] = final_pred[x]\n"
     ]
    },
    {
     "name": "stdout",
     "output_type": "stream",
     "text": [
      "Mean squared error: 3751.36\n",
      "R-squared: 0.05\n"
     ]
    },
    {
     "name": "stderr",
     "output_type": "stream",
     "text": [
      "C:\\Users\\SHAHIN~1\\AppData\\Local\\Temp/ipykernel_8580/537780407.py:32: SettingWithCopyWarning: \n",
      "A value is trying to be set on a copy of a slice from a DataFrame\n",
      "\n",
      "See the caveats in the documentation: https://pandas.pydata.org/pandas-docs/stable/user_guide/indexing.html#returning-a-view-versus-a-copy\n",
      "  train[obj][x] = final_pred[x]\n"
     ]
    },
    {
     "name": "stdout",
     "output_type": "stream",
     "text": [
      "Mean squared error: 4335.58\n",
      "R-squared: 0.10\n"
     ]
    },
    {
     "name": "stderr",
     "output_type": "stream",
     "text": [
      "C:\\Users\\SHAHIN~1\\AppData\\Local\\Temp/ipykernel_8580/537780407.py:32: SettingWithCopyWarning: \n",
      "A value is trying to be set on a copy of a slice from a DataFrame\n",
      "\n",
      "See the caveats in the documentation: https://pandas.pydata.org/pandas-docs/stable/user_guide/indexing.html#returning-a-view-versus-a-copy\n",
      "  train[obj][x] = final_pred[x]\n"
     ]
    },
    {
     "name": "stdout",
     "output_type": "stream",
     "text": [
      "Mean squared error: 82.42\n",
      "R-squared: 0.04\n"
     ]
    },
    {
     "name": "stderr",
     "output_type": "stream",
     "text": [
      "C:\\Users\\SHAHIN~1\\AppData\\Local\\Temp/ipykernel_8580/537780407.py:32: SettingWithCopyWarning: \n",
      "A value is trying to be set on a copy of a slice from a DataFrame\n",
      "\n",
      "See the caveats in the documentation: https://pandas.pydata.org/pandas-docs/stable/user_guide/indexing.html#returning-a-view-versus-a-copy\n",
      "  train[obj][x] = final_pred[x]\n"
     ]
    },
    {
     "name": "stdout",
     "output_type": "stream",
     "text": [
      "Mean squared error: 42.04\n",
      "R-squared: -0.06\n"
     ]
    },
    {
     "name": "stderr",
     "output_type": "stream",
     "text": [
      "C:\\Users\\SHAHIN~1\\AppData\\Local\\Temp/ipykernel_8580/537780407.py:32: SettingWithCopyWarning: \n",
      "A value is trying to be set on a copy of a slice from a DataFrame\n",
      "\n",
      "See the caveats in the documentation: https://pandas.pydata.org/pandas-docs/stable/user_guide/indexing.html#returning-a-view-versus-a-copy\n",
      "  train[obj][x] = final_pred[x]\n"
     ]
    },
    {
     "name": "stdout",
     "output_type": "stream",
     "text": [
      "Mean squared error: 66237697.31\n",
      "R-squared: 0.36\n"
     ]
    },
    {
     "name": "stderr",
     "output_type": "stream",
     "text": [
      "C:\\Users\\SHAHIN~1\\AppData\\Local\\Temp/ipykernel_8580/537780407.py:32: SettingWithCopyWarning: \n",
      "A value is trying to be set on a copy of a slice from a DataFrame\n",
      "\n",
      "See the caveats in the documentation: https://pandas.pydata.org/pandas-docs/stable/user_guide/indexing.html#returning-a-view-versus-a-copy\n",
      "  train[obj][x] = final_pred[x]\n"
     ]
    },
    {
     "name": "stdout",
     "output_type": "stream",
     "text": [
      "Mean squared error: 8554990.81\n",
      "R-squared: -0.34\n"
     ]
    },
    {
     "name": "stderr",
     "output_type": "stream",
     "text": [
      "C:\\Users\\SHAHIN~1\\AppData\\Local\\Temp/ipykernel_8580/537780407.py:32: SettingWithCopyWarning: \n",
      "A value is trying to be set on a copy of a slice from a DataFrame\n",
      "\n",
      "See the caveats in the documentation: https://pandas.pydata.org/pandas-docs/stable/user_guide/indexing.html#returning-a-view-versus-a-copy\n",
      "  train[obj][x] = final_pred[x]\n"
     ]
    },
    {
     "name": "stdout",
     "output_type": "stream",
     "text": [
      "Mean squared error: 43.44\n",
      "R-squared: -0.71\n"
     ]
    },
    {
     "name": "stderr",
     "output_type": "stream",
     "text": [
      "C:\\Users\\SHAHIN~1\\AppData\\Local\\Temp/ipykernel_8580/537780407.py:32: SettingWithCopyWarning: \n",
      "A value is trying to be set on a copy of a slice from a DataFrame\n",
      "\n",
      "See the caveats in the documentation: https://pandas.pydata.org/pandas-docs/stable/user_guide/indexing.html#returning-a-view-versus-a-copy\n",
      "  train[obj][x] = final_pred[x]\n"
     ]
    },
    {
     "name": "stdout",
     "output_type": "stream",
     "text": [
      "Mean squared error: 667.76\n",
      "R-squared: -0.38\n"
     ]
    },
    {
     "name": "stderr",
     "output_type": "stream",
     "text": [
      "C:\\Users\\SHAHIN~1\\AppData\\Local\\Temp/ipykernel_8580/537780407.py:32: SettingWithCopyWarning: \n",
      "A value is trying to be set on a copy of a slice from a DataFrame\n",
      "\n",
      "See the caveats in the documentation: https://pandas.pydata.org/pandas-docs/stable/user_guide/indexing.html#returning-a-view-versus-a-copy\n",
      "  train[obj][x] = final_pred[x]\n"
     ]
    },
    {
     "name": "stdout",
     "output_type": "stream",
     "text": [
      "Mean squared error: 31.89\n",
      "R-squared: 0.09\n"
     ]
    },
    {
     "name": "stderr",
     "output_type": "stream",
     "text": [
      "C:\\Users\\SHAHIN~1\\AppData\\Local\\Temp/ipykernel_8580/537780407.py:32: SettingWithCopyWarning: \n",
      "A value is trying to be set on a copy of a slice from a DataFrame\n",
      "\n",
      "See the caveats in the documentation: https://pandas.pydata.org/pandas-docs/stable/user_guide/indexing.html#returning-a-view-versus-a-copy\n",
      "  train[obj][x] = final_pred[x]\n"
     ]
    },
    {
     "name": "stdout",
     "output_type": "stream",
     "text": [
      "Mean squared error: 23.19\n",
      "R-squared: -0.25\n"
     ]
    },
    {
     "name": "stderr",
     "output_type": "stream",
     "text": [
      "C:\\Users\\SHAHIN~1\\AppData\\Local\\Temp/ipykernel_8580/537780407.py:32: SettingWithCopyWarning: \n",
      "A value is trying to be set on a copy of a slice from a DataFrame\n",
      "\n",
      "See the caveats in the documentation: https://pandas.pydata.org/pandas-docs/stable/user_guide/indexing.html#returning-a-view-versus-a-copy\n",
      "  train[obj][x] = final_pred[x]\n"
     ]
    },
    {
     "name": "stdout",
     "output_type": "stream",
     "text": [
      "Mean squared error: 3.48\n",
      "R-squared: 0.13\n"
     ]
    },
    {
     "name": "stderr",
     "output_type": "stream",
     "text": [
      "C:\\Users\\SHAHIN~1\\AppData\\Local\\Temp/ipykernel_8580/537780407.py:32: SettingWithCopyWarning: \n",
      "A value is trying to be set on a copy of a slice from a DataFrame\n",
      "\n",
      "See the caveats in the documentation: https://pandas.pydata.org/pandas-docs/stable/user_guide/indexing.html#returning-a-view-versus-a-copy\n",
      "  train[obj][x] = final_pred[x]\n"
     ]
    },
    {
     "name": "stdout",
     "output_type": "stream",
     "text": [
      "Mean squared error: 2.54\n",
      "R-squared: 0.18\n"
     ]
    },
    {
     "name": "stderr",
     "output_type": "stream",
     "text": [
      "C:\\Users\\SHAHIN~1\\AppData\\Local\\Temp/ipykernel_8580/537780407.py:32: SettingWithCopyWarning: \n",
      "A value is trying to be set on a copy of a slice from a DataFrame\n",
      "\n",
      "See the caveats in the documentation: https://pandas.pydata.org/pandas-docs/stable/user_guide/indexing.html#returning-a-view-versus-a-copy\n",
      "  train[obj][x] = final_pred[x]\n"
     ]
    },
    {
     "name": "stdout",
     "output_type": "stream",
     "text": [
      "Mean squared error: 3.23\n",
      "R-squared: 0.38\n"
     ]
    },
    {
     "name": "stderr",
     "output_type": "stream",
     "text": [
      "C:\\Users\\SHAHIN~1\\AppData\\Local\\Temp/ipykernel_8580/537780407.py:32: SettingWithCopyWarning: \n",
      "A value is trying to be set on a copy of a slice from a DataFrame\n",
      "\n",
      "See the caveats in the documentation: https://pandas.pydata.org/pandas-docs/stable/user_guide/indexing.html#returning-a-view-versus-a-copy\n",
      "  train[obj][x] = final_pred[x]\n"
     ]
    },
    {
     "name": "stdout",
     "output_type": "stream",
     "text": [
      "Mean squared error: 2.19\n",
      "R-squared: 0.35\n"
     ]
    },
    {
     "name": "stderr",
     "output_type": "stream",
     "text": [
      "C:\\Users\\SHAHIN~1\\AppData\\Local\\Temp/ipykernel_8580/537780407.py:32: SettingWithCopyWarning: \n",
      "A value is trying to be set on a copy of a slice from a DataFrame\n",
      "\n",
      "See the caveats in the documentation: https://pandas.pydata.org/pandas-docs/stable/user_guide/indexing.html#returning-a-view-versus-a-copy\n",
      "  train[obj][x] = final_pred[x]\n"
     ]
    },
    {
     "name": "stdout",
     "output_type": "stream",
     "text": [
      "Mean squared error: 49416.69\n",
      "R-squared: 0.10\n"
     ]
    },
    {
     "name": "stderr",
     "output_type": "stream",
     "text": [
      "C:\\Users\\SHAHIN~1\\AppData\\Local\\Temp/ipykernel_8580/537780407.py:32: SettingWithCopyWarning: \n",
      "A value is trying to be set on a copy of a slice from a DataFrame\n",
      "\n",
      "See the caveats in the documentation: https://pandas.pydata.org/pandas-docs/stable/user_guide/indexing.html#returning-a-view-versus-a-copy\n",
      "  train[obj][x] = final_pred[x]\n"
     ]
    },
    {
     "name": "stdout",
     "output_type": "stream",
     "text": [
      "Mean squared error: 353.89\n",
      "R-squared: 0.06\n"
     ]
    },
    {
     "name": "stderr",
     "output_type": "stream",
     "text": [
      "C:\\Users\\SHAHIN~1\\AppData\\Local\\Temp/ipykernel_8580/537780407.py:32: SettingWithCopyWarning: \n",
      "A value is trying to be set on a copy of a slice from a DataFrame\n",
      "\n",
      "See the caveats in the documentation: https://pandas.pydata.org/pandas-docs/stable/user_guide/indexing.html#returning-a-view-versus-a-copy\n",
      "  train[obj][x] = final_pred[x]\n"
     ]
    },
    {
     "name": "stdout",
     "output_type": "stream",
     "text": [
      "Mean squared error: 90365790.32\n",
      "R-squared: 0.30\n"
     ]
    },
    {
     "name": "stderr",
     "output_type": "stream",
     "text": [
      "C:\\Users\\SHAHIN~1\\AppData\\Local\\Temp/ipykernel_8580/537780407.py:32: SettingWithCopyWarning: \n",
      "A value is trying to be set on a copy of a slice from a DataFrame\n",
      "\n",
      "See the caveats in the documentation: https://pandas.pydata.org/pandas-docs/stable/user_guide/indexing.html#returning-a-view-versus-a-copy\n",
      "  train[obj][x] = final_pred[x]\n"
     ]
    },
    {
     "name": "stdout",
     "output_type": "stream",
     "text": [
      "Mean squared error: 21130449.61\n",
      "R-squared: 0.51\n"
     ]
    },
    {
     "name": "stderr",
     "output_type": "stream",
     "text": [
      "C:\\Users\\SHAHIN~1\\AppData\\Local\\Temp/ipykernel_8580/537780407.py:32: SettingWithCopyWarning: \n",
      "A value is trying to be set on a copy of a slice from a DataFrame\n",
      "\n",
      "See the caveats in the documentation: https://pandas.pydata.org/pandas-docs/stable/user_guide/indexing.html#returning-a-view-versus-a-copy\n",
      "  train[obj][x] = final_pred[x]\n"
     ]
    },
    {
     "name": "stdout",
     "output_type": "stream",
     "text": [
      "Mean squared error: 354.23\n",
      "R-squared: 0.18\n"
     ]
    },
    {
     "name": "stderr",
     "output_type": "stream",
     "text": [
      "C:\\Users\\SHAHIN~1\\AppData\\Local\\Temp/ipykernel_8580/537780407.py:32: SettingWithCopyWarning: \n",
      "A value is trying to be set on a copy of a slice from a DataFrame\n",
      "\n",
      "See the caveats in the documentation: https://pandas.pydata.org/pandas-docs/stable/user_guide/indexing.html#returning-a-view-versus-a-copy\n",
      "  train[obj][x] = final_pred[x]\n"
     ]
    },
    {
     "name": "stdout",
     "output_type": "stream",
     "text": [
      "Mean squared error: 812.97\n",
      "R-squared: 0.12\n"
     ]
    },
    {
     "name": "stderr",
     "output_type": "stream",
     "text": [
      "C:\\Users\\SHAHIN~1\\AppData\\Local\\Temp/ipykernel_8580/537780407.py:32: SettingWithCopyWarning: \n",
      "A value is trying to be set on a copy of a slice from a DataFrame\n",
      "\n",
      "See the caveats in the documentation: https://pandas.pydata.org/pandas-docs/stable/user_guide/indexing.html#returning-a-view-versus-a-copy\n",
      "  train[obj][x] = final_pred[x]\n"
     ]
    },
    {
     "name": "stdout",
     "output_type": "stream",
     "text": [
      "Mean squared error: 256.72\n",
      "R-squared: 0.11\n"
     ]
    },
    {
     "name": "stderr",
     "output_type": "stream",
     "text": [
      "C:\\Users\\SHAHIN~1\\AppData\\Local\\Temp/ipykernel_8580/537780407.py:32: SettingWithCopyWarning: \n",
      "A value is trying to be set on a copy of a slice from a DataFrame\n",
      "\n",
      "See the caveats in the documentation: https://pandas.pydata.org/pandas-docs/stable/user_guide/indexing.html#returning-a-view-versus-a-copy\n",
      "  train[obj][x] = final_pred[x]\n"
     ]
    },
    {
     "name": "stdout",
     "output_type": "stream",
     "text": [
      "Mean squared error: 211.58\n",
      "R-squared: 0.05\n"
     ]
    },
    {
     "name": "stderr",
     "output_type": "stream",
     "text": [
      "C:\\Users\\SHAHIN~1\\AppData\\Local\\Temp/ipykernel_8580/537780407.py:32: SettingWithCopyWarning: \n",
      "A value is trying to be set on a copy of a slice from a DataFrame\n",
      "\n",
      "See the caveats in the documentation: https://pandas.pydata.org/pandas-docs/stable/user_guide/indexing.html#returning-a-view-versus-a-copy\n",
      "  train[obj][x] = final_pred[x]\n"
     ]
    },
    {
     "name": "stdout",
     "output_type": "stream",
     "text": [
      "Mean squared error: 19.35\n",
      "R-squared: -0.21\n"
     ]
    },
    {
     "name": "stderr",
     "output_type": "stream",
     "text": [
      "C:\\Users\\SHAHIN~1\\AppData\\Local\\Temp/ipykernel_8580/537780407.py:32: SettingWithCopyWarning: \n",
      "A value is trying to be set on a copy of a slice from a DataFrame\n",
      "\n",
      "See the caveats in the documentation: https://pandas.pydata.org/pandas-docs/stable/user_guide/indexing.html#returning-a-view-versus-a-copy\n",
      "  train[obj][x] = final_pred[x]\n"
     ]
    },
    {
     "name": "stdout",
     "output_type": "stream",
     "text": [
      "Mean squared error: 13.66\n",
      "R-squared: -0.36\n"
     ]
    },
    {
     "name": "stderr",
     "output_type": "stream",
     "text": [
      "C:\\Users\\SHAHIN~1\\AppData\\Local\\Temp/ipykernel_8580/537780407.py:32: SettingWithCopyWarning: \n",
      "A value is trying to be set on a copy of a slice from a DataFrame\n",
      "\n",
      "See the caveats in the documentation: https://pandas.pydata.org/pandas-docs/stable/user_guide/indexing.html#returning-a-view-versus-a-copy\n",
      "  train[obj][x] = final_pred[x]\n"
     ]
    },
    {
     "name": "stdout",
     "output_type": "stream",
     "text": [
      "Mean squared error: 244.53\n",
      "R-squared: 0.13\n"
     ]
    },
    {
     "name": "stderr",
     "output_type": "stream",
     "text": [
      "C:\\Users\\SHAHIN~1\\AppData\\Local\\Temp/ipykernel_8580/537780407.py:32: SettingWithCopyWarning: \n",
      "A value is trying to be set on a copy of a slice from a DataFrame\n",
      "\n",
      "See the caveats in the documentation: https://pandas.pydata.org/pandas-docs/stable/user_guide/indexing.html#returning-a-view-versus-a-copy\n",
      "  train[obj][x] = final_pred[x]\n"
     ]
    },
    {
     "name": "stdout",
     "output_type": "stream",
     "text": [
      "Mean squared error: 2024324073.12\n",
      "R-squared: -0.38\n"
     ]
    },
    {
     "name": "stderr",
     "output_type": "stream",
     "text": [
      "C:\\Users\\SHAHIN~1\\AppData\\Local\\Temp/ipykernel_8580/537780407.py:32: SettingWithCopyWarning: \n",
      "A value is trying to be set on a copy of a slice from a DataFrame\n",
      "\n",
      "See the caveats in the documentation: https://pandas.pydata.org/pandas-docs/stable/user_guide/indexing.html#returning-a-view-versus-a-copy\n",
      "  train[obj][x] = final_pred[x]\n"
     ]
    },
    {
     "name": "stdout",
     "output_type": "stream",
     "text": [
      "Mean squared error: 80.43\n",
      "R-squared: 0.07\n"
     ]
    },
    {
     "name": "stderr",
     "output_type": "stream",
     "text": [
      "C:\\Users\\SHAHIN~1\\AppData\\Local\\Temp/ipykernel_8580/537780407.py:32: SettingWithCopyWarning: \n",
      "A value is trying to be set on a copy of a slice from a DataFrame\n",
      "\n",
      "See the caveats in the documentation: https://pandas.pydata.org/pandas-docs/stable/user_guide/indexing.html#returning-a-view-versus-a-copy\n",
      "  train[obj][x] = final_pred[x]\n"
     ]
    },
    {
     "name": "stdout",
     "output_type": "stream",
     "text": [
      "Mean squared error: 7396.97\n",
      "R-squared: -0.12\n"
     ]
    },
    {
     "name": "stderr",
     "output_type": "stream",
     "text": [
      "C:\\Users\\SHAHIN~1\\AppData\\Local\\Temp/ipykernel_8580/537780407.py:32: SettingWithCopyWarning: \n",
      "A value is trying to be set on a copy of a slice from a DataFrame\n",
      "\n",
      "See the caveats in the documentation: https://pandas.pydata.org/pandas-docs/stable/user_guide/indexing.html#returning-a-view-versus-a-copy\n",
      "  train[obj][x] = final_pred[x]\n"
     ]
    },
    {
     "name": "stdout",
     "output_type": "stream",
     "text": [
      "Mean squared error: 280.07\n",
      "R-squared: 0.49\n"
     ]
    },
    {
     "name": "stderr",
     "output_type": "stream",
     "text": [
      "C:\\Users\\SHAHIN~1\\AppData\\Local\\Temp/ipykernel_8580/537780407.py:32: SettingWithCopyWarning: \n",
      "A value is trying to be set on a copy of a slice from a DataFrame\n",
      "\n",
      "See the caveats in the documentation: https://pandas.pydata.org/pandas-docs/stable/user_guide/indexing.html#returning-a-view-versus-a-copy\n",
      "  train[obj][x] = final_pred[x]\n"
     ]
    },
    {
     "name": "stdout",
     "output_type": "stream",
     "text": [
      "Mean squared error: 79.15\n",
      "R-squared: 0.55\n"
     ]
    },
    {
     "name": "stderr",
     "output_type": "stream",
     "text": [
      "C:\\Users\\SHAHIN~1\\AppData\\Local\\Temp/ipykernel_8580/537780407.py:32: SettingWithCopyWarning: \n",
      "A value is trying to be set on a copy of a slice from a DataFrame\n",
      "\n",
      "See the caveats in the documentation: https://pandas.pydata.org/pandas-docs/stable/user_guide/indexing.html#returning-a-view-versus-a-copy\n",
      "  train[obj][x] = final_pred[x]\n"
     ]
    },
    {
     "name": "stdout",
     "output_type": "stream",
     "text": [
      "Mean squared error: 1.82\n",
      "R-squared: 0.09\n"
     ]
    },
    {
     "name": "stderr",
     "output_type": "stream",
     "text": [
      "C:\\Users\\SHAHIN~1\\AppData\\Local\\Temp/ipykernel_8580/537780407.py:32: SettingWithCopyWarning: \n",
      "A value is trying to be set on a copy of a slice from a DataFrame\n",
      "\n",
      "See the caveats in the documentation: https://pandas.pydata.org/pandas-docs/stable/user_guide/indexing.html#returning-a-view-versus-a-copy\n",
      "  train[obj][x] = final_pred[x]\n"
     ]
    },
    {
     "name": "stdout",
     "output_type": "stream",
     "text": [
      "Mean squared error: 0.01\n",
      "R-squared: 0.39\n"
     ]
    },
    {
     "name": "stderr",
     "output_type": "stream",
     "text": [
      "C:\\Users\\SHAHIN~1\\AppData\\Local\\Temp/ipykernel_8580/537780407.py:32: SettingWithCopyWarning: \n",
      "A value is trying to be set on a copy of a slice from a DataFrame\n",
      "\n",
      "See the caveats in the documentation: https://pandas.pydata.org/pandas-docs/stable/user_guide/indexing.html#returning-a-view-versus-a-copy\n",
      "  train[obj][x] = final_pred[x]\n"
     ]
    },
    {
     "name": "stdout",
     "output_type": "stream",
     "text": [
      "Mean squared error: 0.00\n",
      "R-squared: 0.30\n"
     ]
    },
    {
     "name": "stderr",
     "output_type": "stream",
     "text": [
      "C:\\Users\\SHAHIN~1\\AppData\\Local\\Temp/ipykernel_8580/537780407.py:32: SettingWithCopyWarning: \n",
      "A value is trying to be set on a copy of a slice from a DataFrame\n",
      "\n",
      "See the caveats in the documentation: https://pandas.pydata.org/pandas-docs/stable/user_guide/indexing.html#returning-a-view-versus-a-copy\n",
      "  train[obj][x] = final_pred[x]\n"
     ]
    },
    {
     "name": "stdout",
     "output_type": "stream",
     "text": [
      "Mean squared error: 0.00\n",
      "R-squared: 0.14\n"
     ]
    },
    {
     "name": "stderr",
     "output_type": "stream",
     "text": [
      "C:\\Users\\SHAHIN~1\\AppData\\Local\\Temp/ipykernel_8580/537780407.py:32: SettingWithCopyWarning: \n",
      "A value is trying to be set on a copy of a slice from a DataFrame\n",
      "\n",
      "See the caveats in the documentation: https://pandas.pydata.org/pandas-docs/stable/user_guide/indexing.html#returning-a-view-versus-a-copy\n",
      "  train[obj][x] = final_pred[x]\n"
     ]
    },
    {
     "name": "stdout",
     "output_type": "stream",
     "text": [
      "Mean squared error: 322.64\n",
      "R-squared: 0.32\n"
     ]
    },
    {
     "name": "stderr",
     "output_type": "stream",
     "text": [
      "C:\\Users\\SHAHIN~1\\AppData\\Local\\Temp/ipykernel_8580/537780407.py:32: SettingWithCopyWarning: \n",
      "A value is trying to be set on a copy of a slice from a DataFrame\n",
      "\n",
      "See the caveats in the documentation: https://pandas.pydata.org/pandas-docs/stable/user_guide/indexing.html#returning-a-view-versus-a-copy\n",
      "  train[obj][x] = final_pred[x]\n"
     ]
    },
    {
     "name": "stdout",
     "output_type": "stream",
     "text": [
      "Mean squared error: 306.76\n",
      "R-squared: 0.34\n"
     ]
    },
    {
     "name": "stderr",
     "output_type": "stream",
     "text": [
      "C:\\Users\\SHAHIN~1\\AppData\\Local\\Temp/ipykernel_8580/537780407.py:32: SettingWithCopyWarning: \n",
      "A value is trying to be set on a copy of a slice from a DataFrame\n",
      "\n",
      "See the caveats in the documentation: https://pandas.pydata.org/pandas-docs/stable/user_guide/indexing.html#returning-a-view-versus-a-copy\n",
      "  train[obj][x] = final_pred[x]\n"
     ]
    },
    {
     "name": "stdout",
     "output_type": "stream",
     "text": [
      "Mean squared error: 45.45\n",
      "R-squared: -0.23\n"
     ]
    },
    {
     "name": "stderr",
     "output_type": "stream",
     "text": [
      "C:\\Users\\SHAHIN~1\\AppData\\Local\\Temp/ipykernel_8580/537780407.py:32: SettingWithCopyWarning: \n",
      "A value is trying to be set on a copy of a slice from a DataFrame\n",
      "\n",
      "See the caveats in the documentation: https://pandas.pydata.org/pandas-docs/stable/user_guide/indexing.html#returning-a-view-versus-a-copy\n",
      "  train[obj][x] = final_pred[x]\n"
     ]
    },
    {
     "name": "stdout",
     "output_type": "stream",
     "text": [
      "Mean squared error: 6.28\n",
      "R-squared: -0.25\n"
     ]
    },
    {
     "name": "stderr",
     "output_type": "stream",
     "text": [
      "C:\\Users\\SHAHIN~1\\AppData\\Local\\Temp/ipykernel_8580/537780407.py:32: SettingWithCopyWarning: \n",
      "A value is trying to be set on a copy of a slice from a DataFrame\n",
      "\n",
      "See the caveats in the documentation: https://pandas.pydata.org/pandas-docs/stable/user_guide/indexing.html#returning-a-view-versus-a-copy\n",
      "  train[obj][x] = final_pred[x]\n"
     ]
    },
    {
     "name": "stdout",
     "output_type": "stream",
     "text": [
      "Mean squared error: 121.26\n",
      "R-squared: -2.07\n"
     ]
    },
    {
     "name": "stderr",
     "output_type": "stream",
     "text": [
      "C:\\Users\\SHAHIN~1\\AppData\\Local\\Temp/ipykernel_8580/537780407.py:32: SettingWithCopyWarning: \n",
      "A value is trying to be set on a copy of a slice from a DataFrame\n",
      "\n",
      "See the caveats in the documentation: https://pandas.pydata.org/pandas-docs/stable/user_guide/indexing.html#returning-a-view-versus-a-copy\n",
      "  train[obj][x] = final_pred[x]\n"
     ]
    },
    {
     "name": "stdout",
     "output_type": "stream",
     "text": [
      "Mean squared error: 0.01\n",
      "R-squared: 0.26\n"
     ]
    },
    {
     "name": "stderr",
     "output_type": "stream",
     "text": [
      "C:\\Users\\SHAHIN~1\\AppData\\Local\\Temp/ipykernel_8580/537780407.py:32: SettingWithCopyWarning: \n",
      "A value is trying to be set on a copy of a slice from a DataFrame\n",
      "\n",
      "See the caveats in the documentation: https://pandas.pydata.org/pandas-docs/stable/user_guide/indexing.html#returning-a-view-versus-a-copy\n",
      "  train[obj][x] = final_pred[x]\n"
     ]
    }
   ],
   "source": [
    "for obj in null_columns:\n",
    "    # Select the columns with null values and the columns to use as predictors\n",
    "    X = train[normal_columns]\n",
    "    y = train[obj]\n",
    "\n",
    "    # Use the KNNImputer to fill null values in the predictors and target\n",
    "    imputer = KNNImputer()\n",
    "    X_imputed = imputer.fit_transform(X)\n",
    "    y_imputed = imputer.fit_transform(y.values.reshape(-1, 1))\n",
    "\n",
    "    # Split the data into a training set and a test set\n",
    "    X_train, X_test, y_train, y_test = train_test_split(X_imputed, y_imputed, test_size=0.2, random_state=42)\n",
    "\n",
    "    # Fit a KNN regression model\n",
    "    model = KNeighborsRegressor()\n",
    "    model.fit(X_train, y_train)\n",
    "\n",
    "    # Make predictions on the test set\n",
    "    y_pred = model.predict(X_test)\n",
    "\n",
    "    # Evaluate the model's performance\n",
    "    mse = metrics.mean_squared_error(y_test, y_pred)\n",
    "    r2 = metrics.r2_score(y_test, y_pred)\n",
    "\n",
    "    print(f'Mean squared error: {mse:.2f}')\n",
    "    print(f'R-squared: {r2:.2f}')\n",
    "\n",
    "    final_pred = model.predict(train[normal_columns])\n",
    "\n",
    "    for x in range(len(train[obj])):\n",
    "        if math.isnan(train[obj][x]):\n",
    "            train[obj][x] = final_pred[x]\n",
    "\n",
    "# Use the model to fill null values in the original dataframe\n",
    "#train['Population using at least basic drinking-water services (%)'] = train['Population using at least basic drinking-water services (%)'].fillna(model.predict(train[normal_columns]))"
   ]
  },
  {
   "cell_type": "code",
   "execution_count": 9,
   "id": "06540660",
   "metadata": {},
   "outputs": [
    {
     "name": "stdout",
     "output_type": "stream",
     "text": [
      "<class 'pandas.core.frame.DataFrame'>\n",
      "RangeIndex: 3865 entries, 0 to 3864\n",
      "Data columns (total 79 columns):\n",
      " #   Column                                                                                   Non-Null Count  Dtype  \n",
      "---  ------                                                                                   --------------  -----  \n",
      " 0   galactic year                                                                            3865 non-null   int64  \n",
      " 1   existence expectancy index                                                               3865 non-null   float64\n",
      " 2   existence expectancy at birth                                                            3865 non-null   float64\n",
      " 3   Gross income per capita                                                                  3865 non-null   float64\n",
      " 4   Income Index                                                                             3865 non-null   float64\n",
      " 5   Expected years of education (galactic years)                                             3865 non-null   float64\n",
      " 6   Mean years of education (galactic years)                                                 3865 non-null   float64\n",
      " 7   Intergalactic Development Index (IDI)                                                    3865 non-null   float64\n",
      " 8   Education Index                                                                          3865 non-null   float64\n",
      " 9   Intergalactic Development Index (IDI), Rank                                              3865 non-null   float64\n",
      " 10  Population using at least basic drinking-water services (%)                              3865 non-null   float64\n",
      " 11  Population using at least basic sanitation services (%)                                  3865 non-null   float64\n",
      " 12  Gross capital formation (% of GGP)                                                       3865 non-null   float64\n",
      " 13  Population, total (millions)                                                             3865 non-null   float64\n",
      " 14  Population, urban (%)                                                                    3865 non-null   float64\n",
      " 15  Mortality rate, under-five (per 1,000 live births)                                       3865 non-null   float64\n",
      " 16  Mortality rate, infant (per 1,000 live births)                                           3865 non-null   float64\n",
      " 17  Old age dependency ratio (old age (65 and older) per 100 creatures (ages 15-64))         3865 non-null   float64\n",
      " 18  Population, ages 15–64 (millions)                                                        3865 non-null   float64\n",
      " 19  Population, ages 65 and older (millions)                                                 3865 non-null   float64\n",
      " 20  Life expectancy at birth, male (galactic years)                                          3865 non-null   float64\n",
      " 21  Life expectancy at birth, female (galactic years)                                        3865 non-null   float64\n",
      " 22  Population, under age 5 (millions)                                                       3865 non-null   float64\n",
      " 23  Young age (0-14) dependency ratio (per 100 creatures ages 15-64)                         3865 non-null   float64\n",
      " 24  Adolescent birth rate (births per 1,000 female creatures ages 15-19)                     3865 non-null   float64\n",
      " 25  Total unemployment rate (female to male ratio)                                           3865 non-null   float64\n",
      " 26  Vulnerable employment (% of total employment)                                            3865 non-null   float64\n",
      " 27  Unemployment, total (% of labour force)                                                  3865 non-null   float64\n",
      " 28  Employment in agriculture (% of total employment)                                        3865 non-null   float64\n",
      " 29  Labour force participation rate (% ages 15 and older)                                    3865 non-null   float64\n",
      " 30  Labour force participation rate (% ages 15 and older), female                            3865 non-null   float64\n",
      " 31  Employment in services (% of total employment)                                           3865 non-null   float64\n",
      " 32  Labour force participation rate (% ages 15 and older), male                              3865 non-null   float64\n",
      " 33  Employment to population ratio (% ages 15 and older)                                     3865 non-null   float64\n",
      " 34  Jungle area (% of total land area)                                                       3865 non-null   float64\n",
      " 35  Share of employment in nonagriculture, female (% of total employment in nonagriculture)  3865 non-null   float64\n",
      " 36  Youth unemployment rate (female to male ratio)                                           3865 non-null   float64\n",
      " 37  Unemployment, youth (% ages 15–24)                                                       3865 non-null   float64\n",
      " 38  Mortality rate, female grown up (per 1,000 people)                                       3865 non-null   float64\n",
      " 39  Mortality rate, male grown up (per 1,000 people)                                         3865 non-null   float64\n",
      " 40  Infants lacking immunization, red hot disease (% of one-galactic year-olds)              3865 non-null   float64\n",
      " 41  Infants lacking immunization, Combination Vaccine (% of one-galactic year-olds)          3865 non-null   float64\n",
      " 42  Gross galactic product (GGP) per capita                                                  3865 non-null   float64\n",
      " 43  Gross galactic product (GGP), total                                                      3865 non-null   float64\n",
      " 44  Outer Galaxies direct investment, net inflows (% of GGP)                                 3865 non-null   float64\n",
      " 45  Exports and imports (% of GGP)                                                           3865 non-null   float64\n",
      " 46  Share of seats in senate (% held by female)                                              3865 non-null   float64\n",
      " 47  Natural resource depletion                                                               3865 non-null   float64\n",
      " 48  Mean years of education, female (galactic years)                                         3865 non-null   float64\n",
      " 49  Mean years of education, male (galactic years)                                           3865 non-null   float64\n",
      " 50  Expected years of education, female (galactic years)                                     3865 non-null   float64\n",
      " 51  Expected years of education, male (galactic years)                                       3865 non-null   float64\n",
      " 52  Maternal mortality ratio (deaths per 100,000 live births)                                3865 non-null   float64\n",
      " 53  Renewable energy consumption (% of total final energy consumption)                       3865 non-null   float64\n",
      " 54  Estimated gross galactic income per capita, male                                         3865 non-null   float64\n",
      " 55  Estimated gross galactic income per capita, female                                       3865 non-null   float64\n",
      " 56  Rural population with access to electricity (%)                                          3865 non-null   float64\n",
      " 57  Domestic credit provided by financial sector (% of GGP)                                  3865 non-null   float64\n",
      " 58  Population with at least some secondary education, female (% ages 25 and older)          3865 non-null   float64\n",
      " 59  Population with at least some secondary education, male (% ages 25 and older)            3865 non-null   float64\n",
      " 60  Gross fixed capital formation (% of GGP)                                                 3865 non-null   float64\n",
      " 61  Remittances, inflows (% of GGP)                                                          3865 non-null   float64\n",
      " 62  Population with at least some secondary education (% ages 25 and older)                  3865 non-null   float64\n",
      " 63  Intergalactic inbound tourists (thousands)                                               3865 non-null   float64\n",
      " 64  Gross enrolment ratio, primary (% of primary under-age population)                       3865 non-null   float64\n",
      " 65  Respiratory disease incidence (per 100,000 people)                                       3865 non-null   float64\n",
      " 66  Interstellar phone subscriptions (per 100 people)                                        3865 non-null   float64\n",
      " 67  Interstellar Data Net users, total (% of population)                                     3865 non-null   float64\n",
      " 68  Current health expenditure (% of GGP)                                                    3865 non-null   float64\n",
      " 69  Intergalactic Development Index (IDI), female                                            3865 non-null   float64\n",
      " 70  Intergalactic Development Index (IDI), male                                              3865 non-null   float64\n",
      " 71  Gender Development Index (GDI)                                                           3865 non-null   float64\n",
      " 72  Intergalactic Development Index (IDI), female, Rank                                      3865 non-null   float64\n",
      " 73  Intergalactic Development Index (IDI), male, Rank                                        3865 non-null   float64\n",
      " 74  Adjusted net savings                                                                     3865 non-null   float64\n",
      " 75  Creature Immunodeficiency Disease prevalence, adult (% ages 15-49), total                3865 non-null   float64\n",
      " 76  Private galaxy capital flows (% of GGP)                                                  3865 non-null   float64\n",
      " 77  Gender Inequality Index (GII)                                                            3865 non-null   float64\n",
      " 78  y                                                                                        3865 non-null   float64\n",
      "dtypes: float64(78), int64(1)\n",
      "memory usage: 2.3 MB\n"
     ]
    }
   ],
   "source": [
    "train.info()"
   ]
  },
  {
   "cell_type": "code",
   "execution_count": 10,
   "id": "87736cd6",
   "metadata": {},
   "outputs": [
    {
     "name": "stdout",
     "output_type": "stream",
     "text": [
      "<class 'pandas.core.frame.DataFrame'>\n",
      "RangeIndex: 890 entries, 0 to 889\n",
      "Data columns (total 79 columns):\n",
      " #   Column                                                                                   Non-Null Count  Dtype  \n",
      "---  ------                                                                                   --------------  -----  \n",
      " 0   galactic year                                                                            890 non-null    int64  \n",
      " 1   galaxy                                                                                   890 non-null    object \n",
      " 2   existence expectancy index                                                               885 non-null    float64\n",
      " 3   existence expectancy at birth                                                            885 non-null    float64\n",
      " 4   Gross income per capita                                                                  885 non-null    float64\n",
      " 5   Income Index                                                                             885 non-null    float64\n",
      " 6   Expected years of education (galactic years)                                             885 non-null    float64\n",
      " 7   Mean years of education (galactic years)                                                 882 non-null    float64\n",
      " 8   Intergalactic Development Index (IDI)                                                    882 non-null    float64\n",
      " 9   Education Index                                                                          882 non-null    float64\n",
      " 10  Intergalactic Development Index (IDI), Rank                                              880 non-null    float64\n",
      " 11  Population using at least basic drinking-water services (%)                              880 non-null    float64\n",
      " 12  Population using at least basic sanitation services (%)                                  880 non-null    float64\n",
      " 13  Gross capital formation (% of GGP)                                                       828 non-null    float64\n",
      " 14  Population, total (millions)                                                             615 non-null    float64\n",
      " 15  Population, urban (%)                                                                    615 non-null    float64\n",
      " 16  Mortality rate, under-five (per 1,000 live births)                                       615 non-null    float64\n",
      " 17  Mortality rate, infant (per 1,000 live births)                                           615 non-null    float64\n",
      " 18  Old age dependency ratio (old age (65 and older) per 100 creatures (ages 15-64))         610 non-null    float64\n",
      " 19  Population, ages 15–64 (millions)                                                        610 non-null    float64\n",
      " 20  Population, ages 65 and older (millions)                                                 610 non-null    float64\n",
      " 21  Life expectancy at birth, male (galactic years)                                          610 non-null    float64\n",
      " 22  Life expectancy at birth, female (galactic years)                                        610 non-null    float64\n",
      " 23  Population, under age 5 (millions)                                                       610 non-null    float64\n",
      " 24  Young age (0-14) dependency ratio (per 100 creatures ages 15-64)                         610 non-null    float64\n",
      " 25  Adolescent birth rate (births per 1,000 female creatures ages 15-19)                     610 non-null    float64\n",
      " 26  Total unemployment rate (female to male ratio)                                           605 non-null    float64\n",
      " 27  Vulnerable employment (% of total employment)                                            605 non-null    float64\n",
      " 28  Unemployment, total (% of labour force)                                                  605 non-null    float64\n",
      " 29  Employment in agriculture (% of total employment)                                        605 non-null    float64\n",
      " 30  Labour force participation rate (% ages 15 and older)                                    605 non-null    float64\n",
      " 31  Labour force participation rate (% ages 15 and older), female                            605 non-null    float64\n",
      " 32  Employment in services (% of total employment)                                           605 non-null    float64\n",
      " 33  Labour force participation rate (% ages 15 and older), male                              605 non-null    float64\n",
      " 34  Employment to population ratio (% ages 15 and older)                                     605 non-null    float64\n",
      " 35  Jungle area (% of total land area)                                                       608 non-null    float64\n",
      " 36  Share of employment in nonagriculture, female (% of total employment in nonagriculture)  605 non-null    float64\n",
      " 37  Youth unemployment rate (female to male ratio)                                           605 non-null    float64\n",
      " 38  Unemployment, youth (% ages 15–24)                                                       605 non-null    float64\n",
      " 39  Mortality rate, female grown up (per 1,000 people)                                       595 non-null    float64\n",
      " 40  Mortality rate, male grown up (per 1,000 people)                                         595 non-null    float64\n",
      " 41  Infants lacking immunization, red hot disease (% of one-galactic year-olds)              615 non-null    float64\n",
      " 42  Infants lacking immunization, Combination Vaccine (% of one-galactic year-olds)          615 non-null    float64\n",
      " 43  Gross galactic product (GGP) per capita                                                  605 non-null    float64\n",
      " 44  Gross galactic product (GGP), total                                                      605 non-null    float64\n",
      " 45  Outer Galaxies direct investment, net inflows (% of GGP)                                 610 non-null    float64\n",
      " 46  Exports and imports (% of GGP)                                                           589 non-null    float64\n",
      " 47  Share of seats in senate (% held by female)                                              600 non-null    float64\n",
      " 48  Natural resource depletion                                                               591 non-null    float64\n",
      " 49  Mean years of education, female (galactic years)                                         575 non-null    float64\n",
      " 50  Mean years of education, male (galactic years)                                           575 non-null    float64\n",
      " 51  Expected years of education, female (galactic years)                                     595 non-null    float64\n",
      " 52  Expected years of education, male (galactic years)                                       595 non-null    float64\n",
      " 53  Maternal mortality ratio (deaths per 100,000 live births)                                530 non-null    float64\n",
      " 54  Renewable energy consumption (% of total final energy consumption)                       534 non-null    float64\n",
      " 55  Estimated gross galactic income per capita, male                                         605 non-null    float64\n",
      " 56  Estimated gross galactic income per capita, female                                       605 non-null    float64\n",
      " 57  Rural population with access to electricity (%)                                          615 non-null    float64\n",
      " 58  Domestic credit provided by financial sector (% of GGP)                                  569 non-null    float64\n",
      " 59  Population with at least some secondary education, female (% ages 25 and older)          550 non-null    float64\n",
      " 60  Population with at least some secondary education, male (% ages 25 and older)            550 non-null    float64\n",
      " 61  Gross fixed capital formation (% of GGP)                                                 556 non-null    float64\n",
      " 62  Remittances, inflows (% of GGP)                                                          576 non-null    float64\n",
      " 63  Population with at least some secondary education (% ages 25 and older)                  540 non-null    float64\n",
      " 64  Intergalactic inbound tourists (thousands)                                               574 non-null    float64\n",
      " 65  Gross enrolment ratio, primary (% of primary under-age population)                       504 non-null    float64\n",
      " 66  Respiratory disease incidence (per 100,000 people)                                       615 non-null    float64\n",
      " 67  Interstellar phone subscriptions (per 100 people)                                        613 non-null    float64\n",
      " 68  Interstellar Data Net users, total (% of population)                                     603 non-null    float64\n",
      " 69  Current health expenditure (% of GGP)                                                    606 non-null    float64\n",
      " 70  Intergalactic Development Index (IDI), female                                            560 non-null    float64\n",
      " 71  Intergalactic Development Index (IDI), male                                              560 non-null    float64\n",
      " 72  Gender Development Index (GDI)                                                           560 non-null    float64\n",
      " 73  Intergalactic Development Index (IDI), female, Rank                                      549 non-null    float64\n",
      " 74  Intergalactic Development Index (IDI), male, Rank                                        549 non-null    float64\n",
      " 75  Adjusted net savings                                                                     519 non-null    float64\n",
      " 76  Creature Immunodeficiency Disease prevalence, adult (% ages 15-49), total                482 non-null    float64\n",
      " 77  Private galaxy capital flows (% of GGP)                                                  536 non-null    float64\n",
      " 78  Gender Inequality Index (GII)                                                            529 non-null    float64\n",
      "dtypes: float64(77), int64(1), object(1)\n",
      "memory usage: 549.4+ KB\n"
     ]
    }
   ],
   "source": [
    "test.info()"
   ]
  },
  {
   "cell_type": "code",
   "execution_count": 11,
   "id": "5513abb3",
   "metadata": {},
   "outputs": [],
   "source": [
    "test['existence expectancy index'] = test['existence expectancy index'].fillna(test['existence expectancy index'].mean())\n",
    "test['existence expectancy at birth'] = test['existence expectancy at birth'].fillna(test['existence expectancy at birth'].mean())\n",
    "test['Gross income per capita'] = test['Gross income per capita'].fillna(test['Gross income per capita'].mean())\n",
    "test['Income Index'] = test['Income Index'].fillna(test['Income Index'].mean())\n",
    "test['Expected years of education (galactic years)'] = test['Expected years of education (galactic years)'].fillna(test['Expected years of education (galactic years)'].mean())\n",
    "test['Mean years of education (galactic years)'] = test['Mean years of education (galactic years)'].fillna(test['Mean years of education (galactic years)'].mean())\n",
    "test['Intergalactic Development Index (IDI)'] = test['Intergalactic Development Index (IDI)'].fillna(test['Intergalactic Development Index (IDI)'].mean())\n",
    "test['Education Index'] = test['Education Index'].fillna(test['Education Index'].mean())\n",
    "test['Intergalactic Development Index (IDI), Rank'] = test['Intergalactic Development Index (IDI), Rank'].fillna(test['Intergalactic Development Index (IDI), Rank'].mean())\n",
    "test['Population using at least basic drinking-water services (%)'] = test['Population using at least basic drinking-water services (%)'].fillna(test['Population using at least basic drinking-water services (%)'].mean())\n",
    "test['Population using at least basic sanitation services (%)'] = test['Population using at least basic sanitation services (%)'].fillna(test['Population using at least basic sanitation services (%)'].mean())\n",
    "test['Gross capital formation (% of GGP)'] = test['Gross capital formation (% of GGP)'].fillna(test['Gross capital formation (% of GGP)'].mean())"
   ]
  },
  {
   "cell_type": "code",
   "execution_count": 12,
   "id": "cb8ab1df",
   "metadata": {},
   "outputs": [],
   "source": [
    "test = test.drop(columns=['galaxy'])\n",
    "\n",
    "null_columns = test.isnull().any()\n",
    "\n",
    "null_columns = null_columns[null_columns].index.tolist()\n",
    "\n",
    "normal_columns = test.drop(columns=null_columns).columns"
   ]
  },
  {
   "cell_type": "code",
   "execution_count": 13,
   "id": "c2f832d3",
   "metadata": {},
   "outputs": [
    {
     "name": "stdout",
     "output_type": "stream",
     "text": [
      "Mean squared error: 97185.16\n",
      "R-squared: -0.40\n"
     ]
    },
    {
     "name": "stderr",
     "output_type": "stream",
     "text": [
      "C:\\Users\\SHAHIN~1\\AppData\\Local\\Temp/ipykernel_8580/2267554072.py:32: SettingWithCopyWarning: \n",
      "A value is trying to be set on a copy of a slice from a DataFrame\n",
      "\n",
      "See the caveats in the documentation: https://pandas.pydata.org/pandas-docs/stable/user_guide/indexing.html#returning-a-view-versus-a-copy\n",
      "  test[obj][x] = final_pred[x]\n",
      "C:\\Users\\SHAHIN~1\\AppData\\Local\\Temp/ipykernel_8580/2267554072.py:32: SettingWithCopyWarning: \n",
      "A value is trying to be set on a copy of a slice from a DataFrame\n",
      "\n",
      "See the caveats in the documentation: https://pandas.pydata.org/pandas-docs/stable/user_guide/indexing.html#returning-a-view-versus-a-copy\n",
      "  test[obj][x] = final_pred[x]\n"
     ]
    },
    {
     "name": "stdout",
     "output_type": "stream",
     "text": [
      "Mean squared error: 306.92\n",
      "R-squared: 0.16\n",
      "Mean squared error: 788.36\n",
      "R-squared: 0.26\n",
      "Mean squared error: 338.71\n",
      "R-squared: 0.20\n"
     ]
    },
    {
     "name": "stderr",
     "output_type": "stream",
     "text": [
      "C:\\Users\\SHAHIN~1\\AppData\\Local\\Temp/ipykernel_8580/2267554072.py:32: SettingWithCopyWarning: \n",
      "A value is trying to be set on a copy of a slice from a DataFrame\n",
      "\n",
      "See the caveats in the documentation: https://pandas.pydata.org/pandas-docs/stable/user_guide/indexing.html#returning-a-view-versus-a-copy\n",
      "  test[obj][x] = final_pred[x]\n",
      "C:\\Users\\SHAHIN~1\\AppData\\Local\\Temp/ipykernel_8580/2267554072.py:32: SettingWithCopyWarning: \n",
      "A value is trying to be set on a copy of a slice from a DataFrame\n",
      "\n",
      "See the caveats in the documentation: https://pandas.pydata.org/pandas-docs/stable/user_guide/indexing.html#returning-a-view-versus-a-copy\n",
      "  test[obj][x] = final_pred[x]\n",
      "C:\\Users\\SHAHIN~1\\AppData\\Local\\Temp/ipykernel_8580/2267554072.py:32: SettingWithCopyWarning: \n",
      "A value is trying to be set on a copy of a slice from a DataFrame\n",
      "\n",
      "See the caveats in the documentation: https://pandas.pydata.org/pandas-docs/stable/user_guide/indexing.html#returning-a-view-versus-a-copy\n",
      "  test[obj][x] = final_pred[x]\n"
     ]
    },
    {
     "name": "stdout",
     "output_type": "stream",
     "text": [
      "Mean squared error: 35.98\n",
      "R-squared: 0.37\n",
      "Mean squared error: 35276.43\n",
      "R-squared: -0.55\n",
      "Mean squared error: 416.86\n",
      "R-squared: -0.43\n"
     ]
    },
    {
     "name": "stderr",
     "output_type": "stream",
     "text": [
      "C:\\Users\\SHAHIN~1\\AppData\\Local\\Temp/ipykernel_8580/2267554072.py:32: SettingWithCopyWarning: \n",
      "A value is trying to be set on a copy of a slice from a DataFrame\n",
      "\n",
      "See the caveats in the documentation: https://pandas.pydata.org/pandas-docs/stable/user_guide/indexing.html#returning-a-view-versus-a-copy\n",
      "  test[obj][x] = final_pred[x]\n",
      "C:\\Users\\SHAHIN~1\\AppData\\Local\\Temp/ipykernel_8580/2267554072.py:32: SettingWithCopyWarning: \n",
      "A value is trying to be set on a copy of a slice from a DataFrame\n",
      "\n",
      "See the caveats in the documentation: https://pandas.pydata.org/pandas-docs/stable/user_guide/indexing.html#returning-a-view-versus-a-copy\n",
      "  test[obj][x] = final_pred[x]\n",
      "C:\\Users\\SHAHIN~1\\AppData\\Local\\Temp/ipykernel_8580/2267554072.py:32: SettingWithCopyWarning: \n",
      "A value is trying to be set on a copy of a slice from a DataFrame\n",
      "\n",
      "See the caveats in the documentation: https://pandas.pydata.org/pandas-docs/stable/user_guide/indexing.html#returning-a-view-versus-a-copy\n",
      "  test[obj][x] = final_pred[x]\n"
     ]
    },
    {
     "name": "stdout",
     "output_type": "stream",
     "text": [
      "Mean squared error: 33.21\n",
      "R-squared: 0.27\n",
      "Mean squared error: 49.86\n",
      "R-squared: 0.16\n",
      "Mean squared error: 881.99\n",
      "R-squared: -0.59\n"
     ]
    },
    {
     "name": "stderr",
     "output_type": "stream",
     "text": [
      "C:\\Users\\SHAHIN~1\\AppData\\Local\\Temp/ipykernel_8580/2267554072.py:32: SettingWithCopyWarning: \n",
      "A value is trying to be set on a copy of a slice from a DataFrame\n",
      "\n",
      "See the caveats in the documentation: https://pandas.pydata.org/pandas-docs/stable/user_guide/indexing.html#returning-a-view-versus-a-copy\n",
      "  test[obj][x] = final_pred[x]\n",
      "C:\\Users\\SHAHIN~1\\AppData\\Local\\Temp/ipykernel_8580/2267554072.py:32: SettingWithCopyWarning: \n",
      "A value is trying to be set on a copy of a slice from a DataFrame\n",
      "\n",
      "See the caveats in the documentation: https://pandas.pydata.org/pandas-docs/stable/user_guide/indexing.html#returning-a-view-versus-a-copy\n",
      "  test[obj][x] = final_pred[x]\n",
      "C:\\Users\\SHAHIN~1\\AppData\\Local\\Temp/ipykernel_8580/2267554072.py:32: SettingWithCopyWarning: \n",
      "A value is trying to be set on a copy of a slice from a DataFrame\n",
      "\n",
      "See the caveats in the documentation: https://pandas.pydata.org/pandas-docs/stable/user_guide/indexing.html#returning-a-view-versus-a-copy\n",
      "  test[obj][x] = final_pred[x]\n"
     ]
    },
    {
     "name": "stdout",
     "output_type": "stream",
     "text": [
      "Mean squared error: 314.67\n",
      "R-squared: 0.20\n",
      "Mean squared error: 1602.80\n",
      "R-squared: 0.07\n"
     ]
    },
    {
     "name": "stderr",
     "output_type": "stream",
     "text": [
      "C:\\Users\\SHAHIN~1\\AppData\\Local\\Temp/ipykernel_8580/2267554072.py:32: SettingWithCopyWarning: \n",
      "A value is trying to be set on a copy of a slice from a DataFrame\n",
      "\n",
      "See the caveats in the documentation: https://pandas.pydata.org/pandas-docs/stable/user_guide/indexing.html#returning-a-view-versus-a-copy\n",
      "  test[obj][x] = final_pred[x]\n",
      "C:\\Users\\SHAHIN~1\\AppData\\Local\\Temp/ipykernel_8580/2267554072.py:32: SettingWithCopyWarning: \n",
      "A value is trying to be set on a copy of a slice from a DataFrame\n",
      "\n",
      "See the caveats in the documentation: https://pandas.pydata.org/pandas-docs/stable/user_guide/indexing.html#returning-a-view-versus-a-copy\n",
      "  test[obj][x] = final_pred[x]\n",
      "C:\\Users\\SHAHIN~1\\AppData\\Local\\Temp/ipykernel_8580/2267554072.py:32: SettingWithCopyWarning: \n",
      "A value is trying to be set on a copy of a slice from a DataFrame\n",
      "\n",
      "See the caveats in the documentation: https://pandas.pydata.org/pandas-docs/stable/user_guide/indexing.html#returning-a-view-versus-a-copy\n",
      "  test[obj][x] = final_pred[x]\n"
     ]
    },
    {
     "name": "stdout",
     "output_type": "stream",
     "text": [
      "Mean squared error: 1.34\n",
      "R-squared: -0.45\n",
      "Mean squared error: 461.38\n",
      "R-squared: 0.26\n",
      "Mean squared error: 29.33\n",
      "R-squared: -0.25\n"
     ]
    },
    {
     "name": "stderr",
     "output_type": "stream",
     "text": [
      "C:\\Users\\SHAHIN~1\\AppData\\Local\\Temp/ipykernel_8580/2267554072.py:32: SettingWithCopyWarning: \n",
      "A value is trying to be set on a copy of a slice from a DataFrame\n",
      "\n",
      "See the caveats in the documentation: https://pandas.pydata.org/pandas-docs/stable/user_guide/indexing.html#returning-a-view-versus-a-copy\n",
      "  test[obj][x] = final_pred[x]\n",
      "C:\\Users\\SHAHIN~1\\AppData\\Local\\Temp/ipykernel_8580/2267554072.py:32: SettingWithCopyWarning: \n",
      "A value is trying to be set on a copy of a slice from a DataFrame\n",
      "\n",
      "See the caveats in the documentation: https://pandas.pydata.org/pandas-docs/stable/user_guide/indexing.html#returning-a-view-versus-a-copy\n",
      "  test[obj][x] = final_pred[x]\n",
      "C:\\Users\\SHAHIN~1\\AppData\\Local\\Temp/ipykernel_8580/2267554072.py:32: SettingWithCopyWarning: \n",
      "A value is trying to be set on a copy of a slice from a DataFrame\n",
      "\n",
      "See the caveats in the documentation: https://pandas.pydata.org/pandas-docs/stable/user_guide/indexing.html#returning-a-view-versus-a-copy\n",
      "  test[obj][x] = final_pred[x]\n"
     ]
    },
    {
     "name": "stdout",
     "output_type": "stream",
     "text": [
      "Mean squared error: 331.56\n",
      "R-squared: 0.25\n",
      "Mean squared error: 113.29\n",
      "R-squared: -0.14\n",
      "Mean squared error: 231.85\n",
      "R-squared: -0.15\n"
     ]
    },
    {
     "name": "stderr",
     "output_type": "stream",
     "text": [
      "C:\\Users\\SHAHIN~1\\AppData\\Local\\Temp/ipykernel_8580/2267554072.py:32: SettingWithCopyWarning: \n",
      "A value is trying to be set on a copy of a slice from a DataFrame\n",
      "\n",
      "See the caveats in the documentation: https://pandas.pydata.org/pandas-docs/stable/user_guide/indexing.html#returning-a-view-versus-a-copy\n",
      "  test[obj][x] = final_pred[x]\n",
      "C:\\Users\\SHAHIN~1\\AppData\\Local\\Temp/ipykernel_8580/2267554072.py:32: SettingWithCopyWarning: \n",
      "A value is trying to be set on a copy of a slice from a DataFrame\n",
      "\n",
      "See the caveats in the documentation: https://pandas.pydata.org/pandas-docs/stable/user_guide/indexing.html#returning-a-view-versus-a-copy\n",
      "  test[obj][x] = final_pred[x]\n",
      "C:\\Users\\SHAHIN~1\\AppData\\Local\\Temp/ipykernel_8580/2267554072.py:32: SettingWithCopyWarning: \n",
      "A value is trying to be set on a copy of a slice from a DataFrame\n",
      "\n",
      "See the caveats in the documentation: https://pandas.pydata.org/pandas-docs/stable/user_guide/indexing.html#returning-a-view-versus-a-copy\n",
      "  test[obj][x] = final_pred[x]\n"
     ]
    },
    {
     "name": "stdout",
     "output_type": "stream",
     "text": [
      "Mean squared error: 173.12\n",
      "R-squared: 0.28\n",
      "Mean squared error: 66.19\n",
      "R-squared: 0.03\n",
      "Mean squared error: 134.33\n",
      "R-squared: -0.12\n"
     ]
    },
    {
     "name": "stderr",
     "output_type": "stream",
     "text": [
      "C:\\Users\\SHAHIN~1\\AppData\\Local\\Temp/ipykernel_8580/2267554072.py:32: SettingWithCopyWarning: \n",
      "A value is trying to be set on a copy of a slice from a DataFrame\n",
      "\n",
      "See the caveats in the documentation: https://pandas.pydata.org/pandas-docs/stable/user_guide/indexing.html#returning-a-view-versus-a-copy\n",
      "  test[obj][x] = final_pred[x]\n",
      "C:\\Users\\SHAHIN~1\\AppData\\Local\\Temp/ipykernel_8580/2267554072.py:32: SettingWithCopyWarning: \n",
      "A value is trying to be set on a copy of a slice from a DataFrame\n",
      "\n",
      "See the caveats in the documentation: https://pandas.pydata.org/pandas-docs/stable/user_guide/indexing.html#returning-a-view-versus-a-copy\n",
      "  test[obj][x] = final_pred[x]\n",
      "C:\\Users\\SHAHIN~1\\AppData\\Local\\Temp/ipykernel_8580/2267554072.py:32: SettingWithCopyWarning: \n",
      "A value is trying to be set on a copy of a slice from a DataFrame\n",
      "\n",
      "See the caveats in the documentation: https://pandas.pydata.org/pandas-docs/stable/user_guide/indexing.html#returning-a-view-versus-a-copy\n",
      "  test[obj][x] = final_pred[x]\n"
     ]
    },
    {
     "name": "stdout",
     "output_type": "stream",
     "text": [
      "Mean squared error: 518.60\n",
      "R-squared: -0.12\n",
      "Mean squared error: 113.04\n",
      "R-squared: -0.17\n",
      "Mean squared error: 0.95\n",
      "R-squared: -1.07\n"
     ]
    },
    {
     "name": "stderr",
     "output_type": "stream",
     "text": [
      "C:\\Users\\SHAHIN~1\\AppData\\Local\\Temp/ipykernel_8580/2267554072.py:32: SettingWithCopyWarning: \n",
      "A value is trying to be set on a copy of a slice from a DataFrame\n",
      "\n",
      "See the caveats in the documentation: https://pandas.pydata.org/pandas-docs/stable/user_guide/indexing.html#returning-a-view-versus-a-copy\n",
      "  test[obj][x] = final_pred[x]\n",
      "C:\\Users\\SHAHIN~1\\AppData\\Local\\Temp/ipykernel_8580/2267554072.py:32: SettingWithCopyWarning: \n",
      "A value is trying to be set on a copy of a slice from a DataFrame\n",
      "\n",
      "See the caveats in the documentation: https://pandas.pydata.org/pandas-docs/stable/user_guide/indexing.html#returning-a-view-versus-a-copy\n",
      "  test[obj][x] = final_pred[x]\n",
      "C:\\Users\\SHAHIN~1\\AppData\\Local\\Temp/ipykernel_8580/2267554072.py:32: SettingWithCopyWarning: \n",
      "A value is trying to be set on a copy of a slice from a DataFrame\n",
      "\n",
      "See the caveats in the documentation: https://pandas.pydata.org/pandas-docs/stable/user_guide/indexing.html#returning-a-view-versus-a-copy\n",
      "  test[obj][x] = final_pred[x]\n"
     ]
    },
    {
     "name": "stdout",
     "output_type": "stream",
     "text": [
      "Mean squared error: 122.41\n",
      "R-squared: -0.17\n",
      "Mean squared error: 4794.27\n",
      "R-squared: 0.13\n",
      "Mean squared error: 4993.79\n",
      "R-squared: 0.19\n"
     ]
    },
    {
     "name": "stderr",
     "output_type": "stream",
     "text": [
      "C:\\Users\\SHAHIN~1\\AppData\\Local\\Temp/ipykernel_8580/2267554072.py:32: SettingWithCopyWarning: \n",
      "A value is trying to be set on a copy of a slice from a DataFrame\n",
      "\n",
      "See the caveats in the documentation: https://pandas.pydata.org/pandas-docs/stable/user_guide/indexing.html#returning-a-view-versus-a-copy\n",
      "  test[obj][x] = final_pred[x]\n",
      "C:\\Users\\SHAHIN~1\\AppData\\Local\\Temp/ipykernel_8580/2267554072.py:32: SettingWithCopyWarning: \n",
      "A value is trying to be set on a copy of a slice from a DataFrame\n",
      "\n",
      "See the caveats in the documentation: https://pandas.pydata.org/pandas-docs/stable/user_guide/indexing.html#returning-a-view-versus-a-copy\n",
      "  test[obj][x] = final_pred[x]\n",
      "C:\\Users\\SHAHIN~1\\AppData\\Local\\Temp/ipykernel_8580/2267554072.py:32: SettingWithCopyWarning: \n",
      "A value is trying to be set on a copy of a slice from a DataFrame\n",
      "\n",
      "See the caveats in the documentation: https://pandas.pydata.org/pandas-docs/stable/user_guide/indexing.html#returning-a-view-versus-a-copy\n",
      "  test[obj][x] = final_pred[x]\n"
     ]
    },
    {
     "name": "stdout",
     "output_type": "stream",
     "text": [
      "Mean squared error: 170.63\n",
      "R-squared: -0.11\n",
      "Mean squared error: 76.85\n",
      "R-squared: -0.06\n",
      "Mean squared error: 76383859.93\n",
      "R-squared: 0.70\n"
     ]
    },
    {
     "name": "stderr",
     "output_type": "stream",
     "text": [
      "C:\\Users\\SHAHIN~1\\AppData\\Local\\Temp/ipykernel_8580/2267554072.py:32: SettingWithCopyWarning: \n",
      "A value is trying to be set on a copy of a slice from a DataFrame\n",
      "\n",
      "See the caveats in the documentation: https://pandas.pydata.org/pandas-docs/stable/user_guide/indexing.html#returning-a-view-versus-a-copy\n",
      "  test[obj][x] = final_pred[x]\n",
      "C:\\Users\\SHAHIN~1\\AppData\\Local\\Temp/ipykernel_8580/2267554072.py:32: SettingWithCopyWarning: \n",
      "A value is trying to be set on a copy of a slice from a DataFrame\n",
      "\n",
      "See the caveats in the documentation: https://pandas.pydata.org/pandas-docs/stable/user_guide/indexing.html#returning-a-view-versus-a-copy\n",
      "  test[obj][x] = final_pred[x]\n",
      "C:\\Users\\SHAHIN~1\\AppData\\Local\\Temp/ipykernel_8580/2267554072.py:32: SettingWithCopyWarning: \n",
      "A value is trying to be set on a copy of a slice from a DataFrame\n",
      "\n",
      "See the caveats in the documentation: https://pandas.pydata.org/pandas-docs/stable/user_guide/indexing.html#returning-a-view-versus-a-copy\n",
      "  test[obj][x] = final_pred[x]\n"
     ]
    },
    {
     "name": "stdout",
     "output_type": "stream",
     "text": [
      "Mean squared error: 8673482.44\n",
      "R-squared: -1.16\n",
      "Mean squared error: 330.82\n",
      "R-squared: -0.19\n",
      "Mean squared error: 1402.47\n",
      "R-squared: -0.41\n"
     ]
    },
    {
     "name": "stderr",
     "output_type": "stream",
     "text": [
      "C:\\Users\\SHAHIN~1\\AppData\\Local\\Temp/ipykernel_8580/2267554072.py:32: SettingWithCopyWarning: \n",
      "A value is trying to be set on a copy of a slice from a DataFrame\n",
      "\n",
      "See the caveats in the documentation: https://pandas.pydata.org/pandas-docs/stable/user_guide/indexing.html#returning-a-view-versus-a-copy\n",
      "  test[obj][x] = final_pred[x]\n",
      "C:\\Users\\SHAHIN~1\\AppData\\Local\\Temp/ipykernel_8580/2267554072.py:32: SettingWithCopyWarning: \n",
      "A value is trying to be set on a copy of a slice from a DataFrame\n",
      "\n",
      "See the caveats in the documentation: https://pandas.pydata.org/pandas-docs/stable/user_guide/indexing.html#returning-a-view-versus-a-copy\n",
      "  test[obj][x] = final_pred[x]\n",
      "C:\\Users\\SHAHIN~1\\AppData\\Local\\Temp/ipykernel_8580/2267554072.py:32: SettingWithCopyWarning: \n",
      "A value is trying to be set on a copy of a slice from a DataFrame\n",
      "\n",
      "See the caveats in the documentation: https://pandas.pydata.org/pandas-docs/stable/user_guide/indexing.html#returning-a-view-versus-a-copy\n",
      "  test[obj][x] = final_pred[x]\n"
     ]
    },
    {
     "name": "stdout",
     "output_type": "stream",
     "text": [
      "Mean squared error: 107.41\n",
      "R-squared: -0.04\n",
      "Mean squared error: 61.15\n",
      "R-squared: -0.36\n",
      "Mean squared error: 6.39\n",
      "R-squared: 0.28\n"
     ]
    },
    {
     "name": "stderr",
     "output_type": "stream",
     "text": [
      "C:\\Users\\SHAHIN~1\\AppData\\Local\\Temp/ipykernel_8580/2267554072.py:32: SettingWithCopyWarning: \n",
      "A value is trying to be set on a copy of a slice from a DataFrame\n",
      "\n",
      "See the caveats in the documentation: https://pandas.pydata.org/pandas-docs/stable/user_guide/indexing.html#returning-a-view-versus-a-copy\n",
      "  test[obj][x] = final_pred[x]\n",
      "C:\\Users\\SHAHIN~1\\AppData\\Local\\Temp/ipykernel_8580/2267554072.py:32: SettingWithCopyWarning: \n",
      "A value is trying to be set on a copy of a slice from a DataFrame\n",
      "\n",
      "See the caveats in the documentation: https://pandas.pydata.org/pandas-docs/stable/user_guide/indexing.html#returning-a-view-versus-a-copy\n",
      "  test[obj][x] = final_pred[x]\n",
      "C:\\Users\\SHAHIN~1\\AppData\\Local\\Temp/ipykernel_8580/2267554072.py:32: SettingWithCopyWarning: \n",
      "A value is trying to be set on a copy of a slice from a DataFrame\n",
      "\n",
      "See the caveats in the documentation: https://pandas.pydata.org/pandas-docs/stable/user_guide/indexing.html#returning-a-view-versus-a-copy\n",
      "  test[obj][x] = final_pred[x]\n"
     ]
    },
    {
     "name": "stdout",
     "output_type": "stream",
     "text": [
      "Mean squared error: 3.68\n",
      "R-squared: 0.34\n",
      "Mean squared error: 4.80\n",
      "R-squared: 0.39\n",
      "Mean squared error: 3.29\n",
      "R-squared: 0.30\n"
     ]
    },
    {
     "name": "stderr",
     "output_type": "stream",
     "text": [
      "C:\\Users\\SHAHIN~1\\AppData\\Local\\Temp/ipykernel_8580/2267554072.py:32: SettingWithCopyWarning: \n",
      "A value is trying to be set on a copy of a slice from a DataFrame\n",
      "\n",
      "See the caveats in the documentation: https://pandas.pydata.org/pandas-docs/stable/user_guide/indexing.html#returning-a-view-versus-a-copy\n",
      "  test[obj][x] = final_pred[x]\n",
      "C:\\Users\\SHAHIN~1\\AppData\\Local\\Temp/ipykernel_8580/2267554072.py:32: SettingWithCopyWarning: \n",
      "A value is trying to be set on a copy of a slice from a DataFrame\n",
      "\n",
      "See the caveats in the documentation: https://pandas.pydata.org/pandas-docs/stable/user_guide/indexing.html#returning-a-view-versus-a-copy\n",
      "  test[obj][x] = final_pred[x]\n",
      "C:\\Users\\SHAHIN~1\\AppData\\Local\\Temp/ipykernel_8580/2267554072.py:32: SettingWithCopyWarning: \n",
      "A value is trying to be set on a copy of a slice from a DataFrame\n",
      "\n",
      "See the caveats in the documentation: https://pandas.pydata.org/pandas-docs/stable/user_guide/indexing.html#returning-a-view-versus-a-copy\n",
      "  test[obj][x] = final_pred[x]\n"
     ]
    },
    {
     "name": "stdout",
     "output_type": "stream",
     "text": [
      "Mean squared error: 37225.91\n",
      "R-squared: -0.11\n",
      "Mean squared error: 507.24\n",
      "R-squared: 0.12\n",
      "Mean squared error: 121019706.73\n",
      "R-squared: 0.71\n"
     ]
    },
    {
     "name": "stderr",
     "output_type": "stream",
     "text": [
      "C:\\Users\\SHAHIN~1\\AppData\\Local\\Temp/ipykernel_8580/2267554072.py:32: SettingWithCopyWarning: \n",
      "A value is trying to be set on a copy of a slice from a DataFrame\n",
      "\n",
      "See the caveats in the documentation: https://pandas.pydata.org/pandas-docs/stable/user_guide/indexing.html#returning-a-view-versus-a-copy\n",
      "  test[obj][x] = final_pred[x]\n",
      "C:\\Users\\SHAHIN~1\\AppData\\Local\\Temp/ipykernel_8580/2267554072.py:32: SettingWithCopyWarning: \n",
      "A value is trying to be set on a copy of a slice from a DataFrame\n",
      "\n",
      "See the caveats in the documentation: https://pandas.pydata.org/pandas-docs/stable/user_guide/indexing.html#returning-a-view-versus-a-copy\n",
      "  test[obj][x] = final_pred[x]\n",
      "C:\\Users\\SHAHIN~1\\AppData\\Local\\Temp/ipykernel_8580/2267554072.py:32: SettingWithCopyWarning: \n",
      "A value is trying to be set on a copy of a slice from a DataFrame\n",
      "\n",
      "See the caveats in the documentation: https://pandas.pydata.org/pandas-docs/stable/user_guide/indexing.html#returning-a-view-versus-a-copy\n",
      "  test[obj][x] = final_pred[x]\n"
     ]
    },
    {
     "name": "stdout",
     "output_type": "stream",
     "text": [
      "Mean squared error: 40793619.76\n",
      "R-squared: 0.72\n",
      "Mean squared error: 824.48\n",
      "R-squared: 0.22\n",
      "Mean squared error: 2429.15\n",
      "R-squared: 0.23\n"
     ]
    },
    {
     "name": "stderr",
     "output_type": "stream",
     "text": [
      "C:\\Users\\SHAHIN~1\\AppData\\Local\\Temp/ipykernel_8580/2267554072.py:32: SettingWithCopyWarning: \n",
      "A value is trying to be set on a copy of a slice from a DataFrame\n",
      "\n",
      "See the caveats in the documentation: https://pandas.pydata.org/pandas-docs/stable/user_guide/indexing.html#returning-a-view-versus-a-copy\n",
      "  test[obj][x] = final_pred[x]\n",
      "C:\\Users\\SHAHIN~1\\AppData\\Local\\Temp/ipykernel_8580/2267554072.py:32: SettingWithCopyWarning: \n",
      "A value is trying to be set on a copy of a slice from a DataFrame\n",
      "\n",
      "See the caveats in the documentation: https://pandas.pydata.org/pandas-docs/stable/user_guide/indexing.html#returning-a-view-versus-a-copy\n",
      "  test[obj][x] = final_pred[x]\n"
     ]
    },
    {
     "name": "stdout",
     "output_type": "stream",
     "text": [
      "Mean squared error: 552.53\n",
      "R-squared: 0.17\n",
      "Mean squared error: 420.48\n",
      "R-squared: 0.18\n",
      "Mean squared error: 70.23\n",
      "R-squared: -0.22\n"
     ]
    },
    {
     "name": "stderr",
     "output_type": "stream",
     "text": [
      "C:\\Users\\SHAHIN~1\\AppData\\Local\\Temp/ipykernel_8580/2267554072.py:32: SettingWithCopyWarning: \n",
      "A value is trying to be set on a copy of a slice from a DataFrame\n",
      "\n",
      "See the caveats in the documentation: https://pandas.pydata.org/pandas-docs/stable/user_guide/indexing.html#returning-a-view-versus-a-copy\n",
      "  test[obj][x] = final_pred[x]\n",
      "C:\\Users\\SHAHIN~1\\AppData\\Local\\Temp/ipykernel_8580/2267554072.py:32: SettingWithCopyWarning: \n",
      "A value is trying to be set on a copy of a slice from a DataFrame\n",
      "\n",
      "See the caveats in the documentation: https://pandas.pydata.org/pandas-docs/stable/user_guide/indexing.html#returning-a-view-versus-a-copy\n",
      "  test[obj][x] = final_pred[x]\n",
      "C:\\Users\\SHAHIN~1\\AppData\\Local\\Temp/ipykernel_8580/2267554072.py:32: SettingWithCopyWarning: \n",
      "A value is trying to be set on a copy of a slice from a DataFrame\n",
      "\n",
      "See the caveats in the documentation: https://pandas.pydata.org/pandas-docs/stable/user_guide/indexing.html#returning-a-view-versus-a-copy\n",
      "  test[obj][x] = final_pred[x]\n"
     ]
    },
    {
     "name": "stdout",
     "output_type": "stream",
     "text": [
      "Mean squared error: 30.24\n",
      "R-squared: 0.02\n",
      "Mean squared error: 432.05\n",
      "R-squared: 0.21\n"
     ]
    },
    {
     "name": "stderr",
     "output_type": "stream",
     "text": [
      "C:\\Users\\SHAHIN~1\\AppData\\Local\\Temp/ipykernel_8580/2267554072.py:32: SettingWithCopyWarning: \n",
      "A value is trying to be set on a copy of a slice from a DataFrame\n",
      "\n",
      "See the caveats in the documentation: https://pandas.pydata.org/pandas-docs/stable/user_guide/indexing.html#returning-a-view-versus-a-copy\n",
      "  test[obj][x] = final_pred[x]\n",
      "C:\\Users\\SHAHIN~1\\AppData\\Local\\Temp/ipykernel_8580/2267554072.py:32: SettingWithCopyWarning: \n",
      "A value is trying to be set on a copy of a slice from a DataFrame\n",
      "\n",
      "See the caveats in the documentation: https://pandas.pydata.org/pandas-docs/stable/user_guide/indexing.html#returning-a-view-versus-a-copy\n",
      "  test[obj][x] = final_pred[x]\n"
     ]
    },
    {
     "name": "stdout",
     "output_type": "stream",
     "text": [
      "Mean squared error: 1257460795.01\n",
      "R-squared: -0.97\n",
      "Mean squared error: 126.44\n",
      "R-squared: -0.04\n"
     ]
    },
    {
     "name": "stderr",
     "output_type": "stream",
     "text": [
      "C:\\Users\\SHAHIN~1\\AppData\\Local\\Temp/ipykernel_8580/2267554072.py:32: SettingWithCopyWarning: \n",
      "A value is trying to be set on a copy of a slice from a DataFrame\n",
      "\n",
      "See the caveats in the documentation: https://pandas.pydata.org/pandas-docs/stable/user_guide/indexing.html#returning-a-view-versus-a-copy\n",
      "  test[obj][x] = final_pred[x]\n",
      "C:\\Users\\SHAHIN~1\\AppData\\Local\\Temp/ipykernel_8580/2267554072.py:32: SettingWithCopyWarning: \n",
      "A value is trying to be set on a copy of a slice from a DataFrame\n",
      "\n",
      "See the caveats in the documentation: https://pandas.pydata.org/pandas-docs/stable/user_guide/indexing.html#returning-a-view-versus-a-copy\n",
      "  test[obj][x] = final_pred[x]\n"
     ]
    },
    {
     "name": "stdout",
     "output_type": "stream",
     "text": [
      "Mean squared error: 22557.02\n",
      "R-squared: -0.03\n",
      "Mean squared error: 993.30\n",
      "R-squared: 0.16\n"
     ]
    },
    {
     "name": "stderr",
     "output_type": "stream",
     "text": [
      "C:\\Users\\SHAHIN~1\\AppData\\Local\\Temp/ipykernel_8580/2267554072.py:32: SettingWithCopyWarning: \n",
      "A value is trying to be set on a copy of a slice from a DataFrame\n",
      "\n",
      "See the caveats in the documentation: https://pandas.pydata.org/pandas-docs/stable/user_guide/indexing.html#returning-a-view-versus-a-copy\n",
      "  test[obj][x] = final_pred[x]\n"
     ]
    },
    {
     "name": "stdout",
     "output_type": "stream",
     "text": [
      "Mean squared error: 269.06\n",
      "R-squared: 0.58\n",
      "Mean squared error: 3.81\n",
      "R-squared: 0.23\n"
     ]
    },
    {
     "name": "stderr",
     "output_type": "stream",
     "text": [
      "C:\\Users\\SHAHIN~1\\AppData\\Local\\Temp/ipykernel_8580/2267554072.py:32: SettingWithCopyWarning: \n",
      "A value is trying to be set on a copy of a slice from a DataFrame\n",
      "\n",
      "See the caveats in the documentation: https://pandas.pydata.org/pandas-docs/stable/user_guide/indexing.html#returning-a-view-versus-a-copy\n",
      "  test[obj][x] = final_pred[x]\n",
      "C:\\Users\\SHAHIN~1\\AppData\\Local\\Temp/ipykernel_8580/2267554072.py:32: SettingWithCopyWarning: \n",
      "A value is trying to be set on a copy of a slice from a DataFrame\n",
      "\n",
      "See the caveats in the documentation: https://pandas.pydata.org/pandas-docs/stable/user_guide/indexing.html#returning-a-view-versus-a-copy\n",
      "  test[obj][x] = final_pred[x]\n"
     ]
    },
    {
     "name": "stdout",
     "output_type": "stream",
     "text": [
      "Mean squared error: 0.01\n",
      "R-squared: 0.36\n",
      "Mean squared error: 0.01\n",
      "R-squared: 0.42\n"
     ]
    },
    {
     "name": "stderr",
     "output_type": "stream",
     "text": [
      "C:\\Users\\SHAHIN~1\\AppData\\Local\\Temp/ipykernel_8580/2267554072.py:32: SettingWithCopyWarning: \n",
      "A value is trying to be set on a copy of a slice from a DataFrame\n",
      "\n",
      "See the caveats in the documentation: https://pandas.pydata.org/pandas-docs/stable/user_guide/indexing.html#returning-a-view-versus-a-copy\n",
      "  test[obj][x] = final_pred[x]\n",
      "C:\\Users\\SHAHIN~1\\AppData\\Local\\Temp/ipykernel_8580/2267554072.py:32: SettingWithCopyWarning: \n",
      "A value is trying to be set on a copy of a slice from a DataFrame\n",
      "\n",
      "See the caveats in the documentation: https://pandas.pydata.org/pandas-docs/stable/user_guide/indexing.html#returning-a-view-versus-a-copy\n",
      "  test[obj][x] = final_pred[x]\n"
     ]
    },
    {
     "name": "stdout",
     "output_type": "stream",
     "text": [
      "Mean squared error: 0.01\n",
      "R-squared: -0.34\n",
      "Mean squared error: 669.54\n",
      "R-squared: 0.52\n"
     ]
    },
    {
     "name": "stderr",
     "output_type": "stream",
     "text": [
      "C:\\Users\\SHAHIN~1\\AppData\\Local\\Temp/ipykernel_8580/2267554072.py:32: SettingWithCopyWarning: \n",
      "A value is trying to be set on a copy of a slice from a DataFrame\n",
      "\n",
      "See the caveats in the documentation: https://pandas.pydata.org/pandas-docs/stable/user_guide/indexing.html#returning-a-view-versus-a-copy\n",
      "  test[obj][x] = final_pred[x]\n",
      "C:\\Users\\SHAHIN~1\\AppData\\Local\\Temp/ipykernel_8580/2267554072.py:32: SettingWithCopyWarning: \n",
      "A value is trying to be set on a copy of a slice from a DataFrame\n",
      "\n",
      "See the caveats in the documentation: https://pandas.pydata.org/pandas-docs/stable/user_guide/indexing.html#returning-a-view-versus-a-copy\n",
      "  test[obj][x] = final_pred[x]\n"
     ]
    },
    {
     "name": "stdout",
     "output_type": "stream",
     "text": [
      "Mean squared error: 822.74\n",
      "R-squared: 0.48\n",
      "Mean squared error: 154.64\n",
      "R-squared: -0.13\n"
     ]
    },
    {
     "name": "stderr",
     "output_type": "stream",
     "text": [
      "C:\\Users\\SHAHIN~1\\AppData\\Local\\Temp/ipykernel_8580/2267554072.py:32: SettingWithCopyWarning: \n",
      "A value is trying to be set on a copy of a slice from a DataFrame\n",
      "\n",
      "See the caveats in the documentation: https://pandas.pydata.org/pandas-docs/stable/user_guide/indexing.html#returning-a-view-versus-a-copy\n",
      "  test[obj][x] = final_pred[x]\n",
      "C:\\Users\\SHAHIN~1\\AppData\\Local\\Temp/ipykernel_8580/2267554072.py:32: SettingWithCopyWarning: \n",
      "A value is trying to be set on a copy of a slice from a DataFrame\n",
      "\n",
      "See the caveats in the documentation: https://pandas.pydata.org/pandas-docs/stable/user_guide/indexing.html#returning-a-view-versus-a-copy\n",
      "  test[obj][x] = final_pred[x]\n"
     ]
    },
    {
     "name": "stdout",
     "output_type": "stream",
     "text": [
      "Mean squared error: 8.61\n",
      "R-squared: -0.14\n",
      "Mean squared error: 149.94\n",
      "R-squared: -0.36\n"
     ]
    },
    {
     "name": "stderr",
     "output_type": "stream",
     "text": [
      "C:\\Users\\SHAHIN~1\\AppData\\Local\\Temp/ipykernel_8580/2267554072.py:32: SettingWithCopyWarning: \n",
      "A value is trying to be set on a copy of a slice from a DataFrame\n",
      "\n",
      "See the caveats in the documentation: https://pandas.pydata.org/pandas-docs/stable/user_guide/indexing.html#returning-a-view-versus-a-copy\n",
      "  test[obj][x] = final_pred[x]\n",
      "C:\\Users\\SHAHIN~1\\AppData\\Local\\Temp/ipykernel_8580/2267554072.py:32: SettingWithCopyWarning: \n",
      "A value is trying to be set on a copy of a slice from a DataFrame\n",
      "\n",
      "See the caveats in the documentation: https://pandas.pydata.org/pandas-docs/stable/user_guide/indexing.html#returning-a-view-versus-a-copy\n",
      "  test[obj][x] = final_pred[x]\n"
     ]
    },
    {
     "name": "stdout",
     "output_type": "stream",
     "text": [
      "Mean squared error: 0.01\n",
      "R-squared: 0.40\n"
     ]
    },
    {
     "name": "stderr",
     "output_type": "stream",
     "text": [
      "C:\\Users\\SHAHIN~1\\AppData\\Local\\Temp/ipykernel_8580/2267554072.py:32: SettingWithCopyWarning: \n",
      "A value is trying to be set on a copy of a slice from a DataFrame\n",
      "\n",
      "See the caveats in the documentation: https://pandas.pydata.org/pandas-docs/stable/user_guide/indexing.html#returning-a-view-versus-a-copy\n",
      "  test[obj][x] = final_pred[x]\n"
     ]
    }
   ],
   "source": [
    "for obj in null_columns:\n",
    "    # Select the columns with null values and the columns to use as predictors\n",
    "    X = test[normal_columns]\n",
    "    y = test[obj]\n",
    "\n",
    "    # Use the KNNImputer to fill null values in the predictors and target\n",
    "    imputer = KNNImputer()\n",
    "    X_imputed = imputer.fit_transform(X)\n",
    "    y_imputed = imputer.fit_transform(y.values.reshape(-1, 1))\n",
    "\n",
    "    # Split the data into a training set and a test set\n",
    "    X_train, X_test, y_train, y_test = train_test_split(X_imputed, y_imputed, test_size=0.2, random_state=42)\n",
    "\n",
    "    # Fit a KNN regression model\n",
    "    model = KNeighborsRegressor()\n",
    "    model.fit(X_train, y_train)\n",
    "\n",
    "    # Make predictions on the test set\n",
    "    y_pred = model.predict(X_test)\n",
    "\n",
    "    # Evaluate the model's performance\n",
    "    mse = metrics.mean_squared_error(y_test, y_pred)\n",
    "    r2 = metrics.r2_score(y_test, y_pred)\n",
    "\n",
    "    print(f'Mean squared error: {mse:.2f}')\n",
    "    print(f'R-squared: {r2:.2f}')\n",
    "\n",
    "    final_pred = model.predict(test[normal_columns])\n",
    "\n",
    "    for x in range(len(test[obj])):\n",
    "        if math.isnan(test[obj][x]):\n",
    "            test[obj][x] = final_pred[x]\n",
    "\n",
    "# Use the model to fill null values in the original dataframe\n",
    "#train['Population using at least basic drinking-water services (%)'] = train['Population using at least basic drinking-water services (%)'].fillna(model.predict(train[normal_columns]))"
   ]
  },
  {
   "cell_type": "code",
   "execution_count": 14,
   "id": "4024908b",
   "metadata": {},
   "outputs": [
    {
     "name": "stdout",
     "output_type": "stream",
     "text": [
      "<class 'pandas.core.frame.DataFrame'>\n",
      "RangeIndex: 890 entries, 0 to 889\n",
      "Data columns (total 78 columns):\n",
      " #   Column                                                                                   Non-Null Count  Dtype  \n",
      "---  ------                                                                                   --------------  -----  \n",
      " 0   galactic year                                                                            890 non-null    int64  \n",
      " 1   existence expectancy index                                                               890 non-null    float64\n",
      " 2   existence expectancy at birth                                                            890 non-null    float64\n",
      " 3   Gross income per capita                                                                  890 non-null    float64\n",
      " 4   Income Index                                                                             890 non-null    float64\n",
      " 5   Expected years of education (galactic years)                                             890 non-null    float64\n",
      " 6   Mean years of education (galactic years)                                                 890 non-null    float64\n",
      " 7   Intergalactic Development Index (IDI)                                                    890 non-null    float64\n",
      " 8   Education Index                                                                          890 non-null    float64\n",
      " 9   Intergalactic Development Index (IDI), Rank                                              890 non-null    float64\n",
      " 10  Population using at least basic drinking-water services (%)                              890 non-null    float64\n",
      " 11  Population using at least basic sanitation services (%)                                  890 non-null    float64\n",
      " 12  Gross capital formation (% of GGP)                                                       890 non-null    float64\n",
      " 13  Population, total (millions)                                                             890 non-null    float64\n",
      " 14  Population, urban (%)                                                                    890 non-null    float64\n",
      " 15  Mortality rate, under-five (per 1,000 live births)                                       890 non-null    float64\n",
      " 16  Mortality rate, infant (per 1,000 live births)                                           890 non-null    float64\n",
      " 17  Old age dependency ratio (old age (65 and older) per 100 creatures (ages 15-64))         890 non-null    float64\n",
      " 18  Population, ages 15–64 (millions)                                                        890 non-null    float64\n",
      " 19  Population, ages 65 and older (millions)                                                 890 non-null    float64\n",
      " 20  Life expectancy at birth, male (galactic years)                                          890 non-null    float64\n",
      " 21  Life expectancy at birth, female (galactic years)                                        890 non-null    float64\n",
      " 22  Population, under age 5 (millions)                                                       890 non-null    float64\n",
      " 23  Young age (0-14) dependency ratio (per 100 creatures ages 15-64)                         890 non-null    float64\n",
      " 24  Adolescent birth rate (births per 1,000 female creatures ages 15-19)                     890 non-null    float64\n",
      " 25  Total unemployment rate (female to male ratio)                                           890 non-null    float64\n",
      " 26  Vulnerable employment (% of total employment)                                            890 non-null    float64\n",
      " 27  Unemployment, total (% of labour force)                                                  890 non-null    float64\n",
      " 28  Employment in agriculture (% of total employment)                                        890 non-null    float64\n",
      " 29  Labour force participation rate (% ages 15 and older)                                    890 non-null    float64\n",
      " 30  Labour force participation rate (% ages 15 and older), female                            890 non-null    float64\n",
      " 31  Employment in services (% of total employment)                                           890 non-null    float64\n",
      " 32  Labour force participation rate (% ages 15 and older), male                              890 non-null    float64\n",
      " 33  Employment to population ratio (% ages 15 and older)                                     890 non-null    float64\n",
      " 34  Jungle area (% of total land area)                                                       890 non-null    float64\n",
      " 35  Share of employment in nonagriculture, female (% of total employment in nonagriculture)  890 non-null    float64\n",
      " 36  Youth unemployment rate (female to male ratio)                                           890 non-null    float64\n",
      " 37  Unemployment, youth (% ages 15–24)                                                       890 non-null    float64\n",
      " 38  Mortality rate, female grown up (per 1,000 people)                                       890 non-null    float64\n",
      " 39  Mortality rate, male grown up (per 1,000 people)                                         890 non-null    float64\n",
      " 40  Infants lacking immunization, red hot disease (% of one-galactic year-olds)              890 non-null    float64\n",
      " 41  Infants lacking immunization, Combination Vaccine (% of one-galactic year-olds)          890 non-null    float64\n",
      " 42  Gross galactic product (GGP) per capita                                                  890 non-null    float64\n",
      " 43  Gross galactic product (GGP), total                                                      890 non-null    float64\n",
      " 44  Outer Galaxies direct investment, net inflows (% of GGP)                                 890 non-null    float64\n",
      " 45  Exports and imports (% of GGP)                                                           890 non-null    float64\n",
      " 46  Share of seats in senate (% held by female)                                              890 non-null    float64\n",
      " 47  Natural resource depletion                                                               890 non-null    float64\n",
      " 48  Mean years of education, female (galactic years)                                         890 non-null    float64\n",
      " 49  Mean years of education, male (galactic years)                                           890 non-null    float64\n",
      " 50  Expected years of education, female (galactic years)                                     890 non-null    float64\n",
      " 51  Expected years of education, male (galactic years)                                       890 non-null    float64\n",
      " 52  Maternal mortality ratio (deaths per 100,000 live births)                                890 non-null    float64\n",
      " 53  Renewable energy consumption (% of total final energy consumption)                       890 non-null    float64\n",
      " 54  Estimated gross galactic income per capita, male                                         890 non-null    float64\n",
      " 55  Estimated gross galactic income per capita, female                                       890 non-null    float64\n",
      " 56  Rural population with access to electricity (%)                                          890 non-null    float64\n",
      " 57  Domestic credit provided by financial sector (% of GGP)                                  890 non-null    float64\n",
      " 58  Population with at least some secondary education, female (% ages 25 and older)          890 non-null    float64\n",
      " 59  Population with at least some secondary education, male (% ages 25 and older)            890 non-null    float64\n",
      " 60  Gross fixed capital formation (% of GGP)                                                 890 non-null    float64\n",
      " 61  Remittances, inflows (% of GGP)                                                          890 non-null    float64\n",
      " 62  Population with at least some secondary education (% ages 25 and older)                  890 non-null    float64\n",
      " 63  Intergalactic inbound tourists (thousands)                                               890 non-null    float64\n",
      " 64  Gross enrolment ratio, primary (% of primary under-age population)                       890 non-null    float64\n",
      " 65  Respiratory disease incidence (per 100,000 people)                                       890 non-null    float64\n",
      " 66  Interstellar phone subscriptions (per 100 people)                                        890 non-null    float64\n",
      " 67  Interstellar Data Net users, total (% of population)                                     890 non-null    float64\n",
      " 68  Current health expenditure (% of GGP)                                                    890 non-null    float64\n",
      " 69  Intergalactic Development Index (IDI), female                                            890 non-null    float64\n",
      " 70  Intergalactic Development Index (IDI), male                                              890 non-null    float64\n",
      " 71  Gender Development Index (GDI)                                                           890 non-null    float64\n",
      " 72  Intergalactic Development Index (IDI), female, Rank                                      890 non-null    float64\n",
      " 73  Intergalactic Development Index (IDI), male, Rank                                        890 non-null    float64\n",
      " 74  Adjusted net savings                                                                     890 non-null    float64\n",
      " 75  Creature Immunodeficiency Disease prevalence, adult (% ages 15-49), total                890 non-null    float64\n",
      " 76  Private galaxy capital flows (% of GGP)                                                  890 non-null    float64\n",
      " 77  Gender Inequality Index (GII)                                                            890 non-null    float64\n",
      "dtypes: float64(77), int64(1)\n",
      "memory usage: 542.5 KB\n"
     ]
    }
   ],
   "source": [
    "test.info()"
   ]
  },
  {
   "cell_type": "code",
   "execution_count": 15,
   "id": "f5d64d88",
   "metadata": {},
   "outputs": [],
   "source": [
    "# Split the data into features and target\n",
    "X = train.drop('y', axis=1)\n",
    "y = train['y']\n",
    "\n",
    "# Create a LinearRegression model\n",
    "model = LinearRegression()\n",
    "\n",
    "# Create an RFE model and fit it to the data\n",
    "rfe = RFE(model, n_features_to_select=40)\n",
    "rfe.fit(X, y)\n",
    "\n",
    "# Get the selected feature names\n",
    "selected_features = X.columns[rfe.support_]"
   ]
  },
  {
   "cell_type": "code",
   "execution_count": 16,
   "id": "98139ddb",
   "metadata": {},
   "outputs": [
    {
     "data": {
      "text/html": [
       "<div>\n",
       "<style scoped>\n",
       "    .dataframe tbody tr th:only-of-type {\n",
       "        vertical-align: middle;\n",
       "    }\n",
       "\n",
       "    .dataframe tbody tr th {\n",
       "        vertical-align: top;\n",
       "    }\n",
       "\n",
       "    .dataframe thead th {\n",
       "        text-align: right;\n",
       "    }\n",
       "</style>\n",
       "<table border=\"1\" class=\"dataframe\">\n",
       "  <thead>\n",
       "    <tr style=\"text-align: right;\">\n",
       "      <th></th>\n",
       "      <th>existence expectancy index</th>\n",
       "      <th>existence expectancy at birth</th>\n",
       "      <th>Income Index</th>\n",
       "      <th>Expected years of education (galactic years)</th>\n",
       "      <th>Mean years of education (galactic years)</th>\n",
       "      <th>Intergalactic Development Index (IDI)</th>\n",
       "      <th>Education Index</th>\n",
       "      <th>Intergalactic Development Index (IDI), Rank</th>\n",
       "      <th>Population using at least basic drinking-water services (%)</th>\n",
       "      <th>Gross capital formation (% of GGP)</th>\n",
       "      <th>...</th>\n",
       "      <th>Interstellar phone subscriptions (per 100 people)</th>\n",
       "      <th>Interstellar Data Net users, total (% of population)</th>\n",
       "      <th>Current health expenditure (% of GGP)</th>\n",
       "      <th>Intergalactic Development Index (IDI), female</th>\n",
       "      <th>Intergalactic Development Index (IDI), male</th>\n",
       "      <th>Gender Development Index (GDI)</th>\n",
       "      <th>Adjusted net savings</th>\n",
       "      <th>Creature Immunodeficiency Disease prevalence, adult (% ages 15-49), total</th>\n",
       "      <th>Private galaxy capital flows (% of GGP)</th>\n",
       "      <th>Gender Inequality Index (GII)</th>\n",
       "    </tr>\n",
       "  </thead>\n",
       "  <tbody>\n",
       "    <tr>\n",
       "      <th>0</th>\n",
       "      <td>0.628657</td>\n",
       "      <td>63.125200</td>\n",
       "      <td>0.646039</td>\n",
       "      <td>8.240543</td>\n",
       "      <td>10.283959</td>\n",
       "      <td>0.804246</td>\n",
       "      <td>0.745900</td>\n",
       "      <td>135.129178</td>\n",
       "      <td>101.892238</td>\n",
       "      <td>38.305483</td>\n",
       "      <td>...</td>\n",
       "      <td>116.617049</td>\n",
       "      <td>57.885348</td>\n",
       "      <td>8.837096</td>\n",
       "      <td>0.823561</td>\n",
       "      <td>0.844209</td>\n",
       "      <td>1.008465</td>\n",
       "      <td>19.799548</td>\n",
       "      <td>7.867965</td>\n",
       "      <td>25.365302</td>\n",
       "      <td>0.600733</td>\n",
       "    </tr>\n",
       "    <tr>\n",
       "      <th>1</th>\n",
       "      <td>0.818082</td>\n",
       "      <td>81.004994</td>\n",
       "      <td>0.852246</td>\n",
       "      <td>10.671823</td>\n",
       "      <td>4.742470</td>\n",
       "      <td>0.833624</td>\n",
       "      <td>0.467873</td>\n",
       "      <td>152.522198</td>\n",
       "      <td>101.892238</td>\n",
       "      <td>36.255559</td>\n",
       "      <td>...</td>\n",
       "      <td>116.617049</td>\n",
       "      <td>57.885348</td>\n",
       "      <td>8.837096</td>\n",
       "      <td>0.823561</td>\n",
       "      <td>0.844209</td>\n",
       "      <td>1.008465</td>\n",
       "      <td>19.177926</td>\n",
       "      <td>5.639166</td>\n",
       "      <td>22.785018</td>\n",
       "      <td>0.600733</td>\n",
       "    </tr>\n",
       "    <tr>\n",
       "      <th>2</th>\n",
       "      <td>0.659443</td>\n",
       "      <td>59.570534</td>\n",
       "      <td>0.499762</td>\n",
       "      <td>8.840316</td>\n",
       "      <td>5.583973</td>\n",
       "      <td>0.469110</td>\n",
       "      <td>0.363837</td>\n",
       "      <td>209.813266</td>\n",
       "      <td>101.892238</td>\n",
       "      <td>18.093991</td>\n",
       "      <td>...</td>\n",
       "      <td>116.617049</td>\n",
       "      <td>57.885348</td>\n",
       "      <td>8.837096</td>\n",
       "      <td>0.823561</td>\n",
       "      <td>0.844209</td>\n",
       "      <td>1.008465</td>\n",
       "      <td>21.151265</td>\n",
       "      <td>6.534020</td>\n",
       "      <td>22.261474</td>\n",
       "      <td>0.600733</td>\n",
       "    </tr>\n",
       "    <tr>\n",
       "      <th>3</th>\n",
       "      <td>0.555862</td>\n",
       "      <td>52.333293</td>\n",
       "      <td>0.825154</td>\n",
       "      <td>14.723296</td>\n",
       "      <td>10.283959</td>\n",
       "      <td>0.804246</td>\n",
       "      <td>0.745900</td>\n",
       "      <td>135.129178</td>\n",
       "      <td>101.892238</td>\n",
       "      <td>32.777913</td>\n",
       "      <td>...</td>\n",
       "      <td>116.617049</td>\n",
       "      <td>57.885348</td>\n",
       "      <td>8.837096</td>\n",
       "      <td>0.823561</td>\n",
       "      <td>0.844209</td>\n",
       "      <td>1.008465</td>\n",
       "      <td>20.613208</td>\n",
       "      <td>5.912194</td>\n",
       "      <td>22.261474</td>\n",
       "      <td>0.600733</td>\n",
       "    </tr>\n",
       "    <tr>\n",
       "      <th>4</th>\n",
       "      <td>0.991196</td>\n",
       "      <td>81.802464</td>\n",
       "      <td>1.131163</td>\n",
       "      <td>13.800672</td>\n",
       "      <td>13.188907</td>\n",
       "      <td>0.910341</td>\n",
       "      <td>0.918353</td>\n",
       "      <td>71.885345</td>\n",
       "      <td>101.892238</td>\n",
       "      <td>34.497468</td>\n",
       "      <td>...</td>\n",
       "      <td>116.617049</td>\n",
       "      <td>57.885348</td>\n",
       "      <td>8.837096</td>\n",
       "      <td>0.823561</td>\n",
       "      <td>0.844209</td>\n",
       "      <td>1.008465</td>\n",
       "      <td>22.385244</td>\n",
       "      <td>5.611753</td>\n",
       "      <td>21.691170</td>\n",
       "      <td>0.577895</td>\n",
       "    </tr>\n",
       "    <tr>\n",
       "      <th>...</th>\n",
       "      <td>...</td>\n",
       "      <td>...</td>\n",
       "      <td>...</td>\n",
       "      <td>...</td>\n",
       "      <td>...</td>\n",
       "      <td>...</td>\n",
       "      <td>...</td>\n",
       "      <td>...</td>\n",
       "      <td>...</td>\n",
       "      <td>...</td>\n",
       "      <td>...</td>\n",
       "      <td>...</td>\n",
       "      <td>...</td>\n",
       "      <td>...</td>\n",
       "      <td>...</td>\n",
       "      <td>...</td>\n",
       "      <td>...</td>\n",
       "      <td>...</td>\n",
       "      <td>...</td>\n",
       "      <td>...</td>\n",
       "      <td>...</td>\n",
       "    </tr>\n",
       "    <tr>\n",
       "      <th>3860</th>\n",
       "      <td>1.029704</td>\n",
       "      <td>82.832063</td>\n",
       "      <td>0.855094</td>\n",
       "      <td>18.578586</td>\n",
       "      <td>10.557143</td>\n",
       "      <td>0.906573</td>\n",
       "      <td>0.862826</td>\n",
       "      <td>144.896214</td>\n",
       "      <td>116.585709</td>\n",
       "      <td>33.794198</td>\n",
       "      <td>...</td>\n",
       "      <td>121.836488</td>\n",
       "      <td>79.897857</td>\n",
       "      <td>10.392312</td>\n",
       "      <td>0.943410</td>\n",
       "      <td>0.902237</td>\n",
       "      <td>1.060532</td>\n",
       "      <td>26.438719</td>\n",
       "      <td>3.023709</td>\n",
       "      <td>29.294865</td>\n",
       "      <td>0.580785</td>\n",
       "    </tr>\n",
       "    <tr>\n",
       "      <th>3861</th>\n",
       "      <td>0.937869</td>\n",
       "      <td>75.877098</td>\n",
       "      <td>0.929494</td>\n",
       "      <td>16.153857</td>\n",
       "      <td>9.151665</td>\n",
       "      <td>0.865822</td>\n",
       "      <td>0.747577</td>\n",
       "      <td>164.692000</td>\n",
       "      <td>121.672753</td>\n",
       "      <td>21.910411</td>\n",
       "      <td>...</td>\n",
       "      <td>157.818080</td>\n",
       "      <td>53.061093</td>\n",
       "      <td>10.296360</td>\n",
       "      <td>0.915225</td>\n",
       "      <td>0.798083</td>\n",
       "      <td>1.055118</td>\n",
       "      <td>20.637654</td>\n",
       "      <td>4.470596</td>\n",
       "      <td>31.085400</td>\n",
       "      <td>0.517558</td>\n",
       "    </tr>\n",
       "    <tr>\n",
       "      <th>3862</th>\n",
       "      <td>1.036144</td>\n",
       "      <td>93.540275</td>\n",
       "      <td>1.085245</td>\n",
       "      <td>21.066473</td>\n",
       "      <td>16.661344</td>\n",
       "      <td>0.983835</td>\n",
       "      <td>1.100779</td>\n",
       "      <td>63.726437</td>\n",
       "      <td>125.376956</td>\n",
       "      <td>33.449932</td>\n",
       "      <td>...</td>\n",
       "      <td>177.621424</td>\n",
       "      <td>116.206334</td>\n",
       "      <td>9.601421</td>\n",
       "      <td>1.097208</td>\n",
       "      <td>1.044890</td>\n",
       "      <td>1.114754</td>\n",
       "      <td>28.154859</td>\n",
       "      <td>5.193997</td>\n",
       "      <td>32.145570</td>\n",
       "      <td>0.363862</td>\n",
       "    </tr>\n",
       "    <tr>\n",
       "      <th>3863</th>\n",
       "      <td>0.939034</td>\n",
       "      <td>78.274427</td>\n",
       "      <td>0.687655</td>\n",
       "      <td>9.388911</td>\n",
       "      <td>8.908748</td>\n",
       "      <td>0.735694</td>\n",
       "      <td>0.602703</td>\n",
       "      <td>216.805701</td>\n",
       "      <td>105.345928</td>\n",
       "      <td>21.174887</td>\n",
       "      <td>...</td>\n",
       "      <td>96.875054</td>\n",
       "      <td>41.923105</td>\n",
       "      <td>4.137744</td>\n",
       "      <td>0.596164</td>\n",
       "      <td>0.754729</td>\n",
       "      <td>0.825864</td>\n",
       "      <td>38.963157</td>\n",
       "      <td>2.854140</td>\n",
       "      <td>27.227179</td>\n",
       "      <td>0.711878</td>\n",
       "    </tr>\n",
       "    <tr>\n",
       "      <th>3864</th>\n",
       "      <td>1.032244</td>\n",
       "      <td>91.641356</td>\n",
       "      <td>1.207746</td>\n",
       "      <td>18.910920</td>\n",
       "      <td>16.202486</td>\n",
       "      <td>1.171634</td>\n",
       "      <td>1.085080</td>\n",
       "      <td>63.924650</td>\n",
       "      <td>111.904849</td>\n",
       "      <td>25.976448</td>\n",
       "      <td>...</td>\n",
       "      <td>177.185255</td>\n",
       "      <td>120.694804</td>\n",
       "      <td>18.252986</td>\n",
       "      <td>1.018083</td>\n",
       "      <td>1.099254</td>\n",
       "      <td>1.032783</td>\n",
       "      <td>23.337587</td>\n",
       "      <td>6.046368</td>\n",
       "      <td>29.957851</td>\n",
       "      <td>0.583706</td>\n",
       "    </tr>\n",
       "  </tbody>\n",
       "</table>\n",
       "<p>3865 rows × 40 columns</p>\n",
       "</div>"
      ],
      "text/plain": [
       "      existence expectancy index  existence expectancy at birth  Income Index  \\\n",
       "0                       0.628657                      63.125200      0.646039   \n",
       "1                       0.818082                      81.004994      0.852246   \n",
       "2                       0.659443                      59.570534      0.499762   \n",
       "3                       0.555862                      52.333293      0.825154   \n",
       "4                       0.991196                      81.802464      1.131163   \n",
       "...                          ...                            ...           ...   \n",
       "3860                    1.029704                      82.832063      0.855094   \n",
       "3861                    0.937869                      75.877098      0.929494   \n",
       "3862                    1.036144                      93.540275      1.085245   \n",
       "3863                    0.939034                      78.274427      0.687655   \n",
       "3864                    1.032244                      91.641356      1.207746   \n",
       "\n",
       "      Expected years of education (galactic years)  \\\n",
       "0                                         8.240543   \n",
       "1                                        10.671823   \n",
       "2                                         8.840316   \n",
       "3                                        14.723296   \n",
       "4                                        13.800672   \n",
       "...                                            ...   \n",
       "3860                                     18.578586   \n",
       "3861                                     16.153857   \n",
       "3862                                     21.066473   \n",
       "3863                                      9.388911   \n",
       "3864                                     18.910920   \n",
       "\n",
       "      Mean years of education (galactic years)  \\\n",
       "0                                    10.283959   \n",
       "1                                     4.742470   \n",
       "2                                     5.583973   \n",
       "3                                    10.283959   \n",
       "4                                    13.188907   \n",
       "...                                        ...   \n",
       "3860                                 10.557143   \n",
       "3861                                  9.151665   \n",
       "3862                                 16.661344   \n",
       "3863                                  8.908748   \n",
       "3864                                 16.202486   \n",
       "\n",
       "      Intergalactic Development Index (IDI)  Education Index  \\\n",
       "0                                  0.804246         0.745900   \n",
       "1                                  0.833624         0.467873   \n",
       "2                                  0.469110         0.363837   \n",
       "3                                  0.804246         0.745900   \n",
       "4                                  0.910341         0.918353   \n",
       "...                                     ...              ...   \n",
       "3860                               0.906573         0.862826   \n",
       "3861                               0.865822         0.747577   \n",
       "3862                               0.983835         1.100779   \n",
       "3863                               0.735694         0.602703   \n",
       "3864                               1.171634         1.085080   \n",
       "\n",
       "      Intergalactic Development Index (IDI), Rank  \\\n",
       "0                                      135.129178   \n",
       "1                                      152.522198   \n",
       "2                                      209.813266   \n",
       "3                                      135.129178   \n",
       "4                                       71.885345   \n",
       "...                                           ...   \n",
       "3860                                   144.896214   \n",
       "3861                                   164.692000   \n",
       "3862                                    63.726437   \n",
       "3863                                   216.805701   \n",
       "3864                                    63.924650   \n",
       "\n",
       "      Population using at least basic drinking-water services (%)  \\\n",
       "0                                            101.892238             \n",
       "1                                            101.892238             \n",
       "2                                            101.892238             \n",
       "3                                            101.892238             \n",
       "4                                            101.892238             \n",
       "...                                                 ...             \n",
       "3860                                         116.585709             \n",
       "3861                                         121.672753             \n",
       "3862                                         125.376956             \n",
       "3863                                         105.345928             \n",
       "3864                                         111.904849             \n",
       "\n",
       "      Gross capital formation (% of GGP)  ...  \\\n",
       "0                              38.305483  ...   \n",
       "1                              36.255559  ...   \n",
       "2                              18.093991  ...   \n",
       "3                              32.777913  ...   \n",
       "4                              34.497468  ...   \n",
       "...                                  ...  ...   \n",
       "3860                           33.794198  ...   \n",
       "3861                           21.910411  ...   \n",
       "3862                           33.449932  ...   \n",
       "3863                           21.174887  ...   \n",
       "3864                           25.976448  ...   \n",
       "\n",
       "      Interstellar phone subscriptions (per 100 people)  \\\n",
       "0                                            116.617049   \n",
       "1                                            116.617049   \n",
       "2                                            116.617049   \n",
       "3                                            116.617049   \n",
       "4                                            116.617049   \n",
       "...                                                 ...   \n",
       "3860                                         121.836488   \n",
       "3861                                         157.818080   \n",
       "3862                                         177.621424   \n",
       "3863                                          96.875054   \n",
       "3864                                         177.185255   \n",
       "\n",
       "      Interstellar Data Net users, total (% of population)  \\\n",
       "0                                             57.885348      \n",
       "1                                             57.885348      \n",
       "2                                             57.885348      \n",
       "3                                             57.885348      \n",
       "4                                             57.885348      \n",
       "...                                                 ...      \n",
       "3860                                          79.897857      \n",
       "3861                                          53.061093      \n",
       "3862                                         116.206334      \n",
       "3863                                          41.923105      \n",
       "3864                                         120.694804      \n",
       "\n",
       "      Current health expenditure (% of GGP)  \\\n",
       "0                                  8.837096   \n",
       "1                                  8.837096   \n",
       "2                                  8.837096   \n",
       "3                                  8.837096   \n",
       "4                                  8.837096   \n",
       "...                                     ...   \n",
       "3860                              10.392312   \n",
       "3861                              10.296360   \n",
       "3862                               9.601421   \n",
       "3863                               4.137744   \n",
       "3864                              18.252986   \n",
       "\n",
       "      Intergalactic Development Index (IDI), female  \\\n",
       "0                                          0.823561   \n",
       "1                                          0.823561   \n",
       "2                                          0.823561   \n",
       "3                                          0.823561   \n",
       "4                                          0.823561   \n",
       "...                                             ...   \n",
       "3860                                       0.943410   \n",
       "3861                                       0.915225   \n",
       "3862                                       1.097208   \n",
       "3863                                       0.596164   \n",
       "3864                                       1.018083   \n",
       "\n",
       "      Intergalactic Development Index (IDI), male  \\\n",
       "0                                        0.844209   \n",
       "1                                        0.844209   \n",
       "2                                        0.844209   \n",
       "3                                        0.844209   \n",
       "4                                        0.844209   \n",
       "...                                           ...   \n",
       "3860                                     0.902237   \n",
       "3861                                     0.798083   \n",
       "3862                                     1.044890   \n",
       "3863                                     0.754729   \n",
       "3864                                     1.099254   \n",
       "\n",
       "      Gender Development Index (GDI)  Adjusted net savings   \\\n",
       "0                           1.008465              19.799548   \n",
       "1                           1.008465              19.177926   \n",
       "2                           1.008465              21.151265   \n",
       "3                           1.008465              20.613208   \n",
       "4                           1.008465              22.385244   \n",
       "...                              ...                    ...   \n",
       "3860                        1.060532              26.438719   \n",
       "3861                        1.055118              20.637654   \n",
       "3862                        1.114754              28.154859   \n",
       "3863                        0.825864              38.963157   \n",
       "3864                        1.032783              23.337587   \n",
       "\n",
       "      Creature Immunodeficiency Disease prevalence, adult (% ages 15-49), total  \\\n",
       "0                                              7.867965                           \n",
       "1                                              5.639166                           \n",
       "2                                              6.534020                           \n",
       "3                                              5.912194                           \n",
       "4                                              5.611753                           \n",
       "...                                                 ...                           \n",
       "3860                                           3.023709                           \n",
       "3861                                           4.470596                           \n",
       "3862                                           5.193997                           \n",
       "3863                                           2.854140                           \n",
       "3864                                           6.046368                           \n",
       "\n",
       "      Private galaxy capital flows (% of GGP)  Gender Inequality Index (GII)  \n",
       "0                                   25.365302                       0.600733  \n",
       "1                                   22.785018                       0.600733  \n",
       "2                                   22.261474                       0.600733  \n",
       "3                                   22.261474                       0.600733  \n",
       "4                                   21.691170                       0.577895  \n",
       "...                                       ...                            ...  \n",
       "3860                                29.294865                       0.580785  \n",
       "3861                                31.085400                       0.517558  \n",
       "3862                                32.145570                       0.363862  \n",
       "3863                                27.227179                       0.711878  \n",
       "3864                                29.957851                       0.583706  \n",
       "\n",
       "[3865 rows x 40 columns]"
      ]
     },
     "execution_count": 16,
     "metadata": {},
     "output_type": "execute_result"
    }
   ],
   "source": [
    "train[selected_features]"
   ]
  },
  {
   "cell_type": "code",
   "execution_count": 17,
   "id": "d1b976d1",
   "metadata": {},
   "outputs": [
    {
     "name": "stdout",
     "output_type": "stream",
     "text": [
      "The model performance for testing set\n",
      "--------------------------------------\n",
      "MAE is 0.017959706979882556\n",
      "MSE is 0.0011031887036749418\n",
      "R2 score is 0.7048509687990474\n"
     ]
    }
   ],
   "source": [
    "X = train[selected_features]\n",
    "y = train['y']\n",
    "\n",
    "dmatrix = xgb.DMatrix(X, y)\n",
    "\n",
    "X_train, X_test, y_train, y_test = train_test_split(X, y, test_size=0.2, random_state=42)\n",
    "\n",
    "model = xgb.XGBRegressor()\n",
    "model.fit(X_train, y_train)\n",
    "\n",
    "y_pred_xgb = model.predict(X_test)\n",
    "mae = metrics.mean_absolute_error(y_test, y_pred_xgb)\n",
    "mse = metrics.mean_squared_error(y_test, y_pred_xgb)\n",
    "r2 = metrics.r2_score(y_test, y_pred_xgb)\n",
    "\n",
    "print(\"The model performance for testing set\")\n",
    "print(\"--------------------------------------\")\n",
    "print('MAE is {}'.format(mae))\n",
    "print('MSE is {}'.format(mse))\n",
    "print('R2 score is {}'.format(r2))"
   ]
  },
  {
   "cell_type": "code",
   "execution_count": null,
   "id": "0f882717",
   "metadata": {},
   "outputs": [],
   "source": [
    "params = {\n",
    "        'learning_rate': [0.1, 0.2, 0.4, 0.8, 1.5],\n",
    "        'min_child_weight': [1, 5, 10],\n",
    "        'gamma': [0.5, 1, 1.5, 2, 5],\n",
    "        'subsample': [0.6, 0.8, 1.0],\n",
    "        'colsample_bytree': [0.6, 0.8, 1.0],\n",
    "        'max_depth': [3, 4, 5]\n",
    "        }\n",
    "# Define the XGBoost model\n",
    "dmatrix = xgb.DMatrix(X, y)\n",
    "model = xgb.XGBRegressor()\n",
    "\n",
    "# Define the parameter grid\n",
    "param_grid = {\n",
    "    'max_depth': [3, 4, 5],\n",
    "    'learning_rate': [0.1, 0.2, 0.3],\n",
    "    'n_estimators': [100, 200, 300]\n",
    "}\n",
    "\n",
    "# Create a GridSearchCV object with 5-fold cross-validation\n",
    "grid_search = GridSearchCV(model, param_grid, cv=5)\n",
    "\n",
    "# Fit the GridSearchCV object to the data\n",
    "grid_search.fit(X, y)"
   ]
  },
  {
   "cell_type": "code",
   "execution_count": null,
   "id": "eeba44a4",
   "metadata": {},
   "outputs": [],
   "source": [
    "grid_search.best_estimator_"
   ]
  },
  {
   "cell_type": "code",
   "execution_count": null,
   "id": "b4b24380",
   "metadata": {},
   "outputs": [],
   "source": [
    "dmatrix = xgb.DMatrix(X, y)\n",
    "new_model = XGBRegressor(**best_model.get_params())\n",
    "new_model.fit(X_train, y_train)\n",
    "\n",
    "y_pred_xgb = new_model.predict(X_test)\n",
    "mae = metrics.mean_absolute_error(y_test, y_pred_xgb)\n",
    "mse = metrics.mean_squared_error(y_test, y_pred_xgb)\n",
    "r2 = metrics.r2_score(y_test, y_pred_xgb)\n",
    "\n",
    "print(\"The model performance for testing set\")\n",
    "print(\"--------------------------------------\")\n",
    "print('MAE is {}'.format(mae))\n",
    "print('MSE is {}'.format(mse))\n",
    "print('R2 score is {}'.format(r2))"
   ]
  },
  {
   "cell_type": "code",
   "execution_count": null,
   "id": "250cf1bc",
   "metadata": {},
   "outputs": [],
   "source": []
  }
 ],
 "metadata": {
  "kernelspec": {
   "display_name": "Python 3 (ipykernel)",
   "language": "python",
   "name": "python3"
  },
  "language_info": {
   "codemirror_mode": {
    "name": "ipython",
    "version": 3
   },
   "file_extension": ".py",
   "mimetype": "text/x-python",
   "name": "python",
   "nbconvert_exporter": "python",
   "pygments_lexer": "ipython3",
   "version": "3.9.7"
  }
 },
 "nbformat": 4,
 "nbformat_minor": 5
}
